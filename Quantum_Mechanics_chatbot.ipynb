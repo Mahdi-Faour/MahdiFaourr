{
  "nbformat": 4,
  "nbformat_minor": 0,
  "metadata": {
    "colab": {
      "provenance": [],
      "authorship_tag": "ABX9TyNl7X+GahjD/9nX2pwVq0WV",
      "include_colab_link": true
    },
    "kernelspec": {
      "name": "python3",
      "display_name": "Python 3"
    },
    "language_info": {
      "name": "python"
    }
  },
  "cells": [
    {
      "cell_type": "markdown",
      "metadata": {
        "id": "view-in-github",
        "colab_type": "text"
      },
      "source": [
        "<a href=\"https://colab.research.google.com/github/MahdiFaourr/MahdiFaourr/blob/main/Quantum_Mechanics_chatbot.ipynb\" target=\"_parent\"><img src=\"https://colab.research.google.com/assets/colab-badge.svg\" alt=\"Open In Colab\"/></a>"
      ]
    },
    {
      "cell_type": "code",
      "source": [
        "!pip install -qU \\\n",
        "    openai==1.6.1 \\\n",
        "    langchain==0.1.1 \\\n",
        "    langchain-community==0.0.13 \\\n",
        "    tiktoken==0.5.2 \\\n",
        "    datasets==2.12.0"
      ],
      "metadata": {
        "id": "xMnWJxOtJLzG"
      },
      "execution_count": null,
      "outputs": []
    },
    {
      "cell_type": "code",
      "source": [
        "!pip install faiss-cpu\n",
        "!pip install unstructured\n",
        "!pip install pdf2image\n",
        "!pip install pdfminer\n",
        "!pip install faiss-cpu\n",
        "!pip install pdfminer.six\n",
        "!pip install pillow-heif\n",
        "!pip install unstructured_inference\n",
        "!pip install pikepdf\n",
        "!pip install pypdf"
      ],
      "metadata": {
        "id": "LNo5AcgctFjM"
      },
      "execution_count": null,
      "outputs": []
    },
    {
      "cell_type": "code",
      "source": [
        "from langchain.chat_models import ChatOpenAI\n",
        "from langchain.embeddings import OpenAIEmbeddings\n",
        "from langchain.chains.question_answering import load_qa_chain\n",
        "from langchain.llms import OpenAI\n",
        "from langchain.prompts import PromptTemplate\n",
        "import os\n",
        "from langchain.document_loaders import UnstructuredPDFLoader\n",
        "from langchain.text_splitter import RecursiveCharacterTextSplitter, CharacterTextSplitter\n",
        "from langchain import PromptTemplate\n",
        "from langchain.vectorstores import FAISS\n",
        "from langchain.chains import VectorDBQA"
      ],
      "metadata": {
        "id": "16pDxHtaJU2p"
      },
      "execution_count": null,
      "outputs": []
    },
    {
      "cell_type": "code",
      "source": [
        "# get API key from top-right dropdown on OpenAI website\n",
        "os.environ['OPENAI_API_KEY']= \" use your api key \"\n",
        "model_name = 'text-embedding-ada-002'\n",
        "embed = OpenAIEmbeddings(\n",
        "    model=model_name,\n",
        "    openai_api_key=\" use your api key\"\n",
        ")"
      ],
      "metadata": {
        "id": "9HhyFNVCuTNQ"
      },
      "execution_count": null,
      "outputs": []
    },
    {
      "cell_type": "code",
      "source": [
        "chain = load_qa_chain(\n",
        "    llm=ChatOpenAI(\n",
        "        openai_api_key=\"use your api key\",\n",
        "        model_name=\"gpt-3.5-turbo\", temperature = 0,\n",
        "             max_tokens = 500,\n",
        "             top_p = 1,\n",
        "             frequency_penalty = 0,\n",
        "             presence_penalty = 0),chain_type = \"stuff\")\n"
      ],
      "metadata": {
        "id": "3Jg3iZR4L6iq"
      },
      "execution_count": null,
      "outputs": []
    },
    {
      "cell_type": "code",
      "source": [
        "# The url of the book: https://icourse.club/uploads/files/65fb4c16648d2b93f82fe3271c3381c211f2f532.pdf"
      ],
      "metadata": {
        "id": "C6tDMoJ_Rf_g"
      },
      "execution_count": null,
      "outputs": []
    },
    {
      "cell_type": "code",
      "source": [
        "loader=UnstructuredPDFLoader('/content/quantum2.pdf')\n",
        "data=loader.load()"
      ],
      "metadata": {
        "id": "XeWO_vf7MDke"
      },
      "execution_count": null,
      "outputs": []
    },
    {
      "cell_type": "code",
      "source": [
        "print(f\"you have {len(data)} document.\")\n",
        "print(f\"There are {len(data[0].page_content)} characters in your document(s).\")"
      ],
      "metadata": {
        "id": "tilOi0WeOcbn",
        "colab": {
          "base_uri": "https://localhost:8080/"
        },
        "outputId": "5cfe37d5-664e-4895-9a7c-66919d186903"
      },
      "execution_count": null,
      "outputs": [
        {
          "output_type": "stream",
          "name": "stdout",
          "text": [
            "you have 1 document.\n",
            "There are 1243380 characters in your document(s).\n"
          ]
        }
      ]
    },
    {
      "cell_type": "code",
      "source": [
        "text_splitter=RecursiveCharacterTextSplitter(chunk_size=2000,chunk_overlap=100)"
      ],
      "metadata": {
        "id": "8nZfiQzuPhKt"
      },
      "execution_count": null,
      "outputs": []
    },
    {
      "cell_type": "code",
      "source": [
        "texts=text_splitter.split_documents(data)"
      ],
      "metadata": {
        "id": "l4WdqbHMPhRQ"
      },
      "execution_count": null,
      "outputs": []
    },
    {
      "cell_type": "code",
      "source": [
        "print(f\"Now you have {len(texts)} document.\")"
      ],
      "metadata": {
        "colab": {
          "base_uri": "https://localhost:8080/"
        },
        "id": "eQZdJKD2PhY_",
        "outputId": "9b972dac-a556-43e1-e5b3-4c62cfdace31"
      },
      "execution_count": null,
      "outputs": [
        {
          "output_type": "stream",
          "name": "stdout",
          "text": [
            "Now you have 693 document.\n"
          ]
        }
      ]
    },
    {
      "cell_type": "code",
      "source": [
        "texts"
      ],
      "metadata": {
        "id": "0ah-RntH3L2E"
      },
      "execution_count": null,
      "outputs": []
    },
    {
      "cell_type": "code",
      "source": [
        "vectors=FAISS.from_documents(texts,embed)"
      ],
      "metadata": {
        "id": "rz-5SWNexYJa"
      },
      "execution_count": null,
      "outputs": []
    },
    {
      "cell_type": "code",
      "source": [
        "def Quantum_Mechanics_Bot(query):\n",
        "\n",
        "    # Perform similarity search\n",
        "    docs = vectors.similarity_search(query)\n",
        "\n",
        "    # Run question-answering model or pipeline\n",
        "    response = chain.run(input_documents=docs, question=query)\n",
        "\n",
        "    # Initialize VectorDBQA instance\n",
        "    qa = VectorDBQA(\n",
        "        vectorstore=vectors,\n",
        "        return_source_documents=True,\n",
        "        combine_documents_chain=chain,\n",
        "        k=3\n",
        "    )\n",
        "\n",
        "    # Retrieve source documents\n",
        "    source = qa(query)['source_documents']\n",
        "\n",
        "    # Return response and source documents\n",
        "    return f\"\"\" The Completion: {response}\n",
        "\n",
        "    The Source: {source}\"\"\""
      ],
      "metadata": {
        "id": "s8VJLiv8_Gpl"
      },
      "execution_count": null,
      "outputs": []
    },
    {
      "cell_type": "code",
      "source": [
        "# Example usage 1\n",
        "query=\"What is the Schrödinger equation, and could you provide its formula?\"\n",
        "print(Quantum_Mechanics_Bot(query))"
      ],
      "metadata": {
        "id": "a4d6c4xcUMfO",
        "colab": {
          "base_uri": "https://localhost:8080/"
        },
        "outputId": "f7ba42ae-c6bc-4eb1-faff-07f1f610b7c2"
      },
      "execution_count": null,
      "outputs": [
        {
          "output_type": "stream",
          "name": "stderr",
          "text": [
            "/usr/local/lib/python3.10/dist-packages/langchain/chains/retrieval_qa/base.py:256: UserWarning: `VectorDBQA` is deprecated - please use `from langchain.chains import RetrievalQA`\n",
            "  warnings.warn(\n"
          ]
        },
        {
          "output_type": "stream",
          "name": "stdout",
          "text": [
            " The Completion: The Schrödinger equation is a fundamental equation in quantum mechanics that describes how the quantum state of a physical system changes over time. The formula for the time-dependent Schrödinger equation is:\n",
            "\n",
            "iħ ∂Ψ/∂t = HΨ\n",
            "\n",
            "Where:\n",
            "- i is the imaginary unit,\n",
            "- ħ is the reduced Planck constant,\n",
            "- ∂Ψ/∂t is the partial derivative of the wave function Ψ with respect to time,\n",
            "- H is the Hamiltonian operator representing the total energy of the system. \n",
            "\n",
            "    The Source: [Document(page_content='71\\n\\n2.1 Time Evolution and the Schrödinger Equation\\n\\nSx− at some later time. The sum of the two probabilities is seen to be unity at all times, in agreement with the unitarity property of the time-evolution operator.\\n\\nUsing (1.99), we can write the expectation value of Sx as (cid:15)\\n\\n(cid:16)\\n\\n(cid:15)\\n\\n(cid:4) ωt 2\\n\\n(cid:5)\\n\\n−¯h 2\\n\\n¯h 2 ¯h 2\\n\\n(cid:10)Sx(cid:8) =\\n\\ncos2\\n\\n+\\n\\n(cid:15)\\n\\n(cid:16)\\n\\ncos ωt,\\n\\n=\\n\\n(cid:16)\\n\\nsin2\\n\\n(cid:4) ωt 2\\n\\n(cid:5)\\n\\nso this quantity oscillates with an angular frequency corresponding to the difference of the two energy eigenvalues divided by ¯h, in agreement with our general formula (2.47). Similar exercises with Sy and Sz show that\\n\\n(cid:10)Sy(cid:8) =\\n\\n(cid:15)\\n\\n¯h 2\\n\\n(cid:16)\\n\\nsin ωt\\n\\nand\\n\\n(cid:10)Sz(cid:8) = 0.\\n\\nPhysically this means that the spin precesses in the xy-plane. We will comment further on spin precession when we discuss rotation operators in Chapter 3.\\n\\nExperimentally, spin precession is well established. In fact, it is used as a tool for other investigations of fundamental quantum-mechanical phenomena. For example, the form of the Hamiltonian (2.49) can be derived for pointlike particles, such as electrons or muons, which obey the Dirac equation, for which the gyromagnetic ratio g = 2. (See Section 8.2.) However, higher-order corrections from quantum ﬁeld theory predict a small but precisely calculable deviation from this, and it is a high priority to produce competitively precise measurements of g − 2.', metadata={'source': '/content/quantum2.pdf'}), Document(page_content='2.1 Time Evolution and the Schrödinger Equation\\n\\nThe ﬁrst important point we should keep in mind is that time is just a parameter in quantum mechanics, not an operator. In particular, time is not an observable in the language of the previous chapter. It is nonsensical to talk about the time operator in the same sense as we talk about the position operator. Ironically, in the historical development of wave mechanics both L. de Broglie and E. Schr¨odinger were guided by a kind of covariant analogy between energy and time on the one hand and momentum and position (spatial coordinate) on the other. Yet when we now look at quantum mechanics in its ﬁnished form, there is no trace of a symmetrical treatment between time and space. The relativistic quantum theory of ﬁelds does treat the time and space coordinates on the same footing, but it does so only at the expense of demoting position from the status of being an observable to that of being just a parameter.\\n\\n2.1.1 Time-Evolution Operator\\n\\nOur basic concern in this section is, How does a state ket change with time? Suppose we have a physical system whose state ket at t0 is represented by |α(cid:8). At later times, we do not, in general, expect the system to remain in the same state |α(cid:8). Let us denote the ket corresponding to the state at some later time by\\n\\n|α, t0; t(cid:8)\\n\\n(t > t0),\\n\\nwhere we have written α, t0 to remind ourselves that the system used to be in state |α(cid:8) at some earlier reference time t0. Because time is assumed to be a continuous parameter, we expect\\n\\nlim t→t0\\n\\n|α, t0; t(cid:8) = |α(cid:8)\\n\\n(2.1)\\n\\n(2.2)\\n\\n63\\n\\n2.1 Time Evolution and the Schrödinger Equation\\n\\nand we may as well use a shorthand notation,\\n\\n|α, t0; t0(cid:8) = |α, t0(cid:8),\\n\\nfor this. Our basic task is to study the time evolution of a state ket:\\n\\n|α, t0(cid:8) = |α(cid:8) time evolution\\n\\n−−−−−−−→ |α, t0; t(cid:8).\\n\\nPut in another way, we are interested in asking how the state ket changes under a time displacement t0 → t.', metadata={'source': '/content/quantum2.pdf'}), Document(page_content='(2.89)\\n\\n(2.90a)\\n\\n(2.90b)\\n\\n(2.91)\\n\\n(2.92)\\n\\n(2.93)\\n\\n(2.94)\\n\\n79\\n\\n2.2 The Schrödinger Versus the Heisenberg Picture\\n\\n#\\n\\n$\\n\\ndS(H) i dt\\n\\n1 i¯h which can be used to discuss spin precession, but this equation has no classical counterpart because Sz cannot be written as a function of q and p. Rather than insisting on Dirac’s rule, (1.229), we may argue that for quantities possessing classical counterparts, the correct classical equation can be obtained from the corresponding quantum-mechanical equation via the ansatz,\\n\\nS(H) i\\n\\n=\\n\\n, H\\n\\n,\\n\\n[ , ] i¯h\\n\\n→ [ , ]classical .\\n\\nClassical mechanics can be derived from quantum mechanics, but the opposite is not true.4\\n\\n2.2.4 Free Particles: Ehrenfest’s Theorem\\n\\nWhether we work in the Schr¨odinger picture or in the Heisenberg picture, to be able to use the equations of motion we must ﬁrst learn how to construct the appropriate Hamiltonian operator. For a physical system with classical analogues, we assume the Hamiltonian to be of the same form as in classical physics; we merely replace the classical xi and pi by the corresponding operators in quantum mechanics. With this assumption we can reproduce the correct classical equations in the classical limit. Whenever an ambiguity arises because of noncommuting observables, we attempt to resolve it by requiring H to be Hermitian; for instance, we write the quantum-mechanical analogue of the classical product xp as 1 2 (xp + px). When the physical system in question has no classical analogues, we can only guess the structure of the Hamiltonian operator. We try various forms until we get the Hamiltonian that leads to results agreeing with empirical observation.\\n\\nIn practical applications it is often necessary to evaluate the commutator of xi (or pi)\\n\\nwith functions of xj and pj. To this end the following formulas are found to be useful:\\n\\n[xi, F(p)] = i¯h\\n\\n∂F ∂pi\\n\\nand\\n\\n[ pi, G(x)] = −i¯h\\n\\n∂G ∂xi\\n\\n,', metadata={'source': '/content/quantum2.pdf'})]\n"
          ]
        }
      ]
    },
    {
      "cell_type": "code",
      "source": [
        "# Example usage 2\n",
        "query=\"Could you provide the formula that describes the principle of superposition?\"\n",
        "print(Quantum_Mechanics_Bot(query))"
      ],
      "metadata": {
        "id": "8f0q6dbnUMih",
        "colab": {
          "base_uri": "https://localhost:8080/"
        },
        "outputId": "829e5298-81cf-41e4-e3ed-5ec1f45236cb"
      },
      "execution_count": null,
      "outputs": [
        {
          "output_type": "stream",
          "name": "stderr",
          "text": [
            "/usr/local/lib/python3.10/dist-packages/langchain/chains/retrieval_qa/base.py:256: UserWarning: `VectorDBQA` is deprecated - please use `from langchain.chains import RetrievalQA`\n",
            "  warnings.warn(\n"
          ]
        },
        {
          "output_type": "stream",
          "name": "stdout",
          "text": [
            " The Completion: The principle of superposition in quantum mechanics is often described using the following formula:\n",
            "\n",
            "ψ = ∑ Cnψn\n",
            "\n",
            "where ψ represents the total wave function, Cn are the coefficients, and ψn are the individual wave functions that are being superimposed. \n",
            "\n",
            "    The Source: [Document(page_content='What is interesting about expression (2.337) is that its magnitude is neither too small nor too large; it is just right for this interesting effect to be detected with thermal neutrons traveling through paths of “table-top” dimensions. For λ = 1.42 ˚A (comparable ngl1l2λ/¯h2. to interatomic spacing in silicon) and l1l2 = 10 cm2, we obtain 55.6 for m2 As we rotate the loop plane gradually by 90◦, we predict the intensity in the inter- ference region to exhibit a series of maxima and minima; quantitatively we should see 55.6/2π (cid:3) 9 oscillations. It is extraordinary that such an effect has indeed been observed experimentally; see Figure 2.10 taken from a 1975 experiment of R. Colella, A. Overhauser, and S. A. Werner. The phase shift due to gravity is seen to be veriﬁed to well within 1%.\\n\\nWe emphasize that this effect is purely quantum mechanical because as ¯h → 0, the interference pattern gets washed out. The gravitational potential has been shown to enter into the Schr¨odinger equation just as expected. This experiment also shows that gravity is not purely geometric at the quantum level because the effect depends on (m/¯h)2.14\\n\\n14 However, this does not imply that the equivalence principle is unimportant in understanding an effect of this sort. If the gravitational mass (mgrav) and inertial mass (minert) were unequal, (m/¯h)2 would have to be replaced by mgravminert/¯h2. The fact that we could correctly predict the interference pattern without making a distinction between mgrav and minert shows some support for the equivalence principle at the quantum level.\\n\\n126\\n\\nQuantum Dynamics\\n\\n2.7.3 Gauge Transformations in Electromagnetism\\n\\nLet us now turn to potentials that appear in electromagnetism. We consider an electric and a magnetic ﬁeld derivable from the time-independent scalar and vector potential, φ(x) and A(x):\\n\\nE = −∇φ, B = ∇ × A.', metadata={'source': '/content/quantum2.pdf'}), Document(page_content='Fortunately, there is a theorem which evaluates this difference. It is called the Euler–\\n\\nMaclaurin summation formula and can be written as\\n\\n(cid:21) ∞\\n\\n∞\\n\\nF(0) 2\\n\\nF(x)dx = − 1 12\\n\\n∑\\n\\nF(i) −\\n\\n+\\n\\n0\\n\\ni=1\\n\\nF(cid:5)(0) +\\n\\n1 720\\n\\nF(cid:5)(cid:5)(cid:5)(0) +· · · .\\n\\n(7.189)\\n\\nThe derivatives can be calculated using (7.186b). Since F(x) → 0 as x → ∞, we have\\n\\n(cid:4) π d\\n\\n(cid:5) y\\n\\nF(cid:5)(y) =− 2y2f\\n\\n(7.190)\\n\\nwhich gives F(cid:5)(0) =0. If we make one further, but natural, assumption about the cutoff function f (k), namely that all of its derivatives go to zero as k → 0, then we are only left with the third derivative term in (7.189). In fact, F(cid:5)(cid:5)(cid:5)(0) =− 4 and\\n\\nU(d) =\\n\\nπ2 ¯hc 4d3 L2\\n\\n(cid:2)\\n\\n−4 720\\n\\n(cid:3)\\n\\n= −\\n\\nπ2 ¯hc 720d3 L2.\\n\\n(7.191)\\n\\nSo, ﬁnally, we derive the Casimir force (per unit area) to be π2 ¯hc 240d4 .\\n\\n(cid:15)\\n\\n(cid:16)\\n\\n1 L2\\n\\n− dU dd\\n\\nF (d) =\\n\\n= −\\n\\n(7.192)\\n\\n471\\n\\nFig. 7.10\\n\\n7.8 Quantization of the Electromagnetic Field\\n\\n20\\n\\n0\\n\\nPhotodiodes\\n\\nB\\n\\nA\\n\\nLaser\\n\\n)\\n\\nN\\n\\n2 1 − 0 1 (\\n\\n−20\\n\\n−40\\n\\nC a n t i l e v e r\\n\\ne c r o f\\n\\n−60\\n\\nr i\\n\\nSphere\\n\\nd\\n\\nm\\n\\ni s a C\\n\\n−80\\n\\n−100\\n\\nPlate\\n\\n−120\\n\\nPiezo\\n\\n100\\n\\n200\\n\\n300 700 500 Plate-sphere separation (nm)\\n\\n400\\n\\n600\\n\\n800\\n\\n900\\n\\nExperimental verification of the Casimir effect, from Mohideen and Anushree Phys. Rev. Lett., 81 (1998) 4549. For experimental reasons, the force is measured between a metallic sphere and a flat plate, rather than two flat plates. A laser precisely measures the small deflection, from which the force is deduced. The force (measured in 10−12 N) varies as a function of separation between the sphere and the plate, in excellent agreement with the prediction, shown by the line through the data points, based on a quantized electromagnetic field.\\n\\nThus, there is an attractive force between the plates which varies as the inverse fourth power of the separation, due to the reconﬁguration of the vacuum energy in the quantized electromagnetic ﬁeld.', metadata={'source': '/content/quantum2.pdf'}), Document(page_content='7.8.1 Maxwell’s Equations in Free Space\\n\\nIn the absence of any charges or currents, Maxwell’s equations (in Gaussian units; see Appendix A) take the form\\n\\n∇ · E = 0 ∇ · B = 0 ∂B 1 ∂t c ∂E ∇ × B − 1 ∂t c\\n\\n∇ × E +\\n\\n= 0\\n\\n= 0.\\n\\nFollowing standard procedure, we postulate a vector potential A(x, t) such that\\n\\nB = ∇ × A\\n\\nwhich means that (7.160b) is immediately satisﬁed. If we impose the further condition\\n\\n∇ · A = 0\\n\\n(which is known as “choosing the Coulomb gauge”) then\\n\\nE = − 1 c\\n\\n∂A ∂t\\n\\nmeans that (7.160a) and (7.160c) are also satisﬁed. Therefore, determining A(x, t) is equivalent to determining E(x, t) and B(x, t). A solution for A(x, t) is evident, though, by observing that (7.160d) leads directly to\\n\\n∇2A − 1 c2\\n\\n∂2A ∂t2 = 0.\\n\\nThat is, A(x, t) satisﬁes the wave equation, with wave speed c, just as we might have guessed.\\n\\nThe set of solutions to (7.164) are naturally written as A(x, t) =A(k)e ±ik·xe±iωt\\n\\nwhere ω = ωk ≡ |k|c = kc for the solution to be valid. The Coulomb gauge condition (7.162) implies that ±ik · A(x, t) = 0 or\\n\\nk · A(k) =0.\\n\\n(7.160a)\\n\\n(7.160b)\\n\\n(7.160c)\\n\\n(7.160d)\\n\\n(7.161)\\n\\n(7.162)\\n\\n(7.163)\\n\\n(7.164)\\n\\n(7.165)\\n\\n(7.166)\\n\\n466\\n\\nIdentical Particles\\n\\nIn other words, A(x, t) is perpendicular to the propagation direction k. For this reason, the Coulomb gauge is frequently referred to as the “transverse gauge.” This allows us to write the general solution to (7.164) as\\n\\nA(x, t) = ∑ k,λ\\n\\nˆekλAk,λ(x, t)\\n\\nwhere ˆekλ are two unit vectors (corresponding to two values for λ) perpendicular to k, and where\\n\\nAk,λ(x, t) =A k,λe−i(ωkt−k·x) + A∗\\n\\nk,λe+i(ωkt−k·x).\\n\\nNote that in (7.168) the quantities written Ak,λ on the right side of the equation are numerical coefﬁcients, not functions of either position or time. Note also that k and −k represent different terms in the sum. We write the superposition (7.167) as a sum, not an integral, because we envision quantizing the electromagnetic ﬁeld inside a “big box” whose dimensions may eventually be taken to grow without bound.', metadata={'source': '/content/quantum2.pdf'})]\n"
          ]
        }
      ]
    },
    {
      "cell_type": "code",
      "source": [
        "# Example usage 3\n",
        "query=\"What is the uncertainty principle in the context of quantum mechanics?\"\n",
        "print(Quantum_Mechanics_Bot(query))"
      ],
      "metadata": {
        "id": "yln_WmmzUMlW",
        "colab": {
          "base_uri": "https://localhost:8080/"
        },
        "outputId": "eadcf2c6-4466-4072-f334-4eaacd70f12f"
      },
      "execution_count": null,
      "outputs": [
        {
          "output_type": "stream",
          "name": "stderr",
          "text": [
            "/usr/local/lib/python3.10/dist-packages/langchain/chains/retrieval_qa/base.py:256: UserWarning: `VectorDBQA` is deprecated - please use `from langchain.chains import RetrievalQA`\n",
            "  warnings.warn(\n"
          ]
        },
        {
          "output_type": "stream",
          "name": "stdout",
          "text": [
            " The Completion: The uncertainty principle in quantum mechanics, as formulated by Heisenberg, states that there is a fundamental limit to the precision with which certain pairs of properties of a particle, such as position and momentum, can be simultaneously known. This principle arises from the wave-particle duality of quantum mechanics and implies that the more precisely one property is measured, the less precisely the other can be known. \n",
            "\n",
            "    The Source: [Document(page_content='The deﬁciencies that remain, for example in the Lamb shift, are not the result of problems in the underlying axioms of quantum mechanics. Instead, they are the result of a necessary approximation we make when we try to develop quantum-mechanical wave equations that are consistent with relativity. The ability to create and destroy particles is inconsistent with our “single-particle” approach to writing down dynamics in quantum mechanics. Instead, we would need to re-examine the Hamiltonian formalism, on which much of this book is based, in order address these issues.\\n\\nQuantum ﬁeld theory is the correct framework for addressing relativistic quantum mechanics, and multiparticle quantum mechanics in general. There are essentially two ways to approach quantum ﬁeld theory, neither of which is developed here. We only mention them for the reader interested in going on to the next steps.\\n\\nOne approach is through the method of “second quantization” where operators are introduced which create and destroy particles. These operators commute with each other if they have integer spin, and anticommute for half-integer spin. Work needs to be done in order to build in relativistic covariance, but it is relatively straightforward. It is also, however, not necessary if the problem does not warrant it. This is the case, for example, in a vast number of fascinating problems in condensed matter physics.\\n\\nSecond quantization is discussed in Section 7.5 of this book. For other examples, see Quantum Mechanics, by Eugen Merzbacher (1998), and Quantum Theory of Many- Particle Systems, by Alexander L. Fetter and John Dirk Walecka (2003).', metadata={'source': '/content/quantum2.pdf'}), Document(page_content='This by itself might not be so peculiar. One may say, “It is just like an urn known to contain one black ball and one white ball. When we blindly pick one of them, there is a 50% chance of getting black or white. But if the ﬁrst ball we pick is black, then we can predict with certainty that the second ball will be white.”\\n\\nIt turns out that this analogy is too simple. The actual quantum-mechanical situation is far more sophisticated than that! This is because observers may choose to measure Sx in place of Sz. The same pair of “quantum-mechanical balls” can be analyzed either in terms of black and white or in terms of blue and red!\\n\\nRecall now that for a single spin 1\\n\\n2 system the Sx eigenkets and Sz eigenkets are related\\n\\nas follows:\\n\\n|ˆx±(cid:8) =\\n\\n(cid:15)\\n\\n1√ 2\\n\\n(cid:16)\\n\\n(|ˆz+(cid:8) ± |ˆz−(cid:8)),\\n\\n|ˆz±(cid:8) =\\n\\n(cid:15)\\n\\n1√ 2\\n\\n(cid:16)\\n\\n(|ˆx+(cid:8) ± |ˆx−(cid:8)).\\n\\n(3.429)\\n\\nReturning now to our composite system, we can rewrite spin-singlet ket (3.427) by choosing the x-direction as the axis of quantization:\\n\\n(cid:15)\\n\\n(cid:16)\\n\\n|spin singlet(cid:8) =\\n\\n1√ 2\\n\\n(|ˆx−; ˆx+(cid:8) − |ˆx+; ˆx−(cid:8)).\\n\\n(3.430)', metadata={'source': '/content/quantum2.pdf'}), Document(page_content='The fact that the quantum-mechanical predictions have been veriﬁed does not mean that the whole subject is now a triviality. Despite the experimental verdict we may still feel psychologically uncomfortable about many aspects of measurements of this kind. Consider in particular the following point: Right after observer A performs a measurement on particle 1, how does particle 2 – which may, in principle, be many light years away from particle 1 – get to “know” how to orient its spin so that the remarkable correlations apparent\\n\\n(3.438)\\n\\n(3.439)\\n\\n(3.440)\\n\\n(3.441)\\n\\n(3.442)\\n\\n(3.443a)\\n\\n(3.443b)\\n\\n(3.443c)\\n\\n(3.443d)\\n\\n231\\n\\n3.11 Tensor Operators\\n\\nin Table 3.1 are realized? In one of the experiments to test Bell’s inequality (performed by A. Aspect and collaborators) the analyzer settings were changed so rapidly that A’s decision as to what to measure could not be made until it was too late for any kind of inﬂuence, traveling slower than light, to reach B.\\n\\nWe conclude this section by showing that despite these peculiarities, we cannot use spin-correlation measurements to transmit any useful information between two macroscop- ically separated points. In particular, superluminal (faster than light) communications are impossible.\\n\\nSuppose A and B both agree in advance to measure Sz; then, without asking A, B knows precisely what A is getting. But this does not mean that A and B are communicating; B just observes a random sequence of positive and negative signs. There is obviously no useful information contained in it. B veriﬁes the remarkable correlations predicted by quantum mechanics only after he or she gets together with A and compares the notes (or computer sheets).', metadata={'source': '/content/quantum2.pdf'})]\n"
          ]
        }
      ]
    },
    {
      "cell_type": "code",
      "source": [
        "# Example usage 4\n",
        "query=\"Could you please explain the concepts of energy shift and decay width?\"\n",
        "print(Quantum_Mechanics_Bot(query))"
      ],
      "metadata": {
        "id": "wXT2yqnqUMoC",
        "colab": {
          "base_uri": "https://localhost:8080/"
        },
        "outputId": "822a63bb-a2f7-42d5-8b1a-d3ae0053efc8"
      },
      "execution_count": null,
      "outputs": [
        {
          "output_type": "stream",
          "name": "stderr",
          "text": [
            "/usr/local/lib/python3.10/dist-packages/langchain/chains/retrieval_qa/base.py:256: UserWarning: `VectorDBQA` is deprecated - please use `from langchain.chains import RetrievalQA`\n",
            "  warnings.warn(\n"
          ]
        },
        {
          "output_type": "stream",
          "name": "stdout",
          "text": [
            " The Completion: The concepts of energy shift and decay width are related to the behavior of quantum states under perturbations. \n",
            "\n",
            "1. Energy Shift: When a quantum system is subjected to a perturbation, the energy levels of the system can shift. This shift in energy is known as the energy shift. In the context of quantum mechanics, the energy shift can be calculated using perturbation theory. The real part of the energy shift is associated with the level shift, which represents the change in the energy level of a quantum state due to the perturbation.\n",
            "\n",
            "2. Decay Width: The decay width is related to the lifetime of a quantum state. When a quantum state is unstable and can decay into other states, the decay width characterizes the rate at which this decay occurs. In other words, the decay width is a measure of how quickly a quantum state transitions to other states. The imaginary part of the energy shift, apart from a factor of -2, represents the decay width. The decay width is also related to the uncertainty principle, as it is connected to the energy-time uncertainty relation.\n",
            "\n",
            "In summary, the energy shift and decay width are important concepts in quantum mechanics that describe how quantum states evolve in the presence of perturbations and interactions with other states. \n",
            "\n",
            "    The Source: [Document(page_content='5.9 Energy Shift and Decay Width\\n\\nOur considerations so far have been restricted to the question of how states other than the initial state become populated. In other words, we have been concerned with the time development of the coefﬁcient cn(t) with n (cid:9)= i. The question naturally arises, What happens to ci(t) itself ?\\n\\nTo avoid the effect of a sudden change in the Hamiltonian, we propose to increase the perturbation very slowly. In the remote past (t → −∞) the time-dependent potential is assumed to be zero. We then gradually turn on the perturbation to its full value; speciﬁcally,\\n\\nV(t) =e ηtV\\n\\nwhere V is assumed to be constant and η is small and positive. At the end of the calculation, we let η → 0 (see Figure 5.14), and the potential then becomes constant at all times.\\n\\nIn the remote past, we take this time to be −∞, so the state ket in the interaction picture is assumed to be |i(cid:8). Our basic aim is to evaluate ci(t). However, before we do that, let us make sure that the old formula of the golden rule (see Section 5.7) can be reproduced using this slow-turn-on method. For cn(t) with n (cid:9)= i, we have [using (5.276)]\\n\\nη > 0\\n\\nV(t)\\n\\nV(t) = V as η → 0\\n\\nt\\n\\nPlot of V(t) versust in the adiabatic (slow-turn-on) picture.\\n\\n(5.359)\\n\\n(5.360)\\n\\n356\\n\\nApproximation Methods\\n\\nc(0) n (t) =0 c(1) n (t) =\\n\\n=\\n\\n−i ¯h −i ¯h\\n\\n(cid:21)\\n\\nVni lim t0→−∞ t0 eηt+iωnit η + iωni\\n\\nVni\\n\\nt\\n\\neηt(cid:5)\\n\\n.\\n\\neiωnit(cid:5)\\n\\ndt(cid:5)\\n\\n(5.361)\\n\\nTo lowest nonvanishing order, the transition probability is therefore given by\\n\\n|cn(t)|2 (cid:3)\\n\\n|Vni|2 ¯h2\\n\\ne2ηt η2 + ω2 ni\\n\\n,\\n\\n(5.362)\\n\\nor\\n\\nd dt\\n\\n|cn(t)|2 (cid:3) 2|Vni|2 ¯h2\\n\\n(cid:15)\\n\\nηe2ηt η2 + ω2 ni\\n\\n(cid:16)\\n\\n.\\n\\n(5.363)\\n\\nWe now let η → 0. Clearly, it is all right to replace eηt by unity, but note\\n\\nlim η→0\\n\\nη η2 + ω2 ni\\n\\n= πδ(ωni) = π¯hδ(En − Ei).\\n\\n(5.364)\\n\\nThis leads to the golden rule,\\n\\nwi→n (cid:3)\\n\\n(cid:15)\\n\\n2π ¯h\\n\\n(cid:16)\\n\\n|Vni|2δ(En − Ei).\\n\\n(5.365)\\n\\nEncouraged by this result, let us calculate c(0)\\n\\ni\\n\\n, c(1) i\\n\\n, and c(2)\\n\\ni', metadata={'source': '/content/quantum2.pdf'}), Document(page_content='ΔtΔE ∼ ¯h,\\n\\nwhere we identify the uncertainty in the energy with Γi and the mean lifetime with Δt.\\n\\nEven though we discussed the subject of energy shift and decay width using the constant perturbation V obtained as the limit of (5.360) when η → 0, we can easily generalize our considerations to the harmonic perturbation case discussed in Section 5.7. All we must do is to let\\n\\nEn(m) − Ei → En(m) − Ei ± ¯hω\\n\\nin (5.361), (5.367), and (5.374), and so on. The quantum-mechanical description of unstable states we have developed here is originally due to Wigner and Weisskopf in 1930.\\n\\nProblems\\n\\n5.1 A simple harmonic oscillator (in one dimension) is subjected to a perturbation\\n\\nH1 = bx\\n\\nwhere b is a real constant. a. Calculate the energy shift of the ground state to lowest nonvanishing order. b. Solve this problem exactly and compare with your result obtained in (a).\\n\\n(5.379)\\n\\n(5.380)\\n\\n(5.381)\\n\\n(5.382)\\n\\n(5.383)\\n\\n(5.384)\\n\\n(5.385)\\n\\n359\\n\\nProblems\\n\\n5.2 A one-dimensional potential well has inﬁnite walls at x = 0 and x = L. The bottom of the well is not ﬂat, but rather increases linearly from 0 at x = 0 to V at x = L. Find the ﬁrst-order shift in the energy levels as a function of principal quantum number n.\\n\\n5.3 A particle of mass m moves in a potential well V(x) =m ω2x2/2. Treating relativistic\\n\\neffects to order β2 = (p/mc)2, ﬁnd the ground-state energy shift.\\n\\n5.4 A diatomic molecule can be modeled as a rigid rotor with moment of inertia I and an electric dipole moment d along the axis of the rotor. The rotor is constrained to rotate in a plane, and a weak uniform electric ﬁeld E lies in the plane. Write the classical Hamiltonian for the rotor, and ﬁnd the unperturbed energy levels by quantizing the angular-momentum operator. Then treat the electric ﬁeld as a perturbation, and ﬁnd the ﬁrst nonvanishing corrections to the energy levels.\\n\\n5.5', metadata={'source': '/content/quantum2.pdf'}), Document(page_content='i + Δ(2)\\n\\ni + · · · ,\\n\\nand compare (5.369) with (5.368); we get to ﬁrst order\\n\\nΔ(1)\\n\\ni = Vii.\\n\\nBut this is just what we expect from t-independent perturbation theory. Before we look at Δ(2) i\\n\\n, recall\\n\\nlim ε→0\\n\\n1\\n\\nx + iε = Pr\\n\\n1 x\\n\\n− iπδ(x).\\n\\nThus\\n\\ni ) =Pr ∑ m(cid:9)=i i ) =− π∑ m(cid:9)=i\\n\\nRe(Δ(2)\\n\\nIm(Δ(2)\\n\\n|Vmi|2 Ei − Em\\n\\n|Vmi|2δ(Ei − Em).\\n\\nBut the right-hand side of (5.374b) is familiar from the golden rule, so we can identify\\n\\n∑ m(cid:9)=i\\n\\nwi→m =\\n\\n2π ¯h\\n\\n∑ m(cid:9)=i\\n\\n|Vmi|2δ(Ei − Em) =− 2 ¯h\\n\\nIm[Δ(2)\\n\\ni\\n\\n].\\n\\nComing back to ci(t), we can write (5.369) as\\n\\nci(t) =e −(i/¯h)[Re(Δi)t]+(1/¯h)[Im(Δi)t].\\n\\nIf we deﬁne\\n\\nΓi ¯h\\n\\n≡ − 2 ¯h\\n\\nIm(Δi),\\n\\nthen\\n\\n|ci|2 = e2Im(Δi)t/¯h = e−Γit/¯h.\\n\\nTherefore, Γi characterizes the rate at which state |i(cid:8) disappears.\\n\\n(5.369)\\n\\n(5.370)\\n\\n(5.371)\\n\\n(5.372)\\n\\n(5.373)\\n\\n(5.374a)\\n\\n(5.374b)\\n\\n(5.375)\\n\\n(5.376)\\n\\n(5.377)\\n\\n(5.378)\\n\\n358\\n\\nApproximation Methods\\n\\nIt is worth checking the probability conservation up to second order in V for small t: |cm|2 = (1 − Γit/¯h) + ∑ m(cid:9)=i\\n\\n|ci|2 + ∑ m(cid:9)=i\\n\\nwi→mt = 1,\\n\\nwhere (5.375) has been used. Thus the probabilities for ﬁnding the initial state and all other states add up to 1. Put in another way, the depletion of state |i(cid:8) is compensated by the growth of states other than |i(cid:8).\\n\\nTo summarize, the real part of the energy shift is what we usually associate with the level shift. The imaginary part of the energy shift is, apart from −2 [see (5.377)], the decay width. Note also\\n\\n¯h Γi\\n\\n= τi\\n\\nwhere τi is the mean lifetime of state |i(cid:8) because\\n\\n|ci|2 = e−t/τi.\\n\\nTo see why Γi is called width, we look at the Fourier decomposition\\n\\n(cid:21)\\n\\nf (E)e−iEt/¯hdE = e−i[Ei+Re(Δi)]t/¯h−Γit/2¯h.\\n\\nUsing the Fourier inversion formula, we get\\n\\n| f (E)|2 ∝\\n\\n1 {E − [Ei + Re(Δi)]}2 + Γ2\\n\\ni /4\\n\\n.\\n\\nTherefore, Γi has the usual meaning of full width at half maximum. Notice that we get the energy-time uncertainty relation from (5.380)\\n\\nΔtΔE ∼ ¯h,', metadata={'source': '/content/quantum2.pdf'})]\n"
          ]
        }
      ]
    }
  ]
}
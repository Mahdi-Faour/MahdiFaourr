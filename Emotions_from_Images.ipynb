{
  "nbformat": 4,
  "nbformat_minor": 0,
  "metadata": {
    "colab": {
      "provenance": [],
      "authorship_tag": "ABX9TyPk4DCWMfjBGX9+mbJrBSIp",
      "include_colab_link": true
    },
    "kernelspec": {
      "name": "python3",
      "display_name": "Python 3"
    },
    "language_info": {
      "name": "python"
    }
  },
  "cells": [
    {
      "cell_type": "markdown",
      "metadata": {
        "id": "view-in-github",
        "colab_type": "text"
      },
      "source": [
        "<a href=\"https://colab.research.google.com/github/MahdiFaourr/MahdiFaourr/blob/main/Emotions_from_Images.ipynb\" target=\"_parent\"><img src=\"https://colab.research.google.com/assets/colab-badge.svg\" alt=\"Open In Colab\"/></a>"
      ]
    },
    {
      "cell_type": "code",
      "execution_count": null,
      "metadata": {
        "id": "tlkgMjhuowrb"
      },
      "outputs": [],
      "source": [
        "!pip install opendatasets"
      ]
    },
    {
      "cell_type": "code",
      "source": [
        "!pip install gradio==3.14.0"
      ],
      "metadata": {
        "id": "QyuFiA47mKWt"
      },
      "execution_count": null,
      "outputs": []
    },
    {
      "cell_type": "code",
      "source": [
        "from tensorflow.keras.layers import Dense,Conv2D,Input,GlobalAveragePooling2D,\n",
        "from tensorflow.keras.metrics import Precision\n",
        "from tensorflow.keras.preprocessing.image import ImageDataGenerator\n",
        "import opendatasets as od\n",
        "from keras.callbacks import ModelCheckpoint\n",
        "import os\n",
        "import shutil\n",
        "import gradio as gr\n",
        "from PIL import Image\n",
        "import numpy as np\n",
        "from tensorflow.keras.preprocessing import image\n",
        "from tensorflow.keras.models import load_model\n",
        "from tensorflow.keras.models import Sequential\n",
        "from tensorflow.keras.applications import MobileNet\n",
        "from tensorflow.keras.preprocessing import image\n",
        "from tensorflow.keras.applications.mobilenet import preprocess_input, decode_predictions\n",
        "import matplotlib.pyplot as plt\n",
        "from sklearn.model_selection import train_test_split"
      ],
      "metadata": {
        "id": "h9T6WLNFxXS0"
      },
      "execution_count": null,
      "outputs": []
    },
    {
      "cell_type": "code",
      "source": [
        "# Load the dataset from kaggle\n",
        "od.download(\"https://www.kaggle.com/datasets/sanidhyak/human-face-emotions\")"
      ],
      "metadata": {
        "id": "XNPqSUk9qBqW"
      },
      "execution_count": null,
      "outputs": []
    },
    {
      "cell_type": "code",
      "source": [
        "root_dir=\"/content/human-face-emotions/data\"\n",
        "classes=['Angry','Happy','Sad']\n",
        "for class_name in classes:\n",
        "  train_dir=os.path.join(root_dir,\"train\",class_name)\n",
        "  valid_dir=os.path.join(root_dir,\"valid\",class_name)\n",
        "  os.makedirs(train_dir,exist_ok=True)\n",
        "  os.makedirs(valid_dir,exist_ok=True)"
      ],
      "metadata": {
        "id": "RmtGe_sZqBtQ"
      },
      "execution_count": null,
      "outputs": []
    },
    {
      "cell_type": "code",
      "source": [
        "Angry_images=[image for image in os.listdir(os.path.join(root_dir,'Angry'))]\n",
        "train_Angry_images,valid_Angry_images=train_test_split(Angry_images,test_size=0.2,random_state=42)\n",
        "for img in train_Angry_images:\n",
        "  source_path=os.path.join(root_dir,'Angry',img)\n",
        "  destination_path=os.path.join(root_dir,\"train\",'Angry',img)\n",
        "  shutil.move(source_path,destination_path)\n",
        "for img in valid_Angry_images:\n",
        "  source_path=os.path.join(root_dir,'Angry',img)\n",
        "  destination_path=os.path.join(root_dir,\"valid\",'Angry',img)\n",
        "  shutil.move(source_path,destination_path)"
      ],
      "metadata": {
        "id": "qJRQJQpBqBv3"
      },
      "execution_count": null,
      "outputs": []
    },
    {
      "cell_type": "code",
      "source": [
        "Happy_images=[image for image in os.listdir(os.path.join(root_dir,'Happy'))]\n",
        "train_Happy_images,valid_Happy_images=train_test_split(Happy_images,test_size=0.2,random_state=42)\n",
        "for img in train_Happy_images:\n",
        "  source_path=os.path.join(root_dir,'Happy',img)\n",
        "  destination_path=os.path.join(root_dir,\"train\",'Happy',img)\n",
        "  shutil.move(source_path,destination_path)\n",
        "for img in valid_Happy_images:\n",
        "  source_path=os.path.join(root_dir,'Happy',img)\n",
        "  destination_path=os.path.join(root_dir,\"valid\",'Happy',img)\n",
        "  shutil.move(source_path,destination_path)"
      ],
      "metadata": {
        "id": "Jq7HiumsqByh"
      },
      "execution_count": null,
      "outputs": []
    },
    {
      "cell_type": "code",
      "source": [
        "Sad_images=[image for image in os.listdir(os.path.join(root_dir,'Sad'))]\n",
        "train_Sad_images,valid_Sad_images=train_test_split(Sad_images,test_size=0.2,random_state=42)\n",
        "for img in train_Sad_images:\n",
        "  source_path=os.path.join(root_dir,'Sad',img)\n",
        "  destination_path=os.path.join(root_dir,\"train\",'Sad',img)\n",
        "  shutil.move(source_path,destination_path)\n",
        "for img in valid_Sad_images:\n",
        "  source_path=os.path.join(root_dir,'Sad',img)\n",
        "  destination_path=os.path.join(root_dir,\"valid\",'Sad',img)\n",
        "  shutil.move(source_path,destination_path)"
      ],
      "metadata": {
        "id": "Hjp-l2hGqB0i"
      },
      "execution_count": null,
      "outputs": []
    },
    {
      "cell_type": "code",
      "source": [
        "# Define the parameters for data augmentation and preprocessing\n",
        "datagen = ImageDataGenerator(\n",
        "    rescale=1./255,\n",
        "    rotation_range=15,\n",
        "    width_shift_range=0.1,\n",
        "    height_shift_range=0.1,\n",
        "    shear_range=0.1,\n",
        "    zoom_range=0.1,\n",
        "    horizontal_flip=True,\n",
        "    vertical_flip=True,\n",
        "    fill_mode='nearest'\n",
        ")\n",
        "\n",
        "# Define the directory containing your image data\n",
        "train_dir = \"/content/human-face-emotions/data/train\"\n",
        "valid_dir= \"/content/human-face-emotions/data/valid\"\n",
        "\n",
        "# Create an ImageDataGenerator for the training data\n",
        "train_generator =datagen.flow_from_directory(\n",
        "    train_dir,\n",
        "    batch_size=32,\n",
        "    class_mode='categorical'\n",
        ")\n",
        "\n",
        "valid_generator=datagen.flow_from_directory(\n",
        "    valid_dir,\n",
        "    batch_size=32,\n",
        "    class_mode='categorical'\n",
        ")\n"
      ],
      "metadata": {
        "colab": {
          "base_uri": "https://localhost:8080/"
        },
        "id": "QMgC1uWnqB2-",
        "outputId": "1639e938-ecba-43cd-e5ba-75f872c5f5ec"
      },
      "execution_count": null,
      "outputs": [
        {
          "output_type": "stream",
          "name": "stdout",
          "text": [
            "Found 210 images belonging to 3 classes.\n",
            "Found 54 images belonging to 3 classes.\n"
          ]
        }
      ]
    },
    {
      "cell_type": "code",
      "source": [
        "# Load MobileNetV1 base model without top (fully connected) layers\n",
        "base_model = MobileNet(weights='imagenet', include_top=False, input_shape=(224, 224, 3))\n",
        "\n",
        "\n",
        "# Create a Sequential model\n",
        "model = Sequential()\n",
        "\n",
        "# Add the MobileNetV1 base model to the Sequential model\n",
        "model.add(base_model)\n",
        "# Set MobileNetV1 layers as non-trainable\n",
        "for layer in base_model.layers:\n",
        "    layer.trainable = False\n",
        "\n",
        "# Add GlobalAveragePooling2D layer to reduce spatial dimensions\n",
        "model.add(GlobalAveragePooling2D())\n",
        "\n",
        "# Add custom dense layers for classification\n",
        "model.add(Dense(220, activation='relu'))\n",
        "model.add(Dense(3, activation='softmax'))\n",
        "model.compile(optimizer=\"adam\",loss=\"categorical_crossentropy\",metrics=['acc',Precision()])"
      ],
      "metadata": {
        "id": "f0W_7oQm2tNG",
        "colab": {
          "base_uri": "https://localhost:8080/"
        },
        "outputId": "2cfdf986-e325-462f-9b49-f73aee429cad"
      },
      "execution_count": null,
      "outputs": [
        {
          "output_type": "stream",
          "name": "stdout",
          "text": [
            "Downloading data from https://storage.googleapis.com/tensorflow/keras-applications/mobilenet/mobilenet_1_0_224_tf_no_top.h5\n",
            "17225924/17225924 [==============================] - 0s 0us/step\n"
          ]
        }
      ]
    },
    {
      "cell_type": "code",
      "source": [
        "# Model summary\n",
        "model.summary()"
      ],
      "metadata": {
        "colab": {
          "base_uri": "https://localhost:8080/"
        },
        "id": "wyOCj42llbbF",
        "outputId": "7bb90f94-1281-4499-b836-642ef090f489"
      },
      "execution_count": null,
      "outputs": [
        {
          "output_type": "stream",
          "name": "stdout",
          "text": [
            "Model: \"sequential\"\n",
            "_________________________________________________________________\n",
            " Layer (type)                Output Shape              Param #   \n",
            "=================================================================\n",
            " mobilenet_1.00_224 (Functi  (None, 7, 7, 1024)        3228864   \n",
            " onal)                                                           \n",
            "                                                                 \n",
            " global_average_pooling2d (  (None, 1024)              0         \n",
            " GlobalAveragePooling2D)                                         \n",
            "                                                                 \n",
            " dense (Dense)               (None, 220)               225500    \n",
            "                                                                 \n",
            " dense_1 (Dense)             (None, 3)                 663       \n",
            "                                                                 \n",
            "=================================================================\n",
            "Total params: 3455027 (13.18 MB)\n",
            "Trainable params: 226163 (883.45 KB)\n",
            "Non-trainable params: 3228864 (12.32 MB)\n",
            "_________________________________________________________________\n"
          ]
        }
      ]
    },
    {
      "cell_type": "code",
      "source": [
        "# Define a checkpoint callback to save the weights with  best val_acc\n",
        "checkpoint = ModelCheckpoint('best_weights.h5', monitor='val_acc', save_best_only=True, mode='max', verbose=1)\n",
        "# Train the model\n",
        "history=model.fit(train_generator,validation_data=(valid_generator),epochs=30,batch_size=len(train_generator),callbacks=[checkpoint])"
      ],
      "metadata": {
        "id": "SEA2Aae80m2u"
      },
      "execution_count": null,
      "outputs": []
    },
    {
      "cell_type": "code",
      "source": [
        "# Load the best weights into your model\n",
        "model.load_weights('best_weights.h5')"
      ],
      "metadata": {
        "id": "YeOGCP8WyuyH"
      },
      "execution_count": null,
      "outputs": []
    },
    {
      "cell_type": "code",
      "source": [
        "# Evaluate on valid generator\n",
        "model.evaluate(valid_generator)"
      ],
      "metadata": {
        "id": "kB07iHCQyu0i",
        "colab": {
          "base_uri": "https://localhost:8080/"
        },
        "outputId": "0fce6f8f-36ee-4bd5-ef56-dc0bd0307eb7"
      },
      "execution_count": null,
      "outputs": [
        {
          "output_type": "stream",
          "name": "stdout",
          "text": [
            "2/2 [==============================] - 7s 1s/step - loss: 0.7253 - acc: 0.7593 - precision: 0.7647\n"
          ]
        },
        {
          "output_type": "execute_result",
          "data": {
            "text/plain": [
              "[0.7252845764160156, 0.7592592835426331, 0.7647058963775635]"
            ]
          },
          "metadata": {},
          "execution_count": 12
        }
      ]
    },
    {
      "cell_type": "code",
      "source": [
        "# `history.history` is a dictionary containing the training and validation metrics\n",
        "# Plotting accuracy\n",
        "plt.subplot(2, 1, 1)  # 2 rows, 1 column, plot 1 (top subplot)\n",
        "plt.plot(history.history['acc'])\n",
        "plt.plot(history.history['val_acc'])\n",
        "plt.title('Model Accuracy')\n",
        "plt.xlabel('Epoch')\n",
        "plt.ylabel('Accuracy')\n",
        "plt.legend(['Train', 'Validation'], loc='upper left')\n",
        "\n",
        "# Plotting precision\n",
        "plt.subplot(2, 1, 2)  # 2 rows, 1 column, plot 2 (bottom subplot)\n",
        "plt.plot(history.history['precision'])\n",
        "plt.plot(history.history['val_precision'])\n",
        "plt.title('Model Precision')\n",
        "plt.xlabel('Epoch')\n",
        "plt.ylabel('Precision')\n",
        "plt.legend(['Train', 'Validation'], loc='upper left')\n",
        "\n",
        "plt.tight_layout()  # Adjust subplot layout to avoid overlap\n",
        "\n",
        "# Show plot\n",
        "plt.show()"
      ],
      "metadata": {
        "id": "aBmZvgRuyu2n",
        "colab": {
          "base_uri": "https://localhost:8080/",
          "height": 486
        },
        "outputId": "80eb3b27-cae1-471f-bb5e-abf60a2d2588"
      },
      "execution_count": null,
      "outputs": [
        {
          "output_type": "display_data",
          "data": {
            "text/plain": [
              "<Figure size 640x480 with 2 Axes>"
            ],
            "image/png": "[encoded data removed]"
          },
          "metadata": {}
        }
      ]
    },
    {
      "cell_type": "code",
      "source": [
        "# Save the model in HDF5 file\n",
        "model.save(\"Emotions_from_images_model.h5\")"
      ],
      "metadata": {
        "id": "LO8uzu2Byu48"
      },
      "execution_count": null,
      "outputs": []
    },
    {
      "cell_type": "code",
      "source": [
        "def emotion_detector(img_path):\n",
        "    # Convert the numpy array to a PIL Image object\n",
        "    img = Image.open(img_path)\n",
        "\n",
        "    # Convert grayscale image to RGB\n",
        "    if img.mode != 'RGB':\n",
        "        img = img.convert('RGB')\n",
        "\n",
        "    # Resize the image to match the model's expected input size\n",
        "    img = img.resize((224, 224))\n",
        "\n",
        "    # Normalize the image data\n",
        "    img_array = np.array(img) / 255.0\n",
        "\n",
        "    # Expand the dimensions to match the model's expected input shape\n",
        "    img_array = np.expand_dims(img_array, axis=0)\n",
        "\n",
        "    # Use the model to predict\n",
        "    prediction = model.predict(img_array)\n",
        "    #return prediction\n",
        "    # Check if prediction is positive or negative\n",
        "    if np.argmax(prediction)== 0:\n",
        "        return 'Angry'\n",
        "    elif np.argmax(prediction)==1:\n",
        "       return 'Happy'\n",
        "    else:\n",
        "      return 'Sad'\n",
        "\n"
      ],
      "metadata": {
        "id": "8RMTnE8rj47q"
      },
      "execution_count": null,
      "outputs": []
    },
    {
      "cell_type": "code",
      "source": [
        "# Example usage 1\n",
        "image_path=\"/content/human-face-emotions/data/valid/Angry/Angry-people-2.jpg\"\n",
        "print(emotion_detector(image_path))"
      ],
      "metadata": {
        "colab": {
          "base_uri": "https://localhost:8080/"
        },
        "id": "e1uG32C8j4-n",
        "outputId": "b02884fc-670f-41c6-a4a2-25ec38f3ce05"
      },
      "execution_count": null,
      "outputs": [
        {
          "output_type": "stream",
          "name": "stdout",
          "text": [
            "1/1 [==============================] - 1s 622ms/step\n",
            "Angry\n"
          ]
        }
      ]
    },
    {
      "cell_type": "code",
      "source": [
        "# Example usage 1\n",
        "image_path=\"/content/human-face-emotions/data/valid/Happy/Happy-Guy.jpg\"\n",
        "print(emotion_detector(image_path))"
      ],
      "metadata": {
        "colab": {
          "base_uri": "https://localhost:8080/"
        },
        "id": "QcfEVahIk2Ez",
        "outputId": "e0fb9c3a-b250-432b-aef7-79d5de03b52f"
      },
      "execution_count": null,
      "outputs": [
        {
          "output_type": "stream",
          "name": "stdout",
          "text": [
            "1/1 [==============================] - 0s 60ms/step\n",
            "Happy\n"
          ]
        }
      ]
    },
    {
      "cell_type": "code",
      "source": [
        "# Example usage 3\n",
        "image_path=\"/content/human-face-emotions/data/valid/Sad/Sad-man-being-consoled-by-friends-in-group-therapy.jpg\"\n",
        "print(emotion_detector(image_path))"
      ],
      "metadata": {
        "colab": {
          "base_uri": "https://localhost:8080/"
        },
        "id": "BXiR2j_Lk2HT",
        "outputId": "b5d6dc68-89ff-456f-aef8-1bde6fc50b71"
      },
      "execution_count": null,
      "outputs": [
        {
          "output_type": "stream",
          "name": "stdout",
          "text": [
            "1/1 [==============================] - 0s 68ms/step\n",
            "Sad\n"
          ]
        }
      ]
    },
    {
      "cell_type": "code",
      "source": [
        "# Define a function suitable for gradio\n",
        "def gradio_fn(img_array):\n",
        "    # Convert the numpy array to a PIL Image object\n",
        "    img = Image.fromarray(np.uint8(img_array))\n",
        "\n",
        "    # Convert grayscale image to RGB\n",
        "    if img.mode != 'RGB':\n",
        "        img = img.convert('RGB')\n",
        "\n",
        "    # Resize the image to match the model's expected input size\n",
        "    img = img.resize((224, 224))\n",
        "\n",
        "    # Normalize the image data\n",
        "    img_array = np.array(img) / 255.0\n",
        "\n",
        "    # Expand the dimensions to match the model's expected input shape\n",
        "    img_array = np.expand_dims(img_array, axis=0)\n",
        "\n",
        "    # Use the model to predict\n",
        "    prediction = model.predict(img_array)\n",
        "    #return prediction\n",
        "    # Check if prediction is positive or negative\n",
        "    if np.argmax(prediction)== 0:\n",
        "        return 'Angry'\n",
        "    elif np.argmax(prediction)==1:\n",
        "       return 'Happy'\n",
        "    else:\n",
        "      return 'Sad'"
      ],
      "metadata": {
        "id": "FuNHypWFk2KX"
      },
      "execution_count": null,
      "outputs": []
    },
    {
      "cell_type": "code",
      "source": [
        "# Define the input component for the Gradio interface\n",
        "inputs = gr.inputs.Image(shape=(224, 224))\n",
        "\n",
        "# Define the output component for the Gradio interface\n",
        "outputs = gr.outputs.Label()\n",
        "\n",
        "# Create the Gradio interface\n",
        "gr.Interface(gradio_fn, inputs, outputs, capture_session=True,share=True).launch(debug='True')"
      ],
      "metadata": {
        "id": "kHjIUm9MmDYA"
      },
      "execution_count": null,
      "outputs": []
    }
  ]
}
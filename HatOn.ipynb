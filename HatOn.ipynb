{
  "cells": [
    {
      "cell_type": "markdown",
      "metadata": {
        "id": "view-in-github",
        "colab_type": "text"
      },
      "source": [
        "<a href=\"https://colab.research.google.com/github/MahdiFaourr/MahdiFaourr/blob/main/HatOn.ipynb\" target=\"_parent\"><img src=\"https://colab.research.google.com/assets/colab-badge.svg\" alt=\"Open In Colab\"/></a>"
      ]
    },
    {
      "cell_type": "code",
      "execution_count": null,
      "metadata": {
        "id": "ereBNhlcF1gN"
      },
      "outputs": [],
      "source": [
        "import json\n",
        "import numpy as np\n",
        "from tensorflow.keras.preprocessing.image import load_img, img_to_array\n",
        "from sklearn.model_selection import train_test_split"
      ]
    },
    {
      "cell_type": "code",
      "execution_count": null,
      "metadata": {
        "id": "5MIBmR6SIs2c",
        "colab": {
          "base_uri": "https://localhost:8080/"
        },
        "outputId": "3621fec5-156f-46cc-e8a6-0a05ade6a5ec"
      },
      "outputs": [
        {
          "output_type": "stream",
          "name": "stdout",
          "text": [
            "Mounted at /content/drive\n"
          ]
        }
      ],
      "source": [
        "from google.colab import drive\n",
        "drive.mount('/content/drive')"
      ]
    },
    {
      "cell_type": "markdown",
      "metadata": {
        "id": "8yzzZi8thtgH"
      },
      "source": [
        "# Collect and Prepare Data\n"
      ]
    },
    {
      "cell_type": "code",
      "execution_count": null,
      "metadata": {
        "id": "yjpWeQATInxb"
      },
      "outputs": [],
      "source": [
        "json_filepath_test = '/content/drive/MyDrive/Dataset/test/_annotations.coco.json'\n",
        "imgs_filepath_test = '/content/drive/MyDrive/Dataset/test'\n",
        "\n",
        "json_filepath_train = '/content/drive/MyDrive/Dataset/train/_annotations.coco.json'\n",
        "imgs_filepath_train = '/content/drive/MyDrive/Dataset/train/'"
      ]
    },
    {
      "cell_type": "code",
      "execution_count": null,
      "metadata": {
        "id": "98wjEy3XKkp3"
      },
      "outputs": [],
      "source": [
        "# read the file\n",
        "with open(json_filepath_train, 'r') as file:\n",
        "  annotations_data = json.load(file)\n",
        "\n",
        "with open(json_filepath_test, 'r') as file:\n",
        "  annotations_data_test = json.load(file)\n",
        "\n",
        "#print(json.dumps(annotations_data, indent=2))\n",
        "annotations = annotations_data.get('annotations', [])\n",
        "annotations_test = annotations_data_test.get('annotations', [])\n",
        "#print(annotations)\n",
        "\n",
        "# Extract categories\n",
        "categories = annotations_data['categories']\n",
        "print(categories)\n",
        "\n",
        "#2 is true else is false\n",
        "dict_labels_binary = {category['id']: 0 if category['name'] != 'helmet' else 1 for category in categories}\n",
        "print(dict_labels_binary)\n",
        "\n"
      ]
    },
    {
      "cell_type": "code",
      "execution_count": null,
      "metadata": {
        "id": "6LSVdfuVrLfr"
      },
      "outputs": [],
      "source": [
        "# Add binary labels to each annotation\n",
        "#for annotation in annotations:\n",
        " #   category_id = annotation.get('category_id', -1)\n",
        "  #  annotation['category_id'] = dict_labels_binary.get(category_id, -1)\n",
        "\n",
        "#inspect\n",
        "for annotation in annotations:\n",
        "  print(annotation)\n",
        "\n",
        "#note:[x, y, width, heightt ex: bbox starts at (214, 198) and has a width of 19 pixels and a height of 22 pixels."
      ]
    },
    {
      "cell_type": "code",
      "execution_count": null,
      "metadata": {
        "id": "WNAhGzItiTXQ"
      },
      "outputs": [],
      "source": [
        "import os\n",
        "\n",
        "# Specify the path for the test dataset within Colab's writable space\n",
        "train_dataset_dir_colab = '/content/drive/MyDrive/Data/Train'\n",
        "test_dataset_dir_colab = '/content/drive/MyDrive/Data/Test'\n",
        "\n",
        "\n",
        "# Specify the class names\n",
        "class_names = ['without_hard_hat', 'with_hard_hat']\n",
        "\n",
        "# Construct paths for 'without_hard_hat' and 'with_hard_hat' directories within Colab\n",
        "without_hat_dir_colab_train = os.path.join(train_dataset_dir_colab, class_names[0])\n",
        "with_hat_dir_colab_train = os.path.join(train_dataset_dir_colab, class_names[1])\n",
        "\n",
        "# Construct paths for 'without_hard_hat' and 'with_hard_hat' directories within Colab\n",
        "without_hat_dir_colab_test = os.path.join(test_dataset_dir_colab, class_names[0])\n",
        "with_hat_dir_colab_test = os.path.join(test_dataset_dir_colab, class_names[1])\n",
        "\n",
        "# Create the directories if they don't exist\n",
        "os.makedirs(without_hat_dir_colab_train, exist_ok=True)\n",
        "os.makedirs(with_hat_dir_colab_train, exist_ok=True)\n",
        "os.makedirs(without_hat_dir_colab_test, exist_ok=True)\n",
        "os.makedirs(with_hat_dir_colab_test, exist_ok=True)\n"
      ]
    },
    {
      "cell_type": "markdown",
      "metadata": {
        "id": "4tP0aJW9iqpc"
      },
      "source": [
        "# Separate Images in Sub folders"
      ]
    },
    {
      "cell_type": "code",
      "execution_count": null,
      "metadata": {
        "id": "Kr3PAY0Tg-LB"
      },
      "outputs": [],
      "source": [
        "import os\n",
        "import shutil\n",
        "\n",
        "# Specify the source directory containing the photos\n",
        "source_photos_dir = imgs_filepath_train\n",
        "#then run on imgs_filepath_train again and change bellow accordignly\n",
        "\n",
        "# Check if the source directory exists\n",
        "if not os.path.exists(source_photos_dir):\n",
        "    print(f\"Source directory '{source_photos_dir}' does not exist.\")\n",
        "    exit()\n",
        "\n",
        "# Assuming you have the annotations data available\n",
        "images = annotations_data.get('images', [])\n",
        "annotations = annotations_data.get('annotations', [])  # Assuming annotations is a list of dictionaries\n",
        "\n",
        "\n",
        "# Populate the dictionary with data\n",
        "for image in images:\n",
        "    file_name = image['file_name']\n",
        "    source_path = os.path.join(source_photos_dir, file_name)\n",
        "    ID = image['id']\n",
        "\n",
        "    # Find annotations for the current image ID\n",
        "    similar_annotations_list = [ann for ann in annotations if ann.get('image_id') == ID]\n",
        "\n",
        "    # Extract category_ids for the current image\n",
        "    category_ids_list = [ann.get('category_id', -1) for ann in similar_annotations_list]\n",
        "\n",
        "    # Check if category_id is 2 or if 2 is in the category_ids list\n",
        "    if 2 in category_ids_list:\n",
        "        destination_path = os.path.join(with_hat_dir_colab_train, file_name)\n",
        "        shutil.copy(source_path, destination_path)\n",
        "    else:\n",
        "        destination_path = os.path.join(without_hat_dir_colab_train, file_name)\n",
        "        shutil.copy(source_path, destination_path)\n",
        "\n"
      ]
    },
    {
      "cell_type": "markdown",
      "source": [
        "# Exploratory Data Analysis"
      ],
      "metadata": {
        "id": "yAGovVC_XoFW"
      }
    },
    {
      "cell_type": "code",
      "source": [
        "import pandas as pd\n",
        "# Read JSON data for Test Data\n",
        "df_1 = pd.json_normalize(annotations, sep='_').fillna(pd.NA)\n",
        "print(df_1.head(10))\n",
        "print()\n",
        "print('The test file annotations has {} rows and {} columns'.format(df_1.shape[0],df_1.shape[1]))\n",
        "\n",
        "#check for null values\n",
        "print()\n",
        "print(df_1.isnull().sum())\n"
      ],
      "metadata": {
        "id": "Pu1iKCAiXxVL"
      },
      "execution_count": null,
      "outputs": []
    },
    {
      "cell_type": "code",
      "source": [
        "# check JSON data for Train Data\n",
        "df_2 = pd.json_normalize(annotations_test, sep='_').fillna(pd.NA)\n",
        "print(df_2.head(10))\n",
        "print()\n",
        "print('The test file annotations has {} rows and {} columns'.format(df_2.shape[0],df_2.shape[1]))\n",
        "\n",
        "#check for null values\n",
        "print()\n",
        "print(df_2.isnull().sum())"
      ],
      "metadata": {
        "id": "mlqWGRTreKQ-"
      },
      "execution_count": null,
      "outputs": []
    },
    {
      "cell_type": "markdown",
      "source": [
        "\n",
        "\n",
        "\n",
        "1.  **We have 7 attributes in total.**\n",
        "2.   **Images have 1 or more than 1 annotation for every image.**\n",
        "3. **There are no Null values in the data**\n",
        "\n",
        "\n",
        "\n"
      ],
      "metadata": {
        "id": "hf6EYQCFcf5J"
      }
    },
    {
      "cell_type": "code",
      "source": [
        "#Number of Images in test and train files\n",
        "Number_of_Images_Train = df_1['image_id'].unique()\n",
        "print('There are {} number of Images in the Train file.'.format(len(Number_of_Images_Train)))\n",
        "\n",
        "Number_of_Images_Test = df_2['image_id'].unique()\n",
        "print('There are {} number of Images in the Test file.'.format(len(Number_of_Images_Test)))\n"
      ],
      "metadata": {
        "id": "oNYap1wmaa7B"
      },
      "execution_count": null,
      "outputs": []
    },
    {
      "cell_type": "code",
      "source": [
        "import pandas as pd\n",
        "import matplotlib.pyplot as plt\n",
        "\n",
        "category_mapping = {\n",
        "    0:'Workers',\n",
        "    1: 'head',\n",
        "    2: 'helmet',\n",
        "    3: 'person'\n",
        "}\n",
        "# Create a bar chart of 'category_id' counts\n",
        "category_counts = df_1['category_id'].value_counts()\n",
        "category_counts_test = df_2['category_id'].value_counts()\n",
        "\n",
        "# Map category IDs to names\n",
        "category_names = category_counts.index.map(category_mapping)\n",
        "category_names_test = category_counts_test.index.map(category_mapping)\n",
        "\n",
        "plt.figure(figsize=(3,2))\n",
        "category_counts.index = category_names\n",
        "category_counts.plot(kind='bar')\n",
        "plt.xlabel('Categories')\n",
        "plt.ylabel('Occurrences in Train')\n",
        "plt.title('Occurrences of each category')\n",
        "plt.show()\n",
        "\n",
        "\n",
        "plt.figure(figsize=(3,2))\n",
        "category_counts_test.index = category_names_test\n",
        "category_counts_test.plot(kind='bar')\n",
        "plt.xlabel('Categories')\n",
        "plt.ylabel('Occurrences in Test')\n",
        "plt.title('Occurrences of each category')\n",
        "plt.show()\n"
      ],
      "metadata": {
        "id": "odcjdmbgm-Iw"
      },
      "execution_count": null,
      "outputs": []
    },
    {
      "cell_type": "markdown",
      "source": [
        "**We see almost the same distribution of cases among each category which shows balance between Test and Train files**"
      ],
      "metadata": {
        "id": "9xj5gEFCqJ8H"
      }
    },
    {
      "cell_type": "code",
      "source": [
        "import os\n",
        "import matplotlib.pyplot as plt\n",
        "\n",
        "test_dir = \"/content/drive/MyDrive/Data/Test\"\n",
        "train_dir = \"/content/drive/MyDrive/Data/Train\"\n",
        "\n",
        "# Initialize counters for test set\n",
        "with_hat_count_test = len(os.listdir(os.path.join(test_dir, \"with_hard_hat\")))\n",
        "without_hat_count_test = len(os.listdir(os.path.join(test_dir, \"without_hard_hat\")))\n",
        "\n",
        "# Initialize counters for training set\n",
        "with_hat_count_train = len(os.listdir(os.path.join(train_dir, \"with_hard_hat\")))\n",
        "without_hat_count_train = len(os.listdir(os.path.join(train_dir, \"without_hard_hat\")))\n",
        "\n",
        "# Bar chart for test set\n",
        "labels_test = ['With Hat', 'Without Hat']\n",
        "counts_test = [with_hat_count_test, without_hat_count_test]\n",
        "\n",
        "# Bar chart for training set\n",
        "labels_train = ['With Hat', 'Without Hat']\n",
        "counts_train = [with_hat_count_train, without_hat_count_train]\n",
        "\n",
        "# Create subplots with two columns\n",
        "fig, axs = plt.subplots(1, 2, figsize=(10, 4))\n",
        "\n",
        "# Plot test set bar chart with numbers\n",
        "bars_test = axs[0].bar(labels_test, counts_test, color=['blue', 'red'])\n",
        "axs[0].set_title('Test File')\n",
        "axs[0].set_xlabel('Categories')\n",
        "axs[0].set_ylabel('Number of Images')\n",
        "\n",
        "for bar, count in zip(bars_test, counts_test):\n",
        "    axs[0].text(bar.get_x() + bar.get_width() / 2 - 0.15, bar.get_height() + 0.1, str(count), ha='center', va='bottom')\n",
        "\n",
        "# Plot training set bar chart with numbers\n",
        "bars_train = axs[1].bar(labels_train, counts_train, color=['blue', 'red'])\n",
        "axs[1].set_title('Train File')\n",
        "axs[1].set_xlabel('Categories')\n",
        "axs[1].set_ylabel('Number of Images')\n",
        "\n",
        "for bar, count in zip(bars_train, counts_train):\n",
        "    axs[1].text(bar.get_x() + bar.get_width() / 2 - 0.15, bar.get_height() + 0.1, str(count), ha='center', va='bottom')\n",
        "\n",
        "plt.show()\n"
      ],
      "metadata": {
        "id": "jKg5_5VlLm8C"
      },
      "execution_count": null,
      "outputs": []
    },
    {
      "cell_type": "markdown",
      "metadata": {
        "id": "BxYTx-GQHbn5"
      },
      "source": [
        "# preprocessing Data\n",
        "\n",
        "\n",
        "\n",
        "*   Utilize ImageDataGenerator to preprocess and augment the training images.\n",
        "*   Create separate generators for training and validation data.\n",
        "\n",
        "*  Flow the images in batches using generators with specified augmentation parameters.\n",
        "\n",
        "\n",
        "\n",
        "\n",
        "\n",
        "\n",
        "\n",
        "\n",
        "\n"
      ]
    },
    {
      "cell_type": "code",
      "source": [
        "# using ImageDataGenerator for preprocessig and augmentation\n",
        "from tensorflow.keras.preprocessing.image import ImageDataGenerator\n",
        "\n",
        "# Set the paths for your training and validation datasets\n",
        "train_data_dir = '/content/drive/MyDrive/Data/Train'\n",
        "test_data_dir = '/content/drive/MyDrive/Data/Test'\n",
        "\n",
        "# Define the image size and batch size\n",
        "img_width, img_height =224,224\n",
        "batch_size = 32\n",
        "\n",
        "# Create an ImageDataGenerator for training data\n",
        "datagen = ImageDataGenerator(\n",
        "    rescale=1.0/255.0,\n",
        "    shear_range=0.2,\n",
        "    zoom_range=0.2,\n",
        "    horizontal_flip=True\n",
        ")\n",
        "\n",
        "# Flow training images in batches using the train_datagen generator\n",
        "train_iterator = datagen.flow_from_directory(\n",
        "    train_data_dir,\n",
        "    target_size=(img_width, img_height),\n",
        "    batch_size=batch_size,\n",
        "    class_mode='binary'\n",
        ")\n",
        "\n",
        "# Flow validation images in batches using the validation_datagen generator\n",
        "test_iterator = datagen.flow_from_directory(\n",
        "    test_data_dir,\n",
        "    target_size=(img_width, img_height),\n",
        "    batch_size=batch_size,\n",
        "    class_mode='binary'\n",
        ")"
      ],
      "metadata": {
        "id": "OlPPCXjxatN1"
      },
      "execution_count": null,
      "outputs": []
    },
    {
      "cell_type": "markdown",
      "metadata": {
        "id": "x2EXiLcpM3LY"
      },
      "source": [
        "# Model Architecture and Training\n",
        "*  Mini VGG is widely used in detection projects\n",
        "*  MobileNet has highly performance and is more flexible and light to adapt with different devices\n",
        "* Xception is known for its depth-wise separable convolutions and adapts to different input shapes"
      ]
    },
    {
      "cell_type": "markdown",
      "source": [
        "# 1. Mini VGG"
      ],
      "metadata": {
        "id": "ax5RTAyG-zqw"
      }
    },
    {
      "cell_type": "code",
      "source": [
        "from keras.models import Sequential\n",
        "from keras.layers import Conv2D, MaxPooling2D, Flatten, Dense\n",
        "\n",
        "def create_mini_vgg():\n",
        "    model = Sequential()\n",
        "\n",
        "    # Convolutional Block 1\n",
        "    model.add(Conv2D(12, (3, 3), activation='relu', input_shape=(224,224,3)))\n",
        "    model.add(MaxPooling2D(pool_size=(2, 2)))\n",
        "\n",
        "    # Convolutional Block 2\n",
        "    model.add(Conv2D(24, (3, 3), activation='relu'))\n",
        "    model.add(MaxPooling2D(pool_size=(2, 2)))\n",
        "\n",
        "    # Convolutional Block 3\n",
        "    model.add(Conv2D(12, (3, 3), activation='relu'))\n",
        "    model.add(MaxPooling2D(pool_size=(2, 2)))\n",
        "\n",
        "    # Fully Connected layers\n",
        "    model.add(Flatten())\n",
        "    model.add(Dense(125, activation='relu'))\n",
        "    model.add(Dense(1, activation='sigmoid'))\n",
        "\n",
        "    return model\n",
        "model=create_mini_vgg()\n",
        "model.summary()"
      ],
      "metadata": {
        "id": "-jMH5yoDCT7t"
      },
      "execution_count": null,
      "outputs": []
    },
    {
      "cell_type": "code",
      "source": [
        "from keras.metrics import Precision\n",
        "model.compile(optimizer='adam',loss='binary_crossentropy', metrics=['accuracy', Precision()])\n",
        "\n",
        "# Train the model\n",
        "model.fit(train_iterator,epochs=10,batch_size=32,verbose=1, validation_data=test_iterator)\n"
      ],
      "metadata": {
        "colab": {
          "base_uri": "https://localhost:8080/"
        },
        "id": "reERuzy3CYbt",
        "outputId": "67a508d4-32fc-4b0c-f79a-a72e585e1d68"
      },
      "execution_count": null,
      "outputs": [
        {
          "output_type": "stream",
          "name": "stdout",
          "text": [
            "Epoch 1/10\n",
            "165/165 [==============================] - 351s 2s/step - loss: 0.2740 - accuracy: 0.9121 - precision: 0.0938 - val_loss: 0.2477 - val_accuracy: 0.9083 - val_precision: 0.0000e+00\n",
            "Epoch 2/10\n",
            "165/165 [==============================] - 372s 2s/step - loss: 0.2281 - accuracy: 0.9171 - precision: 0.0000e+00 - val_loss: 0.2406 - val_accuracy: 0.9083 - val_precision: 0.0000e+00\n",
            "Epoch 3/10\n",
            "165/165 [==============================] - 323s 2s/step - loss: 0.2175 - accuracy: 0.9171 - precision: 0.0000e+00 - val_loss: 0.2508 - val_accuracy: 0.9083 - val_precision: 0.0000e+00\n",
            "Epoch 4/10\n",
            "165/165 [==============================] - 320s 2s/step - loss: 0.2080 - accuracy: 0.9171 - precision: 0.0000e+00 - val_loss: 0.2447 - val_accuracy: 0.9083 - val_precision: 0.0000e+00\n",
            "Epoch 5/10\n",
            "165/165 [==============================] - 352s 2s/step - loss: 0.2150 - accuracy: 0.9171 - precision: 0.0000e+00 - val_loss: 0.2299 - val_accuracy: 0.9083 - val_precision: 0.0000e+00\n",
            "Epoch 6/10\n",
            "165/165 [==============================] - 350s 2s/step - loss: 0.1995 - accuracy: 0.9171 - precision: 0.0000e+00 - val_loss: 0.2193 - val_accuracy: 0.9083 - val_precision: 0.0000e+00\n",
            "Epoch 7/10\n",
            "165/165 [==============================] - 352s 2s/step - loss: 0.1897 - accuracy: 0.9171 - precision: 0.0000e+00 - val_loss: 0.2191 - val_accuracy: 0.9083 - val_precision: 0.0000e+00\n",
            "Epoch 8/10\n",
            "165/165 [==============================] - 346s 2s/step - loss: 0.1849 - accuracy: 0.9191 - precision: 0.7619 - val_loss: 0.2482 - val_accuracy: 0.9083 - val_precision: 0.0000e+00\n",
            "Epoch 9/10\n",
            "165/165 [==============================] - 323s 2s/step - loss: 0.1839 - accuracy: 0.9216 - precision: 0.6667 - val_loss: 0.2250 - val_accuracy: 0.9145 - val_precision: 0.8235\n",
            "Epoch 10/10\n",
            "165/165 [==============================] - 314s 2s/step - loss: 0.1795 - accuracy: 0.9224 - precision: 0.7121 - val_loss: 0.2424 - val_accuracy: 0.9088 - val_precision: 1.0000\n"
          ]
        },
        {
          "output_type": "execute_result",
          "data": {
            "text/plain": [
              "<keras.src.callbacks.History at 0x7a2b77baace0>"
            ]
          },
          "metadata": {},
          "execution_count": 16
        }
      ]
    },
    {
      "cell_type": "code",
      "source": [
        "model.evaluate(test_iterator)"
      ],
      "metadata": {
        "colab": {
          "base_uri": "https://localhost:8080/"
        },
        "id": "ZFhevAmNCbWb",
        "outputId": "7902cbff-ea82-4410-e2c0-2f7046f615db"
      },
      "execution_count": null,
      "outputs": [
        {
          "output_type": "stream",
          "name": "stdout",
          "text": [
            "56/56 [==============================] - 57s 1s/step - loss: 0.2394 - accuracy: 0.9083 - precision: 0.0000e+00\n"
          ]
        },
        {
          "output_type": "execute_result",
          "data": {
            "text/plain": [
              "[0.2393515557050705, 0.9082672595977783, 0.0]"
            ]
          },
          "metadata": {},
          "execution_count": 17
        }
      ]
    },
    {
      "cell_type": "code",
      "source": [
        "import tensorflow as tf\n",
        "from tensorflow.keras.models import save_model\n",
        "tf.keras.models.save_model(model, '/content/Trained_modelOne.keras')"
      ],
      "metadata": {
        "id": "DeHmf2wlChku"
      },
      "execution_count": null,
      "outputs": []
    },
    {
      "cell_type": "code",
      "source": [
        "import pickle\n",
        "with open('modelOne.sav', 'wb') as file:\n",
        "    pickle.dump(model, file)"
      ],
      "metadata": {
        "id": "e1IrbfGKfnkS"
      },
      "execution_count": null,
      "outputs": []
    },
    {
      "cell_type": "markdown",
      "source": [
        "# 2. MobileNet_V1"
      ],
      "metadata": {
        "id": "KC5jJ8NHAotZ"
      }
    },
    {
      "cell_type": "code",
      "source": [
        "from tensorflow.keras.models import Sequential\n",
        "from tensorflow.keras.layers import Dense, GlobalAveragePooling2D\n",
        "from tensorflow.keras.applications import MobileNet\n",
        "from tensorflow.keras.preprocessing import image\n",
        "from tensorflow.keras.applications.mobilenet import preprocess_input, decode_predictions\n",
        "import numpy as np\n",
        "\n",
        "# Load MobileNetV1 base model without top (fully connected) layers\n",
        "#base_model = MobileNet(weights='imagenet', include_top=False)\n",
        "base_model = MobileNet(weights='imagenet', include_top=False, input_shape=(224, 224, 3))\n",
        "\n",
        "\n",
        "# Create a Sequential model\n",
        "model = Sequential()\n",
        "\n",
        "# Add the MobileNetV1 base model to the Sequential model\n",
        "model.add(base_model)\n",
        "# Set MobileNetV1 layers as non-trainable\n",
        "for layer in base_model.layers:\n",
        "    layer.trainable = False\n",
        "\n",
        "# Add GlobalAveragePooling2D layer to reduce spatial dimensions\n",
        "model.add(GlobalAveragePooling2D())\n",
        "\n",
        "# Add custom dense layers for classification\n",
        "model.add(Dense(220, activation='relu'))\n",
        "model.add(Dense(1, activation='sigmoid'))\n",
        "\n",
        "# Print model summary to see the architecture\n",
        "model.summary()\n",
        "from keras.callbacks import Callback\n",
        "from keras.metrics import Precision\n",
        "# Display the model summary\n",
        "model.compile(optimizer='adam',\n",
        "                       loss='binary_crossentropy',\n",
        "                       metrics=['accuracy', Precision()])\n",
        "\n",
        "# Train the model with the custom callback\n",
        "model.fit(train_iterator,\n",
        "                   epochs=10,  # You may set this to a large number or use a loop with early stopping\n",
        "                   batch_size=32,\n",
        "                   verbose=1,\n",
        "                   validation_data=test_iterator)"
      ],
      "metadata": {
        "colab": {
          "base_uri": "https://localhost:8080/"
        },
        "id": "lLu6NnEAB_-T",
        "outputId": "f51bbd0c-838d-47e3-804f-001fa22237ff"
      },
      "execution_count": null,
      "outputs": [
        {
          "output_type": "stream",
          "name": "stdout",
          "text": [
            "Model: \"sequential_2\"\n",
            "_________________________________________________________________\n",
            " Layer (type)                Output Shape              Param #   \n",
            "=================================================================\n",
            " mobilenet_1.00_224 (Functi  (None, 7, 7, 1024)        3228864   \n",
            " onal)                                                           \n",
            "                                                                 \n",
            " global_average_pooling2d_1  (None, 1024)              0         \n",
            "  (GlobalAveragePooling2D)                                       \n",
            "                                                                 \n",
            " dense_4 (Dense)             (None, 220)               225500    \n",
            "                                                                 \n",
            " dense_5 (Dense)             (None, 1)                 221       \n",
            "                                                                 \n",
            "=================================================================\n",
            "Total params: 3454585 (13.18 MB)\n",
            "Trainable params: 225721 (881.72 KB)\n",
            "Non-trainable params: 3228864 (12.32 MB)\n",
            "_________________________________________________________________\n",
            "Epoch 1/10\n",
            "165/165 [==============================] - 478s 3s/step - loss: 0.1946 - accuracy: 0.9233 - precision_2: 0.5600 - val_loss: 0.1194 - val_accuracy: 0.9462 - val_precision_2: 0.7519\n",
            "Epoch 2/10\n",
            "165/165 [==============================] - 465s 3s/step - loss: 0.1148 - accuracy: 0.9499 - precision_2: 0.7270 - val_loss: 0.1131 - val_accuracy: 0.9502 - val_precision_2: 0.7891\n",
            "Epoch 3/10\n",
            "165/165 [==============================] - 466s 3s/step - loss: 0.1015 - accuracy: 0.9567 - precision_2: 0.7632 - val_loss: 0.1144 - val_accuracy: 0.9490 - val_precision_2: 0.7951\n",
            "Epoch 4/10\n",
            "165/165 [==============================] - 464s 3s/step - loss: 0.0942 - accuracy: 0.9582 - precision_2: 0.7614 - val_loss: 0.1073 - val_accuracy: 0.9570 - val_precision_2: 0.7471\n",
            "Epoch 5/10\n",
            "165/165 [==============================] - 461s 3s/step - loss: 0.0909 - accuracy: 0.9605 - precision_2: 0.7827 - val_loss: 0.1201 - val_accuracy: 0.9434 - val_precision_2: 0.8298\n",
            "Epoch 6/10\n",
            "165/165 [==============================] - 430s 3s/step - loss: 0.0822 - accuracy: 0.9653 - precision_2: 0.8068 - val_loss: 0.1167 - val_accuracy: 0.9496 - val_precision_2: 0.8411\n",
            "Epoch 7/10\n",
            "165/165 [==============================] - 463s 3s/step - loss: 0.0804 - accuracy: 0.9647 - precision_2: 0.8084 - val_loss: 0.1096 - val_accuracy: 0.9524 - val_precision_2: 0.7053\n",
            "Epoch 8/10\n",
            "165/165 [==============================] - 463s 3s/step - loss: 0.0804 - accuracy: 0.9662 - precision_2: 0.7991 - val_loss: 0.1352 - val_accuracy: 0.9411 - val_precision_2: 0.8625\n",
            "Epoch 9/10\n",
            "165/165 [==============================] - 460s 3s/step - loss: 0.0740 - accuracy: 0.9691 - precision_2: 0.8374 - val_loss: 0.1267 - val_accuracy: 0.9445 - val_precision_2: 0.6455\n",
            "Epoch 10/10\n",
            "165/165 [==============================] - 467s 3s/step - loss: 0.0699 - accuracy: 0.9710 - precision_2: 0.8413 - val_loss: 0.1156 - val_accuracy: 0.9519 - val_precision_2: 0.7278\n"
          ]
        },
        {
          "output_type": "execute_result",
          "data": {
            "text/plain": [
              "<keras.src.callbacks.History at 0x7a2b6c6863e0>"
            ]
          },
          "metadata": {},
          "execution_count": 35
        }
      ]
    },
    {
      "cell_type": "code",
      "source": [
        "model.evaluate(test_iterator)"
      ],
      "metadata": {
        "colab": {
          "base_uri": "https://localhost:8080/"
        },
        "id": "rXp1DnN5CGQ8",
        "outputId": "78ffa8ab-77ea-4231-f838-9aac68a3b494"
      },
      "execution_count": null,
      "outputs": [
        {
          "output_type": "stream",
          "name": "stdout",
          "text": [
            "56/56 [==============================] - 108s 2s/step - loss: 0.1115 - accuracy: 0.9473 - precision_2: 0.7091\n"
          ]
        },
        {
          "output_type": "execute_result",
          "data": {
            "text/plain": [
              "[0.11151658743619919, 0.9473386406898499, 0.7090908885002136]"
            ]
          },
          "metadata": {},
          "execution_count": 36
        }
      ]
    },
    {
      "cell_type": "code",
      "source": [
        "tf.keras.models.save_model(model, filepath='/content/modelTwo.keras')"
      ],
      "metadata": {
        "id": "5EUfOQ-HBkOz"
      },
      "execution_count": null,
      "outputs": []
    },
    {
      "cell_type": "code",
      "source": [
        "with open('modelTwo.sav', 'wb') as file:\n",
        "    pickle.dump(model, file)"
      ],
      "metadata": {
        "id": "j3VihU9EgLx9"
      },
      "execution_count": null,
      "outputs": []
    },
    {
      "cell_type": "markdown",
      "source": [
        "# 3. Xception Pretrained Model"
      ],
      "metadata": {
        "id": "SD1Sxj1k_VJ2"
      }
    },
    {
      "cell_type": "code",
      "source": [
        "#model test\n",
        "import tensorflow as tf\n",
        "from tensorflow.keras.applications import Xception\n",
        "from tensorflow.keras.models import Model\n",
        "from tensorflow.keras.layers import Dense, GlobalAveragePooling2D, Dropout\n",
        "from tensorflow.keras.preprocessing.image import ImageDataGenerator\n",
        "from keras.metrics import Precision\n",
        "\n",
        "# Load the pre-trained Xception model without the top layers\n",
        "base_model = Xception(weights='imagenet', include_top=False, input_shape=(416,416, 3))\n",
        "\n",
        "# Freeze the layers of the pre-trained model\n",
        "for layer in base_model.layers:\n",
        "    layer.trainable = False\n",
        "\n",
        "# Add your custom top layers for your specific task\n",
        "x = GlobalAveragePooling2D()(base_model.output)\n",
        "x = Dense(512, activation='relu')(x)\n",
        "x = Dropout(0.5)(x)\n",
        "output_layer = Dense(1, activation='sigmoid')(x)  # Adjust NUM_CLASSES based on your task\n",
        "# Create the new model\n",
        "model = Model(inputs=base_model.input, outputs=output_layer)\n",
        "# Compile the model\n",
        "model.compile(optimizer='adam', loss='binary_crossentropy', metrics=['accuracy',Precision()])\n",
        "\n",
        "# Train the model\n",
        "model.fit(train_iterator, steps_per_epoch=len(train_iterator), epochs=10, validation_data=test_iterator, validation_steps=len(test_iterator))\n"
      ],
      "metadata": {
        "id": "1Q-XBLV_ab5R"
      },
      "execution_count": null,
      "outputs": []
    },
    {
      "cell_type": "code",
      "source": [
        "model.evaluate(test_iterator)"
      ],
      "metadata": {
        "id": "yS1w13XzAE29"
      },
      "execution_count": null,
      "outputs": []
    },
    {
      "cell_type": "code",
      "source": [
        "import tensorflow as tf\n",
        "from tensorflow.keras.models import save_model\n",
        "tf.keras.models.save_model(model, filepath='/content/modelThree.keras')"
      ],
      "metadata": {
        "id": "B2QwzVBQAUo5"
      },
      "execution_count": null,
      "outputs": []
    },
    {
      "cell_type": "markdown",
      "source": [
        "# Testing Model in Colab"
      ],
      "metadata": {
        "id": "Xos0l3MmLqP2"
      }
    },
    {
      "cell_type": "code",
      "source": [
        "from google.colab import files\n",
        "from PIL import Image\n",
        "\n",
        "# Upload image\n",
        "uploaded_file = files.upload()\n",
        "\n",
        "# Read the uploaded image\n",
        "image_path = list(uploaded_file.keys())[0]\n",
        "image = Image.open(image_path)\n"
      ],
      "metadata": {
        "colab": {
          "base_uri": "https://localhost:8080/",
          "height": 73
        },
        "id": "gLlepMFoLpDz",
        "outputId": "89f4fddd-fd64-410e-a376-ed108cb9e65f"
      },
      "execution_count": null,
      "outputs": [
        {
          "output_type": "display_data",
          "data": {
            "text/plain": [
              "<IPython.core.display.HTML object>"
            ],
            "text/html": [
              "\n",
              "     <input type=\"file\" id=\"files-da33fdba-e5b9-4107-8b17-11aa57c85d93\" name=\"files[]\" multiple disabled\n",
              "        style=\"border:none\" />\n",
              "     <output id=\"result-da33fdba-e5b9-4107-8b17-11aa57c85d93\">\n",
              "      Upload widget is only available when the cell has been executed in the\n",
              "      current browser session. Please rerun this cell to enable.\n",
              "      </output>\n",
              "      <script>// Copyright 2017 Google LLC\n",
              "//\n",
              "// Licensed under the Apache License, Version 2.0 (the \"License\");\n",
              "// you may not use this file except in compliance with the License.\n",
              "// You may obtain a copy of the License at\n",
              "//\n",
              "//      http://www.apache.org/licenses/LICENSE-2.0\n",
              "//\n",
              "// Unless required by applicable law or agreed to in writing, software\n",
              "// distributed under the License is distributed on an \"AS IS\" BASIS,\n",
              "// WITHOUT WARRANTIES OR CONDITIONS OF ANY KIND, either express or implied.\n",
              "// See the License for the specific language governing permissions and\n",
              "// limitations under the License.\n",
              "\n",
              "/**\n",
              " * @fileoverview Helpers for google.colab Python module.\n",
              " */\n",
              "(function(scope) {\n",
              "function span(text, styleAttributes = {}) {\n",
              "  const element = document.createElement('span');\n",
              "  element.textContent = text;\n",
              "  for (const key of Object.keys(styleAttributes)) {\n",
              "    element.style[key] = styleAttributes[key];\n",
              "  }\n",
              "  return element;\n",
              "}\n",
              "\n",
              "// Max number of bytes which will be uploaded at a time.\n",
              "const MAX_PAYLOAD_SIZE = 100 * 1024;\n",
              "\n",
              "function _uploadFiles(inputId, outputId) {\n",
              "  const steps = uploadFilesStep(inputId, outputId);\n",
              "  const outputElement = document.getElementById(outputId);\n",
              "  // Cache steps on the outputElement to make it available for the next call\n",
              "  // to uploadFilesContinue from Python.\n",
              "  outputElement.steps = steps;\n",
              "\n",
              "  return _uploadFilesContinue(outputId);\n",
              "}\n",
              "\n",
              "// This is roughly an async generator (not supported in the browser yet),\n",
              "// where there are multiple asynchronous steps and the Python side is going\n",
              "// to poll for completion of each step.\n",
              "// This uses a Promise to block the python side on completion of each step,\n",
              "// then passes the result of the previous step as the input to the next step.\n",
              "function _uploadFilesContinue(outputId) {\n",
              "  const outputElement = document.getElementById(outputId);\n",
              "  const steps = outputElement.steps;\n",
              "\n",
              "  const next = steps.next(outputElement.lastPromiseValue);\n",
              "  return Promise.resolve(next.value.promise).then((value) => {\n",
              "    // Cache the last promise value to make it available to the next\n",
              "    // step of the generator.\n",
              "    outputElement.lastPromiseValue = value;\n",
              "    return next.value.response;\n",
              "  });\n",
              "}\n",
              "\n",
              "/**\n",
              " * Generator function which is called between each async step of the upload\n",
              " * process.\n",
              " * @param {string} inputId Element ID of the input file picker element.\n",
              " * @param {string} outputId Element ID of the output display.\n",
              " * @return {!Iterable<!Object>} Iterable of next steps.\n",
              " */\n",
              "function* uploadFilesStep(inputId, outputId) {\n",
              "  const inputElement = document.getElementById(inputId);\n",
              "  inputElement.disabled = false;\n",
              "\n",
              "  const outputElement = document.getElementById(outputId);\n",
              "  outputElement.innerHTML = '';\n",
              "\n",
              "  const pickedPromise = new Promise((resolve) => {\n",
              "    inputElement.addEventListener('change', (e) => {\n",
              "      resolve(e.target.files);\n",
              "    });\n",
              "  });\n",
              "\n",
              "  const cancel = document.createElement('button');\n",
              "  inputElement.parentElement.appendChild(cancel);\n",
              "  cancel.textContent = 'Cancel upload';\n",
              "  const cancelPromise = new Promise((resolve) => {\n",
              "    cancel.onclick = () => {\n",
              "      resolve(null);\n",
              "    };\n",
              "  });\n",
              "\n",
              "  // Wait for the user to pick the files.\n",
              "  const files = yield {\n",
              "    promise: Promise.race([pickedPromise, cancelPromise]),\n",
              "    response: {\n",
              "      action: 'starting',\n",
              "    }\n",
              "  };\n",
              "\n",
              "  cancel.remove();\n",
              "\n",
              "  // Disable the input element since further picks are not allowed.\n",
              "  inputElement.disabled = true;\n",
              "\n",
              "  if (!files) {\n",
              "    return {\n",
              "      response: {\n",
              "        action: 'complete',\n",
              "      }\n",
              "    };\n",
              "  }\n",
              "\n",
              "  for (const file of files) {\n",
              "    const li = document.createElement('li');\n",
              "    li.append(span(file.name, {fontWeight: 'bold'}));\n",
              "    li.append(span(\n",
              "        `(${file.type || 'n/a'}) - ${file.size} bytes, ` +\n",
              "        `last modified: ${\n",
              "            file.lastModifiedDate ? file.lastModifiedDate.toLocaleDateString() :\n",
              "                                    'n/a'} - `));\n",
              "    const percent = span('0% done');\n",
              "    li.appendChild(percent);\n",
              "\n",
              "    outputElement.appendChild(li);\n",
              "\n",
              "    const fileDataPromise = new Promise((resolve) => {\n",
              "      const reader = new FileReader();\n",
              "      reader.onload = (e) => {\n",
              "        resolve(e.target.result);\n",
              "      };\n",
              "      reader.readAsArrayBuffer(file);\n",
              "    });\n",
              "    // Wait for the data to be ready.\n",
              "    let fileData = yield {\n",
              "      promise: fileDataPromise,\n",
              "      response: {\n",
              "        action: 'continue',\n",
              "      }\n",
              "    };\n",
              "\n",
              "    // Use a chunked sending to avoid message size limits. See b/62115660.\n",
              "    let position = 0;\n",
              "    do {\n",
              "      const length = Math.min(fileData.byteLength - position, MAX_PAYLOAD_SIZE);\n",
              "      const chunk = new Uint8Array(fileData, position, length);\n",
              "      position += length;\n",
              "\n",
              "      const base64 = btoa(String.fromCharCode.apply(null, chunk));\n",
              "      yield {\n",
              "        response: {\n",
              "          action: 'append',\n",
              "          file: file.name,\n",
              "          data: base64,\n",
              "        },\n",
              "      };\n",
              "\n",
              "      let percentDone = fileData.byteLength === 0 ?\n",
              "          100 :\n",
              "          Math.round((position / fileData.byteLength) * 100);\n",
              "      percent.textContent = `${percentDone}% done`;\n",
              "\n",
              "    } while (position < fileData.byteLength);\n",
              "  }\n",
              "\n",
              "  // All done.\n",
              "  yield {\n",
              "    response: {\n",
              "      action: 'complete',\n",
              "    }\n",
              "  };\n",
              "}\n",
              "\n",
              "scope.google = scope.google || {};\n",
              "scope.google.colab = scope.google.colab || {};\n",
              "scope.google.colab._files = {\n",
              "  _uploadFiles,\n",
              "  _uploadFilesContinue,\n",
              "};\n",
              "})(self);\n",
              "</script> "
            ]
          },
          "metadata": {}
        },
        {
          "output_type": "stream",
          "name": "stdout",
          "text": [
            "Saving 005302_jpg.rf.3f9ff0dcbfa01ac541e96d7aa79685ff.jpg to 005302_jpg.rf.3f9ff0dcbfa01ac541e96d7aa79685ff.jpg\n"
          ]
        }
      ]
    },
    {
      "cell_type": "code",
      "source": [
        "# Preprocess the image\n",
        "image = image.resize((416, 416))  # Adjust size based on your model's input size\n",
        "image_array = np.array(image)\n",
        "preprocessed_image = image_array / 255.0  # Normalize pixel values to [0, 1]\n",
        "\n",
        "# Expand dimensions to create a batch size of 1\n",
        "preprocessed_image = np.expand_dims(preprocessed_image, axis=0)\n"
      ],
      "metadata": {
        "id": "WI0988NELvwD"
      },
      "execution_count": null,
      "outputs": []
    },
    {
      "cell_type": "code",
      "source": [
        "from scipy.special import softmax\n",
        "\n",
        "# Make predictions\n",
        "\n",
        "loaded_model = pickle.load(open('/content/modelOne.sav', 'rb'))\n",
        "prediction = loaded_model.predict(preprocessed_image)\n",
        "print(prediction)\n",
        "\n",
        "if prediction[0][0] >= 0.5:\n",
        "  print('Hard-Hat detected', prediction[0][0])\n",
        "else:\n",
        "  print('No Hard-Hat detected!', prediction[0][0])\n",
        "\n"
      ],
      "metadata": {
        "id": "33mJTX_DLyUL"
      },
      "execution_count": null,
      "outputs": []
    }
  ],
  "metadata": {
    "colab": {
      "provenance": [],
      "collapsed_sections": [
        "8yzzZi8thtgH",
        "4tP0aJW9iqpc",
        "yAGovVC_XoFW",
        "BxYTx-GQHbn5",
        "ax5RTAyG-zqw",
        "KC5jJ8NHAotZ"
      ],
      "include_colab_link": true
    },
    "kernelspec": {
      "display_name": "Python 3",
      "name": "python3"
    },
    "language_info": {
      "name": "python"
    }
  },
  "nbformat": 4,
  "nbformat_minor": 0
}
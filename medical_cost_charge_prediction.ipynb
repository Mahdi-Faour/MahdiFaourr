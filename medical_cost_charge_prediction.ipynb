{
  "nbformat": 4,
  "nbformat_minor": 0,
  "metadata": {
    "colab": {
      "provenance": [],
      "authorship_tag": "ABX9TyOpEXl+1rGV3n1ID1UOfuaA",
      "include_colab_link": true
    },
    "kernelspec": {
      "name": "python3",
      "display_name": "Python 3"
    },
    "language_info": {
      "name": "python"
    }
  },
  "cells": [
    {
      "cell_type": "markdown",
      "metadata": {
        "id": "view-in-github",
        "colab_type": "text"
      },
      "source": [
        "<a href=\"https://colab.research.google.com/github/MahdiFaourr/MahdiFaourr/blob/main/medical_cost_charge_prediction.ipynb\" target=\"_parent\"><img src=\"https://colab.research.google.com/assets/colab-badge.svg\" alt=\"Open In Colab\"/></a>"
      ]
    },
    {
      "cell_type": "code",
      "metadata": {
        "id": "q2WMRpE1rMhh"
      },
      "source": [
        "# clone git repo\n",
        "!git clone https://github.com/zaka-ai/medical-cost-prediction\n",
        "\n",
        "# change working directory\n",
        "%cd medical-cost-prediction/data/"
      ],
      "execution_count": null,
      "outputs": []
    },
    {
      "cell_type": "code",
      "execution_count": null,
      "metadata": {
        "id": "ZxYoDrAIfKOs"
      },
      "outputs": [],
      "source": [
        "# Import necessary libraries and functions\n",
        "import pandas as pd\n",
        "import matplotlib.pyplot as plt\n",
        "import numpy as np\n",
        "from sklearn.preprocessing import LabelEncoder\n",
        "from sklearn.model_selection import cross_validate,train_test_split\n",
        "from sklearn.model_selection import cross_validate\n",
        "from sklearn.linear_model import LinearRegression\n",
        "from sklearn.svm import SVR\n",
        "from sklearn.ensemble import RandomForestRegressor\n",
        "from sklearn.model_selection import GridSearchCV\n",
        "from sklearn.metrics import mean_squared_error,mean_absolute_error"
      ]
    },
    {
      "cell_type": "code",
      "source": [
        "# Load the data in a pandas frame\n",
        "path_to_data=\"/content/medical-cost-prediction/data/insurance.csv\"\n",
        "data=pd.read_csv(path_to_data)\n",
        "data.head()"
      ],
      "metadata": {
        "id": "RAszQgmnfLdq"
      },
      "execution_count": null,
      "outputs": []
    },
    {
      "cell_type": "code",
      "source": [
        "# Check the maximal charge\n",
        "max_charge=data['charges'].max()\n",
        "print(max_charge)"
      ],
      "metadata": {
        "id": "vr_-0NX41gSJ"
      },
      "execution_count": null,
      "outputs": []
    },
    {
      "cell_type": "code",
      "source": [
        "# Check the shape of the dataset\n",
        "print(\"This data contains: \"+str(data.shape[0])+\" rows and \"+str(data.shape[1])+\" columns.\")"
      ],
      "metadata": {
        "id": "DY9R0dsYfYqc"
      },
      "execution_count": null,
      "outputs": []
    },
    {
      "cell_type": "code",
      "source": [
        "# Check the number of classes od children-column\n",
        "data['children'].value_counts()"
      ],
      "metadata": {
        "id": "hkVEVpZPlVuU"
      },
      "execution_count": null,
      "outputs": []
    },
    {
      "cell_type": "code",
      "source": [
        "# Check data info\n",
        "data.info()"
      ],
      "metadata": {
        "id": "uVR9IuF3fLf8"
      },
      "execution_count": null,
      "outputs": []
    },
    {
      "cell_type": "code",
      "source": [
        "# Search for nulls\n",
        "data.isnull().sum()"
      ],
      "metadata": {
        "id": "cPbKDzh1fLkr"
      },
      "execution_count": null,
      "outputs": []
    },
    {
      "cell_type": "code",
      "source": [
        "# Fill the null places\n",
        "data=data.fillna(data['bmi'].mean())"
      ],
      "metadata": {
        "id": "B2lm9j8SfLn2"
      },
      "execution_count": null,
      "outputs": []
    },
    {
      "cell_type": "code",
      "source": [
        "# create the figure\n",
        "fig = plt.figure(figsize=(12,5))\n",
        "\n",
        "# add first sub plot for bmi\n",
        "ax = fig.add_subplot(121)\n",
        "# draw scatter of charges with respect to bmi\n",
        "ax.scatter(data['bmi'],data['charges'])\n",
        "# set sub plot title\n",
        "ax.set_title('Scatter of Charges by BMI')\n",
        "\n",
        "# add second sub plot for age\n",
        "ax = fig.add_subplot(122)\n",
        "# draw the scatter of charges with respect to the age\n",
        "ax.scatter(data['age'],data['charges'])\n",
        "# set sub plot title\n",
        "ax.set_title('Scatter of Charges by Age')"
      ],
      "metadata": {
        "id": "syxovhSQfLtT"
      },
      "execution_count": null,
      "outputs": []
    },
    {
      "cell_type": "code",
      "source": [
        "# Split the data according to smoking status\n",
        "data_smoker=data[data['smoker']==\"yes\"]\n",
        "data_non_smoker=data[data['smoker']==\"no\"]"
      ],
      "metadata": {
        "id": "LDibPnRQkDRy"
      },
      "execution_count": null,
      "outputs": []
    },
    {
      "cell_type": "code",
      "source": [
        "# create the figure\n",
        "fig = plt.figure(figsize=(12,5))\n",
        "\n",
        "# add first sub plot for smokers\n",
        "ax = fig.add_subplot(121)\n",
        "# draw distribution of charges for smokers\n",
        "ax.hist(data_smoker['charges'])\n",
        "# set sub plot title\n",
        "ax.set_title('Distribution of charges for smokers')\n",
        "\n",
        "# add second sub plot for non smokers\n",
        "ax = fig.add_subplot(122)\n",
        "# draw distribution of charges for non-smokers\n",
        "ax.hist(data_non_smoker['charges'])\n",
        "# set sub plot title\n",
        "ax.set_title('Distribution of charges for non-smokers')"
      ],
      "metadata": {
        "id": "dS1pt16GfLzb"
      },
      "execution_count": null,
      "outputs": []
    },
    {
      "cell_type": "code",
      "source": [
        "# Split the data according to gender\n",
        "data_male=data[data['sex']=='male']\n",
        "data_female=data[data['sex']=='female']"
      ],
      "metadata": {
        "id": "NZxFChUVkCmK"
      },
      "execution_count": null,
      "outputs": []
    },
    {
      "cell_type": "code",
      "source": [
        "# create the figure\n",
        "fig = plt.figure(figsize=(12,5))\n",
        "\n",
        "# add first sub plot for males\n",
        "ax = fig.add_subplot(121)\n",
        "# draw distribution of charges for males\n",
        "ax.hist(data_male['charges'])\n",
        "# set sub plot title\n",
        "ax.set_title('Distribution of charges for males')\n",
        "\n",
        "# add second sub plot for females\n",
        "ax = fig.add_subplot(122)\n",
        "# draw distribution of charges for females\n",
        "ax.hist(data_female['charges'])\n",
        "# set sub plot title\n",
        "ax.set_title('Distribution of charges for females')"
      ],
      "metadata": {
        "id": "FYiwQJm7fL22"
      },
      "execution_count": null,
      "outputs": []
    },
    {
      "cell_type": "code",
      "source": [
        "# Create the figure with 5 subplots\n",
        "fig, axs = plt.subplots(1, 6, figsize=(20, 5))\n",
        "\n",
        "# Iterate over the number of children\n",
        "for i in range(6):\n",
        "    # Filter data for the current number of children\n",
        "    data_children_i = data[data['children'] == i]\n",
        "\n",
        "    # Plot the distribution of charges for the current number of children\n",
        "    axs[i].hist(data_children_i['charges'])\n",
        "    axs[i].set_title(f'Distribution of charges for {i} children')\n",
        "\n",
        "# Adjust layout to prevent clipping of titles\n",
        "plt.tight_layout()\n",
        "\n",
        "\n",
        "\n"
      ],
      "metadata": {
        "id": "ark19XywfL6Q"
      },
      "execution_count": null,
      "outputs": []
    },
    {
      "cell_type": "code",
      "source": [
        "# Get unique values in the 'region' column\n",
        "unique_regions = data['region'].unique()\n",
        "\n",
        "# Create the figure with subplots\n",
        "fig, ax = plt.subplots(1, len(unique_regions), figsize=(20, 5))\n",
        "\n",
        "# Iterate over unique values in the 'region' column\n",
        "for i, region in enumerate(unique_regions):\n",
        "    # Filter data for the current region\n",
        "    data_region_i = data[data['region'] == region]\n",
        "\n",
        "    # Plot the distribution of charges for the current region\n",
        "    ax[i].hist(data_region_i['charges'])\n",
        "    ax[i].set_title(f'Distribution of charges for {region}')\n",
        "\n",
        "# Adjust layout to prevent clipping of titles\n",
        "plt.tight_layout()"
      ],
      "metadata": {
        "id": "6HEaDTrtl8Ly"
      },
      "execution_count": null,
      "outputs": []
    },
    {
      "cell_type": "code",
      "source": [
        "# Drop the less related columns to charges\n",
        "data=data.drop(['region','sex'],axis=1)"
      ],
      "metadata": {
        "id": "bNCyWXiQl8Ov"
      },
      "execution_count": null,
      "outputs": []
    },
    {
      "cell_type": "code",
      "source": [
        "# Convert the classes of smoker-column into integers\n",
        "encoder=LabelEncoder()\n",
        "data['smoker']=encoder.fit_transform(data['smoker'])"
      ],
      "metadata": {
        "id": "OLanteBQqR17"
      },
      "execution_count": null,
      "outputs": []
    },
    {
      "cell_type": "code",
      "source": [
        "# Normalize the data\n",
        "data_max=data.max()\n",
        "data=data.divide(data_max)"
      ],
      "metadata": {
        "id": "OhFMMV0vqR8T"
      },
      "execution_count": null,
      "outputs": []
    },
    {
      "cell_type": "code",
      "source": [
        "# Check the statistics of the data\n",
        "data.describe()"
      ],
      "metadata": {
        "id": "0WwVfswlqrqY"
      },
      "execution_count": null,
      "outputs": []
    },
    {
      "cell_type": "code",
      "source": [
        "# Split the data into training and testing parts\n",
        "x=data.iloc[:,:-1].values\n",
        "y=data['charges'].values\n",
        "x_train, x_test, y_train, y_test = train_test_split(x, y, test_size=0.2, random_state=42)"
      ],
      "metadata": {
        "id": "8w8FFMDrqrtt"
      },
      "execution_count": null,
      "outputs": []
    },
    {
      "cell_type": "code",
      "source": [
        "# Linear Regression cross-validation\n",
        "LR = LinearRegression()\n",
        "LR_scores = cross_validate(LR, x, y, cv=3, scoring=['neg_mean_squared_error', 'neg_mean_absolute_error'])\n",
        "\n",
        "# Support Vector Regression cross-validation\n",
        "SVR = SVR()\n",
        "SVR_scores = cross_validate(SVR, x, y, cv=3, scoring=['neg_mean_squared_error', 'neg_mean_absolute_error'])\n",
        "\n",
        "# Random Forest Regression cross-validaton\n",
        "RFR = RandomForestRegressor()\n",
        "RFR_scores = cross_validate(RFR, x, y, cv=3, scoring=['neg_mean_squared_error', 'neg_mean_absolute_error'])\n"
      ],
      "metadata": {
        "id": "sXVoGIdIq8mw"
      },
      "execution_count": null,
      "outputs": []
    },
    {
      "cell_type": "code",
      "source": [
        "# Check the results\n",
        "models = ['LR', 'SVR', 'RFR']\n",
        "scores = [LR_scores, SVR_scores, RFR_scores]\n",
        "\n",
        "for model, score in zip(models, scores):\n",
        "    print(f\"{model}:\")\n",
        "    print(\"MAE:\", -score['test_neg_mean_absolute_error'].mean())\n",
        "    print(\"MSE:\", -score['test_neg_mean_squared_error'].mean())\n",
        "    print(\"------------------------\")\n"
      ],
      "metadata": {
        "id": "LsiosE_Vq8rV"
      },
      "execution_count": null,
      "outputs": []
    },
    {
      "cell_type": "code",
      "source": [
        "# Define the hyperparameters and their possible values for the grid search\n",
        "param_grid = {\n",
        "    'n_estimators': [50, 100, 150],\n",
        "    'max_depth': [None, 10, 20],\n",
        "    'min_samples_split': [2, 5, 10],\n",
        "    'min_samples_leaf': [1, 2, 4]\n",
        "}\n",
        "\n",
        "# Create the GridSearchCV object\n",
        "grid_search = GridSearchCV(estimator=RFR, param_grid=param_grid,\n",
        "                           scoring='neg_mean_squared_error', cv=3, n_jobs=-1)\n",
        "\n",
        "# Fit the grid search to the data\n",
        "grid_search.fit(x_train, y_train)\n",
        "\n",
        "# Print the best hyperparameters and corresponding MSE\n",
        "print(\"Best Hyperparameters:\", grid_search.best_params_)\n",
        "print(\"Best MSE:\", -grid_search.best_score_)  # Negated during cross-validation\n"
      ],
      "metadata": {
        "id": "hcTuYlccq8ut"
      },
      "execution_count": null,
      "outputs": []
    },
    {
      "cell_type": "code",
      "source": [
        "# Define the tuned model\n",
        "tuned_RFR=RandomForestRegressor(max_depth=20,min_samples_leaf=4,min_samples_split=10,n_estimators=100)"
      ],
      "metadata": {
        "id": "PMhbhF7ZxpYC"
      },
      "execution_count": null,
      "outputs": []
    },
    {
      "cell_type": "code",
      "source": [
        "# Fit the tuned model with training data\n",
        "tuned_RFR.fit(x_train,y_train)"
      ],
      "metadata": {
        "id": "2KWoDW9txpbY"
      },
      "execution_count": null,
      "outputs": []
    },
    {
      "cell_type": "code",
      "source": [
        "# Check the MAE and the MSE on testing data\n",
        "y_hat=tuned_RFR.predict(x_test)\n",
        "print(\"MAE:\",mean_absolute_error(y_hat,y_test))\n",
        "print(\"MSE:\",mean_squared_error(y_hat,y_test))"
      ],
      "metadata": {
        "id": "JfCft5zcl8VB"
      },
      "execution_count": null,
      "outputs": []
    },
    {
      "cell_type": "code",
      "source": [
        "# Define a charge predictor function\n",
        "def charge_predictor(input):\n",
        "  return tuned_RFR.predict(input)*max_charge\n"
      ],
      "metadata": {
        "id": "D_zB8Emcyz4g"
      },
      "execution_count": null,
      "outputs": []
    },
    {
      "cell_type": "code",
      "source": [
        "# Save the model\n",
        "model.save('tuned_model.h5')"
      ],
      "metadata": {
        "id": "v2_wq5CjVrXk"
      },
      "execution_count": null,
      "outputs": []
    }
  ]
}
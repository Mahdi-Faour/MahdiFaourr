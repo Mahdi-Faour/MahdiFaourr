{
  "cells": [
    {
      "cell_type": "markdown",
      "metadata": {
        "id": "view-in-github",
        "colab_type": "text"
      },
      "source": [
        "<a href=\"https://colab.research.google.com/github/MahdiFaourr/MahdiFaourr/blob/main/Tyre_Quality_Classifier.ipynb\" target=\"_parent\"><img src=\"https://colab.research.google.com/assets/colab-badge.svg\" alt=\"Open In Colab\"/></a>"
      ]
    },
    {
      "cell_type": "code",
      "execution_count": null,
      "metadata": {
        "id": "NtWIumgl1kiM"
      },
      "outputs": [],
      "source": [
        "# Install opendatasets library\n",
        "!pip install opendatasets"
      ]
    },
    {
      "cell_type": "code",
      "execution_count": 2,
      "metadata": {
        "id": "0LR-DSac1kk_"
      },
      "outputs": [],
      "source": [
        "# Import necessary libraries and functions\n",
        "import pandas as pd\n",
        "import numpy as np\n",
        "import opendatasets as od\n",
        "import os\n",
        "import shutil\n",
        "from keras.metrics import Precision\n",
        "from sklearn.model_selection import train_test_split\n",
        "from tensorflow.keras.preprocessing.image import ImageDataGenerator\n",
        "from keras.models import Sequential\n",
        "from keras.layers import Conv2D, MaxPooling2D, Flatten, Dense\n",
        "from tensorflow.keras.preprocessing import image\n",
        "import numpy as np"
      ]
    },
    {
      "cell_type": "code",
      "execution_count": null,
      "metadata": {
        "id": "1Ft9CcQ9F6nW"
      },
      "outputs": [],
      "source": [
        "# Download the data into the working directory\n",
        "od.download(\"https://www.kaggle.com/datasets/warcoder/tyre-quality-classification\")"
      ]
    },
    {
      "cell_type": "code",
      "source": [
        "# Set some directories\n",
        "classes = ['good', 'defective']\n",
        "train_directory = \"/content/train\"\n",
        "test_directory = \"/content/test\"\n",
        "root_directory = \"/content/tyre-quality-classification/Digital images of defective and good condition tyres\"\n",
        "\n",
        "# Iterate over classes and\n",
        "for class_name in classes:\n",
        "    class_directory = os.path.join(root_directory, class_name)\n",
        "    images = os.listdir(class_directory) # List all images in the targeted path\n",
        "\n",
        "    # Split the images into training and testing sets\n",
        "    train_images, test_images = train_test_split(images, test_size=0.2, random_state=42)\n",
        "\n",
        "    # Create destination directories\n",
        "    train_class_dir = os.path.join(train_directory, class_name)\n",
        "    os.makedirs(train_class_dir, exist_ok=True)\n",
        "\n",
        "    test_class_dir = os.path.join(test_directory, class_name)\n",
        "    os.makedirs(test_class_dir, exist_ok=True)\n",
        "\n",
        "    # Copy training images\n",
        "    for image in train_images:\n",
        "        source_path = os.path.join(class_directory, image)\n",
        "        destination_path = os.path.join(train_class_dir, image)\n",
        "        shutil.copy(source_path, destination_path)\n",
        "\n",
        "    # Copy testing images\n",
        "    for image in test_images:\n",
        "        source_path = os.path.join(class_directory, image)\n",
        "        destination_path = os.path.join(test_class_dir, image)\n",
        "        shutil.copy(source_path, destination_path)\n"
      ],
      "metadata": {
        "id": "nGDv20jR59sP"
      },
      "execution_count": 4,
      "outputs": []
    },
    {
      "cell_type": "code",
      "execution_count": 5,
      "metadata": {
        "colab": {
          "base_uri": "https://localhost:8080/"
        },
        "id": "3TQlzkvBZRcw",
        "outputId": "75770db4-6d9b-4049-f6ce-2b52e0860d24"
      },
      "outputs": [
        {
          "output_type": "stream",
          "name": "stdout",
          "text": [
            "Found 1484 images belonging to 2 classes.\n",
            "Found 372 images belonging to 2 classes.\n"
          ]
        }
      ],
      "source": [
        "# Set the ImageDataGenerator for data augmentation\n",
        "datagen=ImageDataGenerator(rescale=1.0/255.0,\n",
        "      rotation_range=20,\n",
        "    width_shift_range=0.2,\n",
        "    height_shift_range=0.2,\n",
        "    shear_range=0.2,\n",
        "    zoom_range=0.2,\n",
        "    horizontal_flip=True,\n",
        "    vertical_flip=False,\n",
        "    fill_mode='nearest')\n",
        "\n",
        "train_generator=datagen.flow_from_directory(\"/content/train\",class_mode=\"binary\",batch_size=64,target_size=(224,224))\n",
        "test_generator=datagen.flow_from_directory(\"/content/test\",class_mode=\"binary\",batch_size=64,target_size=(224,224))"
      ]
    },
    {
      "cell_type": "code",
      "execution_count": 6,
      "metadata": {
        "id": "xcvRk9WjZRfM"
      },
      "outputs": [],
      "source": [
        "# Define the mini VGG model\n",
        "def mini_vgg():\n",
        "    model = Sequential()\n",
        "\n",
        "    # Block 1\n",
        "    model.add(Conv2D(32,5, activation='relu', input_shape=(224,224,3)))\n",
        "    model.add(MaxPooling2D(2,2))\n",
        "    model.add(Conv2D(32,3, activation='relu'))\n",
        "    model.add(MaxPooling2D((2, 2)))\n",
        "\n",
        "    # Block 2\n",
        "    model.add(Conv2D(64,4, activation='relu'))\n",
        "    model.add(MaxPooling2D((2, 2)))\n",
        "\n",
        "    # Flatten\n",
        "    model.add(Flatten())\n",
        "\n",
        "    # Dense layers\n",
        "    model.add(Dense(125, activation='relu'))\n",
        "    model.add(Dense(1, activation='sigmoid'))\n",
        "\n",
        "    return model"
      ]
    },
    {
      "cell_type": "code",
      "execution_count": null,
      "metadata": {
        "id": "F_2BM93S8dBI"
      },
      "outputs": [],
      "source": [
        "# Compile and train the model\n",
        "model=mini_vgg()\n",
        "model.compile(optimizer=\"adam\",loss=\"binary_crossentropy\",metrics=[\"accuracy\",Precision()])\n",
        "model.fit(train_generator,validation_data=test_generator,epochs=35,batch_size=len(train_generator))"
      ]
    },
    {
      "cell_type": "code",
      "execution_count": 9,
      "metadata": {
        "id": "F6MXVrUZwgfW",
        "colab": {
          "base_uri": "https://localhost:8080/"
        },
        "outputId": "c1d07628-1703-45c0-d9bf-f496693fa19f"
      },
      "outputs": [
        {
          "output_type": "stream",
          "name": "stdout",
          "text": [
            "6/6 [==============================] - 32s 5s/step - loss: 0.4863 - accuracy: 0.7742 - precision_1: 0.9184\n"
          ]
        },
        {
          "output_type": "execute_result",
          "data": {
            "text/plain": [
              "[0.48630258440971375, 0.774193525314331, 0.918367326259613]"
            ]
          },
          "metadata": {},
          "execution_count": 9
        }
      ],
      "source": [
        "# Evaluate on test dataset\n",
        "model.evaluate(test_generator)"
      ]
    },
    {
      "cell_type": "code",
      "execution_count": 28,
      "metadata": {
        "id": "5Xv79AL5ZRoa",
        "colab": {
          "base_uri": "https://localhost:8080/"
        },
        "outputId": "4ee5a323-27f2-4637-a100-172e47c944a5"
      },
      "outputs": [
        {
          "output_type": "stream",
          "name": "stdout",
          "text": [
            "1/1 [==============================] - 0s 40ms/step\n",
            "Defective Tyre\n"
          ]
        }
      ],
      "source": [
        "# Define a function to make predictions\n",
        "def defection_predictor(img_path):\n",
        "    # Load the image from file\n",
        "    img = image.load_img(img_path, target_size=(224, 224))\n",
        "\n",
        "    # Convert the image to a numpy array\n",
        "    img_array = image.img_to_array(img)\n",
        "\n",
        "    # Expand the dimensions to match the model's expected input shape\n",
        "    img_array = np.expand_dims(img_array, axis=0)\n",
        "\n",
        "    # Use the model to predict\n",
        "    prediction=model.predict(img_array)\n",
        "    if prediction>=0.65:\n",
        "       print('Good Tyre.')\n",
        "    else:\n",
        "      print('Defective Tyre.')\n",
        "\n",
        "\n",
        "# Example usage\n",
        "image_path = \"/content/train/defective/Defective (10).jpg\"\n",
        "img_array = defection_predictor(image_path)\n"
      ]
    },
    {
      "cell_type": "code",
      "execution_count": null,
      "metadata": {
        "id": "njVgOeHb8dEm"
      },
      "outputs": [],
      "source": [
        "# Save the model\n",
        "model.save(\"model_tyre2.h5\")"
      ]
    }
  ],
  "metadata": {
    "colab": {
      "provenance": [],
      "authorship_tag": "ABX9TyM0eBCVnYrAiz8pcrNfbH93",
      "include_colab_link": true
    },
    "kernelspec": {
      "display_name": "Python 3",
      "name": "python3"
    },
    "language_info": {
      "name": "python"
    }
  },
  "nbformat": 4,
  "nbformat_minor": 0
}
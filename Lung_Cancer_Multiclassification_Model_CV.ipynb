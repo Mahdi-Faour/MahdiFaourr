{
  "cells": [
    {
      "cell_type": "markdown",
      "metadata": {
        "id": "view-in-github",
        "colab_type": "text"
      },
      "source": [
        "<a href=\"https://colab.research.google.com/github/MahdiFaourr/MahdiFaourr/blob/main/Lung_Cancer_Multiclassification_Model_CV.ipynb\" target=\"_parent\"><img src=\"https://colab.research.google.com/assets/colab-badge.svg\" alt=\"Open In Colab\"/></a>"
      ]
    },
    {
      "cell_type": "code",
      "source": [
        "# Install important libraries.\n",
        "!pip install opendatasets\n",
        "!pip install scikeras"
      ],
      "metadata": {
        "id": "0hPByC69sCx2"
      },
      "execution_count": null,
      "outputs": []
    },
    {
      "cell_type": "code",
      "source": [
        "# Import necessary libraries and functions.\n",
        "import opendatasets as od\n",
        "from tensorflow.keras.preprocessing.image import ImageDataGenerator\n",
        "from sklearn.model_selection import train_test_split\n",
        "from tensorflow.keras.models import Sequential\n",
        "from tensorflow.keras.layers import Conv2D, MaxPooling2D, Dense, Flatten, Dropout\n",
        "from sklearn.model_selection import GridSearchCV\n",
        "from scikeras.wrappers import KerasClassifier"
      ],
      "metadata": {
        "id": "11wd9xREShhx"
      },
      "execution_count": 2,
      "outputs": []
    },
    {
      "cell_type": "code",
      "source": [
        "# Download a dataset using opendatasets.\n",
        "od.download(\"https://www.kaggle.com/datasets/bhaveshmisra/lung-cancer-images12000-imagesmostly\")"
      ],
      "metadata": {
        "id": "_h67bdAPSop2"
      },
      "execution_count": null,
      "outputs": []
    },
    {
      "cell_type": "code",
      "source": [
        "# Create an image data generator for data augmentation.\n",
        "datagen = ImageDataGenerator(rescale=1.0/255.0, rotation_range=20, width_shift_range=0.2,\n",
        "                            height_shift_range=0.2, shear_range=0.2, zoom_range=0.2,\n",
        "                            horizontal_flip=True, vertical_flip=True, channel_shift_range=0.1,\n",
        "                            fill_mode='nearest')"
      ],
      "metadata": {
        "id": "EacYHgyaSosB"
      },
      "execution_count": 4,
      "outputs": []
    },
    {
      "cell_type": "code",
      "source": [
        "# Split data into training and test sets.\n",
        "train_iterator = datagen.flow_from_directory(\"lung-cancer-images12000-imagesmostly/dataset/training_set\",\n",
        "                                            class_mode=\"categorical\", batch_size=200)\n",
        "test_iterator = datagen.flow_from_directory(\"lung-cancer-images12000-imagesmostly/dataset/test_set\",\n",
        "                                           class_mode=\"categorical\", batch_size=30)"
      ],
      "metadata": {
        "id": "QtOqMsOsSrLt"
      },
      "execution_count": null,
      "outputs": []
    },
    {
      "cell_type": "code",
      "source": [
        "# Create a CNN model.\n",
        "def create_model():\n",
        "    model = Sequential()\n",
        "    model.add(Conv2D(12, (3, 3), padding=\"same\", input_shape=(256, 256, 3)))\n",
        "    model.add(Conv2D(4, (4, 4), strides=(2, 2), padding=\"same\", activation=\"relu\"))\n",
        "    model.add(MaxPooling2D())\n",
        "    model.add(Conv2D(13, (2, 3)))\n",
        "    model.add(Flatten())\n",
        "    model.add(Dense(128, activation='relu'))\n",
        "    model.add(Dropout(0.2))\n",
        "    model.add(Dense(3, activation='softmax'))\n",
        "    model.compile(optimizer=\"adam\", loss=\"categorical_crossentropy\", metrics=[\"acc\"])\n",
        "    return model\n"
      ],
      "metadata": {
        "id": "FLX9OrGJSrPF"
      },
      "execution_count": 6,
      "outputs": []
    },
    {
      "cell_type": "code",
      "source": [
        "# Train the model with the best validation parameters.\n",
        "model = create_model()\n",
        "model.fit(train_iterator, validation_data=test_iterator,epochs=12,batch_size=32)"
      ],
      "metadata": {
        "id": "mk6Ctl7EhxpP"
      },
      "execution_count": null,
      "outputs": []
    },
    {
      "cell_type": "code",
      "source": [
        "# Serialize model architecture to JSON.\n",
        "model_json = model.to_json()\n",
        "with open(\"model.json\", \"w\") as json_file:\n",
        "    json_file.write(model_json)\n",
        "# Serialize model weights to HDF5.\n",
        "model.save_weights(\"model_weights.h5\")"
      ],
      "metadata": {
        "id": "0TNrjumES-BT"
      },
      "execution_count": null,
      "outputs": []
    }
  ],
  "metadata": {
    "colab": {
      "provenance": [],
      "authorship_tag": "ABX9TyMq0lPQZruNP9D4AT/1VPK7",
      "include_colab_link": true
    },
    "kernelspec": {
      "display_name": "Python 3",
      "name": "python3"
    },
    "language_info": {
      "name": "python"
    }
  },
  "nbformat": 4,
  "nbformat_minor": 0
}
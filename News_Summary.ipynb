{
  "nbformat": 4,
  "nbformat_minor": 0,
  "metadata": {
    "colab": {
      "provenance": [],
      "authorship_tag": "ABX9TyMNvsAEsvAxwp0oUBuNpLYg",
      "include_colab_link": true
    },
    "kernelspec": {
      "name": "python3",
      "display_name": "Python 3"
    },
    "language_info": {
      "name": "python"
    }
  },
  "cells": [
    {
      "cell_type": "markdown",
      "metadata": {
        "id": "view-in-github",
        "colab_type": "text"
      },
      "source": [
        "<a href=\"https://colab.research.google.com/github/MahdiFaourr/MahdiFaourr/blob/main/News_Summary.ipynb\" target=\"_parent\"><img src=\"https://colab.research.google.com/assets/colab-badge.svg\" alt=\"Open In Colab\"/></a>"
      ]
    },
    {
      "cell_type": "code",
      "source": [
        "!pip install --upgrade pip\n",
        "!pip install --disable-pip-version-check \\\n",
        "   torch==1.13.1\\\n",
        "   torchdata==0.5.1 --quiet\n",
        "!pip install \\\n",
        "  transformers==4.27.2 \\\n",
        "  datasets==2.11.0 \\\n",
        "  evaluate==0.4.0 \\\n",
        "  rouge_score==0.1.2 \\\n",
        "  loralib==0.1.1 \\\n",
        "  peft==0.3.0 --quiet\n",
        "!pip install opendatasets"
      ],
      "metadata": {
        "id": "MrE-npe9HeTr"
      },
      "execution_count": null,
      "outputs": []
    },
    {
      "cell_type": "code",
      "source": [
        "import opendatasets as od\n",
        "import pandas as pd\n",
        "import numpy as np\n",
        "import evaluate\n",
        "import torch\n",
        "from datasets import DatasetDict, Dataset,load_dataset\n",
        "from transformers import AutoModelForSeq2SeqLM,AutoTokenizer,TrainingArguments,Trainer,GenerationConfig\n",
        "from peft import LoraConfig,TaskType,get_peft_model,PeftModel"
      ],
      "metadata": {
        "id": "ZDr7Y6vaunjw"
      },
      "execution_count": null,
      "outputs": []
    },
    {
      "cell_type": "code",
      "source": [
        "od.download(\"https://www.kaggle.com/datasets/gowrishankarp/newspaper-text-summarization-cnn-dailymail\")"
      ],
      "metadata": {
        "id": "RloWPOHhHeOy"
      },
      "execution_count": null,
      "outputs": []
    },
    {
      "cell_type": "code",
      "source": [
        "data=pd.read_csv(\"/content/newspaper-text-summarization-cnn-dailymail/cnn_dailymail/train.csv\")\n",
        "data.head()"
      ],
      "metadata": {
        "id": "NeG64FjtHeRM"
      },
      "execution_count": null,
      "outputs": []
    },
    {
      "cell_type": "code",
      "source": [
        "data.shape"
      ],
      "metadata": {
        "id": "5sqHGs22Z_XR"
      },
      "execution_count": null,
      "outputs": []
    },
    {
      "cell_type": "code",
      "source": [
        "data.isnull().sum()"
      ],
      "metadata": {
        "id": "NFCr1w7SaA9w"
      },
      "execution_count": null,
      "outputs": []
    },
    {
      "cell_type": "code",
      "source": [
        "data=data.drop('id',axis=1)"
      ],
      "metadata": {
        "id": "EXlKZyFqfr4f"
      },
      "execution_count": null,
      "outputs": []
    },
    {
      "cell_type": "code",
      "source": [
        "train_data=data.iloc[:10000,:]\n",
        "test_data=data.iloc[10000:20000,:]"
      ],
      "metadata": {
        "id": "LIHtpey8v9Iv"
      },
      "execution_count": null,
      "outputs": []
    },
    {
      "cell_type": "code",
      "source": [
        "model_name='google/flan-t5-base'\n",
        "base_model=AutoModelForSeq2SeqLM.from_pretrained(model_name)"
      ],
      "metadata": {
        "id": "ejgodlHFePR-"
      },
      "execution_count": null,
      "outputs": []
    },
    {
      "cell_type": "code",
      "source": [
        "tokenizer=AutoTokenizer.from_pretrained(model_name,use_fast=True)"
      ],
      "metadata": {
        "id": "RY6wV3PyeYD7"
      },
      "execution_count": null,
      "outputs": []
    },
    {
      "cell_type": "code",
      "source": [
        "def print_number_of_trainable_parameters(model):\n",
        "  trainable_model_params=0\n",
        "  all_model_params=0\n",
        "  for _,param in model.named_parameters():\n",
        "    all_model_params+=param.numel()\n",
        "    if param.requires_grad:\n",
        "      trainable_model_params+=param.numel()\n",
        "  return f\"trainable model params:{trainable_model_params}\\nall model parameters:{all_model_params}\"\n",
        "print(print_number_of_trainable_parameters(base_model))"
      ],
      "metadata": {
        "colab": {
          "base_uri": "https://localhost:8080/"
        },
        "id": "2jAnHBM8eYGT",
        "outputId": "0737ebea-f8ef-4f41-f2ca-2613f03234e1"
      },
      "execution_count": null,
      "outputs": [
        {
          "output_type": "stream",
          "name": "stdout",
          "text": [
            "trainable model params:247577856\n",
            "all model parameters:247577856\n"
          ]
        }
      ]
    },
    {
      "cell_type": "code",
      "source": [
        "dash_line=''.join('-' for x in range(100) )\n",
        "context=data['article'][1]\n",
        "summary=data['highlights'][1]\n",
        "prompt=f\"\"\" Summarize the following Context.\n",
        "{context}\n",
        "Summary:\"\"\"\n",
        "input=tokenizer(prompt,return_tensors='pt')\n",
        "output=tokenizer.decode(base_model.generate(input['input_ids'],max_new_tokens=300)[0],skip_special_tokens=True)\n",
        "print(dash_line)\n",
        "print(f\"Human Summary:\\n{summary}\")\n",
        "print(dash_line)\n",
        "print(f\"Model Geneartion-Zero Shot:\\n{output}\")"
      ],
      "metadata": {
        "colab": {
          "base_uri": "https://localhost:8080/"
        },
        "id": "OlV93Nh3eYIN",
        "outputId": "cca8a58d-235f-480d-cb77-8dd05451a9fa"
      },
      "execution_count": null,
      "outputs": [
        {
          "output_type": "stream",
          "name": "stdout",
          "text": [
            "----------------------------------------------------------------------------------------------------\n",
            "Human Summary:\n",
            "Criminal complaint: Cop used his role to help cocaine traffickers .\n",
            "Ralph Mata, an internal affairs lieutenant, allegedly helped group get guns .\n",
            "He also arranged to pay two assassins in a murder plot, a complaint alleges .\n",
            "----------------------------------------------------------------------------------------------------\n",
            "Model Geneartion-Zero Shot:\n",
            "A criminal complaint alleges that a Miami-Dade police officer helped a drug trafficking organization plan a murder plot and get guns.\n"
          ]
        }
      ]
    },
    {
      "cell_type": "code",
      "source": [
        "def make_prompt(example_indices,index_to_summarize):\n",
        "  prompt=\"\"\n",
        "  for index in example_indices:\n",
        "    context=data['article'][index]\n",
        "    summary=data['highlights'][index]\n",
        "    prompt+=f\"\"\"Summarize the following Context.\n",
        "    {context}\n",
        "    Summary:\n",
        "    {summary}\"\"\"\n",
        "  input_context=data['article'][index_to_summarize]\n",
        "  prompt+=f\"\"\" Summarize the following Context.\n",
        "  {input_context}\n",
        "  Summary:\n",
        "  What was going on?\n",
        "  \"\"\"\n",
        "  return prompt\n"
      ],
      "metadata": {
        "id": "0V8AabGceWYr"
      },
      "execution_count": null,
      "outputs": []
    },
    {
      "cell_type": "code",
      "source": [
        "input=tokenizer(make_prompt([0],1),return_tensors='pt')\n",
        "output=tokenizer.decode(base_model.generate(input['input_ids'],max_new_tokens=300)[0],skip_special_tokens=True)\n",
        "print(dash_line)\n",
        "print(f\"Human Summary:\\n{data['highlights'][1]}\")\n",
        "print(dash_line)\n",
        "print(f\"Model Generation-One Shot:\\n{output}\")"
      ],
      "metadata": {
        "colab": {
          "base_uri": "https://localhost:8080/"
        },
        "id": "rdsAJ7VYeWbK",
        "outputId": "b9e64851-8ce5-42ab-85fb-86c245f97ef0"
      },
      "execution_count": null,
      "outputs": [
        {
          "output_type": "stream",
          "name": "stdout",
          "text": [
            "----------------------------------------------------------------------------------------------------\n",
            "Human Summary:\n",
            "Criminal complaint: Cop used his role to help cocaine traffickers .\n",
            "Ralph Mata, an internal affairs lieutenant, allegedly helped group get guns .\n",
            "He also arranged to pay two assassins in a murder plot, a complaint alleges .\n",
            "----------------------------------------------------------------------------------------------------\n",
            "Model Generation-One Shot:\n",
            "A criminal complaint unsealed in U.S. District Court in New Jersey accuses Ralph Mata of helping a drug trafficking organization in exchange for money and gifts.\n"
          ]
        }
      ]
    },
    {
      "cell_type": "code",
      "source": [
        "train_contexts=train_data['article'].tolist()\n",
        "train_summaries=train_data['highlights'].tolist()"
      ],
      "metadata": {
        "id": "R8vbuqnYeWd4"
      },
      "execution_count": null,
      "outputs": []
    },
    {
      "cell_type": "code",
      "source": [
        "test_contexts=test_data['article'].tolist()\n",
        "test_summaries=test_data['highlights'].tolist()"
      ],
      "metadata": {
        "id": "0v2EZDTHeWiy"
      },
      "execution_count": null,
      "outputs": []
    },
    {
      "cell_type": "code",
      "source": [
        "tokenized_train_contexts=tokenizer(train_contexts,padding=True,truncation=True,max_length=512,return_tensors='pt')\n",
        "tokenized_train_summaries=tokenizer(train_summaries,padding=True,truncation=True,max_length=512,return_tensors='pt')"
      ],
      "metadata": {
        "id": "8qybuXaaeWlz"
      },
      "execution_count": null,
      "outputs": []
    },
    {
      "cell_type": "code",
      "source": [
        "tokenized_test_contexts=tokenizer(test_contexts,padding=True,truncation=True,max_length=512,return_tensors='pt')\n",
        "tokenized_test_summaries=tokenizer(test_summaries,padding=True,truncation=True,max_length=512,return_tensors='pt')"
      ],
      "metadata": {
        "id": "8JqdXCv-n5rK"
      },
      "execution_count": null,
      "outputs": []
    },
    {
      "cell_type": "code",
      "source": [
        "tokenized_training_dataset={\n",
        "    \"input_ids\":tokenized_train_contexts['input_ids'],\n",
        "    'labels':tokenized_train_summaries['input_ids']\n",
        "}"
      ],
      "metadata": {
        "id": "YxIZizZtn5uk"
      },
      "execution_count": null,
      "outputs": []
    },
    {
      "cell_type": "code",
      "source": [
        "tokenized_training_dataset"
      ],
      "metadata": {
        "id": "pPVXCp8gpJNf"
      },
      "execution_count": null,
      "outputs": []
    },
    {
      "cell_type": "code",
      "source": [
        "tokenized_testing_dataset={\n",
        "    \"input_ids\":tokenized_test_contexts['input_ids'],\n",
        "    'labels':tokenized_test_summaries['input_ids']\n",
        "}"
      ],
      "metadata": {
        "id": "3BQmbCMdpTVB"
      },
      "execution_count": null,
      "outputs": []
    },
    {
      "cell_type": "code",
      "source": [
        "# Create a DatasetDict\n",
        "train_dataset = DatasetDict({\n",
        "    \"train\": Dataset.from_dict(tokenized_training_dataset)\n",
        "})\n",
        "test_dataset=DatasetDict({\n",
        "    \"test\": Dataset.from_dict(tokenized_testing_dataset)\n",
        "})"
      ],
      "metadata": {
        "id": "nfE1Opr6pJRB"
      },
      "execution_count": null,
      "outputs": []
    },
    {
      "cell_type": "code",
      "source": [
        "train_dataset"
      ],
      "metadata": {
        "id": "vG_bnJl5oN3d"
      },
      "execution_count": null,
      "outputs": []
    },
    {
      "cell_type": "code",
      "source": [
        "test_dataset"
      ],
      "metadata": {
        "id": "8AD_6ViLoN57"
      },
      "execution_count": null,
      "outputs": []
    },
    {
      "cell_type": "code",
      "source": [
        "lora_config=LoraConfig(r=8,lora_alpha=32,target_modules=['q','v'],lora_dropout=0.05,bias='none',task_type=TaskType.SEQ_2_SEQ_LM)"
      ],
      "metadata": {
        "id": "1Zft2JqP1vqa"
      },
      "execution_count": null,
      "outputs": []
    },
    {
      "cell_type": "code",
      "source": [
        "peft_model=get_peft_model(base_model,lora_config)\n",
        "print(print_number_of_trainable_parameters(peft_model))"
      ],
      "metadata": {
        "colab": {
          "base_uri": "https://localhost:8080/"
        },
        "id": "q-KrvD3O1vtC",
        "outputId": "1e68b58a-7f08-4b24-d1a9-d74725d795c1"
      },
      "execution_count": null,
      "outputs": [
        {
          "output_type": "stream",
          "name": "stdout",
          "text": [
            "trainable model params:884736\n",
            "all model parameters:248462592\n"
          ]
        }
      ]
    },
    {
      "cell_type": "code",
      "source": [
        "output_dir=f'./news-summary-peft-model'\n",
        "# Initialize training arguments\n",
        "training_args = TrainingArguments(\n",
        "    output_dir=output_dir,\n",
        "    learning_rate=1e-5,\n",
        "    num_train_epochs=5,\n",
        "    weight_decay=0.01,\n",
        "    logging_steps=1,\n",
        "    max_steps=1\n",
        ")\n",
        "\n",
        "# Initialize trainer\n",
        "trainer = Trainer(\n",
        "    model=peft_model,\n",
        "    args=training_args,\n",
        "    train_dataset=train_dataset['train'],\n",
        "    eval_dataset=test_dataset['test']\n",
        ")\n"
      ],
      "metadata": {
        "id": "WxLP3wmE2Wm3"
      },
      "execution_count": null,
      "outputs": []
    },
    {
      "cell_type": "code",
      "source": [
        "trainer.train()"
      ],
      "metadata": {
        "id": "oA5IlGv-2Wpf"
      },
      "execution_count": null,
      "outputs": []
    },
    {
      "cell_type": "code",
      "source": [
        "trainer.save.model.save_pretrained('./news-summary-peft-model')"
      ],
      "metadata": {
        "id": "_Xbw-ybYrKiu"
      },
      "execution_count": null,
      "outputs": []
    },
    {
      "cell_type": "code",
      "source": [
        "peft_model=PeftModel.from_pretrained('./news-summary-peft-model')"
      ],
      "metadata": {
        "id": "8m-gEC27rji7"
      },
      "execution_count": null,
      "outputs": []
    },
    {
      "cell_type": "code",
      "source": [
        "rouge=evaluate.load('rouge')"
      ],
      "metadata": {
        "id": "iCBJjNvk1vv_"
      },
      "execution_count": null,
      "outputs": []
    },
    {
      "cell_type": "code",
      "source": [
        "contexts=test_data['article'][0:10]\n",
        "human_summaries=test_data['highlights'][0:10]\n",
        "base_model_summaries=[]\n",
        "peft_model_summaries=[]\n",
        "for _,context in enumerate(contexts):\n",
        "   prompt=f\"\"\"\n",
        "Summarize the following Conversation.\n",
        "{context}\n",
        "Summary:\"\"\"\n",
        "  inputs=tokenizer(prompt,return_tensors='pt')\n",
        "  base_model_output=tokenizer.decode(base_model.generate(inputs['input_ids'],max_new_tokens=300)[0],skip_special_tokens=True)\n",
        "  base_model_summaries.append(base_model_output)\n",
        "  peft_model_output=tokenizer.decode(peft_model.generate(inputs['input_ids'],max_new_tokens=300)[0],skip_special_tokens=True)\n",
        "  peft_model_summaries.append(peft_model_output)\n",
        "zipped_summaries=list(zip(human_summaries,base_model_summaries,peft_model_summaries))\n",
        "df=pd.DataFrame(zipped_summaries,columns=['human_summaries','base_model_summaries','peft_model_summaries'])\n",
        "df.head()"
      ],
      "metadata": {
        "id": "pX1FDpEZrxhZ"
      },
      "execution_count": null,
      "outputs": []
    },
    {
      "cell_type": "code",
      "source": [
        "base_model_results=rouge.compute(predictions=base_model_summaries,\n",
        "                                     references=human_summaries,use_aggregator=True,use_stemmer=True)\n",
        "\n",
        "peft_model_results=rouge.compute(predictions=peft_model_summaries,\n",
        "                                     references=human_summaries,use_aggregator=True,use_stemmer=True)\n",
        "print(\"Base Model\")\n",
        "print(base_model_results)\n",
        "print(dash_line)\n",
        "print(\"Peft Model:\")\n",
        "print(peft_model_results)"
      ],
      "metadata": {
        "id": "OBkVbiS9rxk4"
      },
      "execution_count": null,
      "outputs": []
    }
  ]
}
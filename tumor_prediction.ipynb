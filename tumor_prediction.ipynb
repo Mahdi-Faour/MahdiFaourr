{
  "nbformat": 4,
  "nbformat_minor": 0,
  "metadata": {
    "colab": {
      "provenance": [],
      "authorship_tag": "ABX9TyNengwLvZr/HN78bNJVVshD",
      "include_colab_link": true
    },
    "kernelspec": {
      "name": "python3",
      "display_name": "Python 3"
    },
    "language_info": {
      "name": "python"
    }
  },
  "cells": [
    {
      "cell_type": "markdown",
      "metadata": {
        "id": "view-in-github",
        "colab_type": "text"
      },
      "source": [
        "<a href=\"https://colab.research.google.com/github/MahdiFaourr/MahdiFaourr/blob/main/tumor_prediction.ipynb\" target=\"_parent\"><img src=\"https://colab.research.google.com/assets/colab-badge.svg\" alt=\"Open In Colab\"/></a>"
      ]
    },
    {
      "cell_type": "code",
      "source": [
        "from google.colab import files\n",
        "uploaded=files.upload()"
      ],
      "metadata": {
        "id": "i9LbyrIdoaLM"
      },
      "execution_count": null,
      "outputs": []
    },
    {
      "cell_type": "code",
      "source": [
        "from google.colab import files\n",
        "uploaded=files.upload()\n",
        "import zipfile\n",
        "import io\n",
        "with zipfile.ZipFile(io.BytesIO(uploaded['archive (4).zip']),'r')as zip_ref:\n",
        "  zip_ref.extractall('brain_mri_scan_images')\n",
        "import os\n",
        "import shutil\n",
        "from sklearn.model_selection import train_test_split\n",
        "classes=['negative','positive']\n",
        "root_directory=\"brain_mri_scan_images/brain_mri_scan_images\"\n",
        "for class_name in classes:\n",
        "  os.makedirs(os.path.join(root_directory,'train',class_name),exist_ok=True)\n",
        "  os.makedirs(os.path.join(root_directory,'test',class_name),exist_ok=True)\n",
        "  class_directory=os.path.join(root_directory,class_name)\n",
        "  files=os.listdir(class_directory)\n",
        "  train_files,test_files=train_test_split(files,test_size=0.1,random_state=15)\n",
        "  for file_name in train_files:\n",
        "    src=os.path.join(class_directory,file_name)\n",
        "    dst=os.path.join(root_directory,'train',class_name,file_name)\n",
        "    shutil.move(src,dst)\n",
        "  for file_name in test_files:\n",
        "        src = os.path.join(class_directory, file_name)\n",
        "        dst = os.path.join(root_directory, 'test', class_name, file_name)\n",
        "        shutil.move(src, dst)\n",
        "from tensorflow.keras.preprocessing.image import ImageDataGenerator\n",
        "datagen=ImageDataGenerator(\n",
        "    rescale=1./255,\n",
        "    rotation_range=40,\n",
        "    width_shift_range=0.2,\n",
        "    height_shift_range=0.2,\n",
        "    zoom_range=0.2,\n",
        "    horizontal_flip=True)\n",
        "train_iterator=datagen.flow_from_directory(\"brain_mri_scan_images/brain_mri_scan_images/train/\",class_mode='binary',batch_size=300)\n",
        "test_iterator=datagen.flow_from_directory(\"brain_mri_scan_images/brain_mri_scan_images/test/\",class_mode='binary',batch_size=90)\n",
        "\n",
        "x_train,y_train=train_iterator.next()\n",
        "x_test,y_test=test_iterator.next()\n",
        "from tensorflow.keras.layers import Conv2D,Flatten,MaxPooling2D,AveragePooling2D,Dense\n",
        "from tensorflow.keras.models import Sequential\n",
        "def baseline_model(nb_neurons=30,nb_filters=3):\n",
        "  model=Sequential()\n",
        "  model.add(Conv2D(nb_filters,(3,3),padding='same'))\n",
        "  model.add(AveragePooling2D())\n",
        "  model.add(Conv2D(nb_filters,(3,3)))\n",
        "  model.add(MaxPooling2D())\n",
        "  model.add(Flatten())\n",
        "  model.add(Dense(nb_neurons,activation='relu'))\n",
        "  model.add(Dense(1,activation='sigmoid'))\n",
        "  model.compile(optimozer='adam',loss='binary_crossentropy',metrics=['accuracy'])\n",
        "  return model\n",
        "model=baseline_model(nb_neurons=30,nb_filters=3)\n",
        "model.fit(x_train,y_train,validation_split=0.1,epochs=5,batch_size=22)\n",
        "\n"
      ],
      "metadata": {
        "colab": {
          "base_uri": "https://localhost:8080/",
          "height": 107
        },
        "id": "DgJEfXSUhnCe",
        "outputId": "76905f53-c3e3-46eb-99c5-244dce943fee"
      },
      "execution_count": 14,
      "outputs": [
        {
          "output_type": "display_data",
          "data": {
            "text/plain": [
              "<IPython.core.display.HTML object>"
            ],
            "text/html": [
              "\n",
              "     <input type=\"file\" id=\"files-3dd79b01-7405-4e74-892b-ddc9e7a1e8b9\" name=\"files[]\" multiple disabled\n",
              "        style=\"border:none\" />\n",
              "     <output id=\"result-3dd79b01-7405-4e74-892b-ddc9e7a1e8b9\">\n",
              "      Upload widget is only available when the cell has been executed in the\n",
              "      current browser session. Please rerun this cell to enable.\n",
              "      </output>\n",
              "      <script>// Copyright 2017 Google LLC\n",
              "//\n",
              "// Licensed under the Apache License, Version 2.0 (the \"License\");\n",
              "// you may not use this file except in compliance with the License.\n",
              "// You may obtain a copy of the License at\n",
              "//\n",
              "//      http://www.apache.org/licenses/LICENSE-2.0\n",
              "//\n",
              "// Unless required by applicable law or agreed to in writing, software\n",
              "// distributed under the License is distributed on an \"AS IS\" BASIS,\n",
              "// WITHOUT WARRANTIES OR CONDITIONS OF ANY KIND, either express or implied.\n",
              "// See the License for the specific language governing permissions and\n",
              "// limitations under the License.\n",
              "\n",
              "/**\n",
              " * @fileoverview Helpers for google.colab Python module.\n",
              " */\n",
              "(function(scope) {\n",
              "function span(text, styleAttributes = {}) {\n",
              "  const element = document.createElement('span');\n",
              "  element.textContent = text;\n",
              "  for (const key of Object.keys(styleAttributes)) {\n",
              "    element.style[key] = styleAttributes[key];\n",
              "  }\n",
              "  return element;\n",
              "}\n",
              "\n",
              "// Max number of bytes which will be uploaded at a time.\n",
              "const MAX_PAYLOAD_SIZE = 100 * 1024;\n",
              "\n",
              "function _uploadFiles(inputId, outputId) {\n",
              "  const steps = uploadFilesStep(inputId, outputId);\n",
              "  const outputElement = document.getElementById(outputId);\n",
              "  // Cache steps on the outputElement to make it available for the next call\n",
              "  // to uploadFilesContinue from Python.\n",
              "  outputElement.steps = steps;\n",
              "\n",
              "  return _uploadFilesContinue(outputId);\n",
              "}\n",
              "\n",
              "// This is roughly an async generator (not supported in the browser yet),\n",
              "// where there are multiple asynchronous steps and the Python side is going\n",
              "// to poll for completion of each step.\n",
              "// This uses a Promise to block the python side on completion of each step,\n",
              "// then passes the result of the previous step as the input to the next step.\n",
              "function _uploadFilesContinue(outputId) {\n",
              "  const outputElement = document.getElementById(outputId);\n",
              "  const steps = outputElement.steps;\n",
              "\n",
              "  const next = steps.next(outputElement.lastPromiseValue);\n",
              "  return Promise.resolve(next.value.promise).then((value) => {\n",
              "    // Cache the last promise value to make it available to the next\n",
              "    // step of the generator.\n",
              "    outputElement.lastPromiseValue = value;\n",
              "    return next.value.response;\n",
              "  });\n",
              "}\n",
              "\n",
              "/**\n",
              " * Generator function which is called between each async step of the upload\n",
              " * process.\n",
              " * @param {string} inputId Element ID of the input file picker element.\n",
              " * @param {string} outputId Element ID of the output display.\n",
              " * @return {!Iterable<!Object>} Iterable of next steps.\n",
              " */\n",
              "function* uploadFilesStep(inputId, outputId) {\n",
              "  const inputElement = document.getElementById(inputId);\n",
              "  inputElement.disabled = false;\n",
              "\n",
              "  const outputElement = document.getElementById(outputId);\n",
              "  outputElement.innerHTML = '';\n",
              "\n",
              "  const pickedPromise = new Promise((resolve) => {\n",
              "    inputElement.addEventListener('change', (e) => {\n",
              "      resolve(e.target.files);\n",
              "    });\n",
              "  });\n",
              "\n",
              "  const cancel = document.createElement('button');\n",
              "  inputElement.parentElement.appendChild(cancel);\n",
              "  cancel.textContent = 'Cancel upload';\n",
              "  const cancelPromise = new Promise((resolve) => {\n",
              "    cancel.onclick = () => {\n",
              "      resolve(null);\n",
              "    };\n",
              "  });\n",
              "\n",
              "  // Wait for the user to pick the files.\n",
              "  const files = yield {\n",
              "    promise: Promise.race([pickedPromise, cancelPromise]),\n",
              "    response: {\n",
              "      action: 'starting',\n",
              "    }\n",
              "  };\n",
              "\n",
              "  cancel.remove();\n",
              "\n",
              "  // Disable the input element since further picks are not allowed.\n",
              "  inputElement.disabled = true;\n",
              "\n",
              "  if (!files) {\n",
              "    return {\n",
              "      response: {\n",
              "        action: 'complete',\n",
              "      }\n",
              "    };\n",
              "  }\n",
              "\n",
              "  for (const file of files) {\n",
              "    const li = document.createElement('li');\n",
              "    li.append(span(file.name, {fontWeight: 'bold'}));\n",
              "    li.append(span(\n",
              "        `(${file.type || 'n/a'}) - ${file.size} bytes, ` +\n",
              "        `last modified: ${\n",
              "            file.lastModifiedDate ? file.lastModifiedDate.toLocaleDateString() :\n",
              "                                    'n/a'} - `));\n",
              "    const percent = span('0% done');\n",
              "    li.appendChild(percent);\n",
              "\n",
              "    outputElement.appendChild(li);\n",
              "\n",
              "    const fileDataPromise = new Promise((resolve) => {\n",
              "      const reader = new FileReader();\n",
              "      reader.onload = (e) => {\n",
              "        resolve(e.target.result);\n",
              "      };\n",
              "      reader.readAsArrayBuffer(file);\n",
              "    });\n",
              "    // Wait for the data to be ready.\n",
              "    let fileData = yield {\n",
              "      promise: fileDataPromise,\n",
              "      response: {\n",
              "        action: 'continue',\n",
              "      }\n",
              "    };\n",
              "\n",
              "    // Use a chunked sending to avoid message size limits. See b/62115660.\n",
              "    let position = 0;\n",
              "    do {\n",
              "      const length = Math.min(fileData.byteLength - position, MAX_PAYLOAD_SIZE);\n",
              "      const chunk = new Uint8Array(fileData, position, length);\n",
              "      position += length;\n",
              "\n",
              "      const base64 = btoa(String.fromCharCode.apply(null, chunk));\n",
              "      yield {\n",
              "        response: {\n",
              "          action: 'append',\n",
              "          file: file.name,\n",
              "          data: base64,\n",
              "        },\n",
              "      };\n",
              "\n",
              "      let percentDone = fileData.byteLength === 0 ?\n",
              "          100 :\n",
              "          Math.round((position / fileData.byteLength) * 100);\n",
              "      percent.textContent = `${percentDone}% done`;\n",
              "\n",
              "    } while (position < fileData.byteLength);\n",
              "  }\n",
              "\n",
              "  // All done.\n",
              "  yield {\n",
              "    response: {\n",
              "      action: 'complete',\n",
              "    }\n",
              "  };\n",
              "}\n",
              "\n",
              "scope.google = scope.google || {};\n",
              "scope.google.colab = scope.google.colab || {};\n",
              "scope.google.colab._files = {\n",
              "  _uploadFiles,\n",
              "  _uploadFilesContinue,\n",
              "};\n",
              "})(self);\n",
              "</script> "
            ]
          },
          "metadata": {}
        },
        {
          "output_type": "stream",
          "name": "stdout",
          "text": [
            "Saving archive (4).zip to archive (4).zip\n",
            "Found 204 images belonging to 2 classes.\n",
            "Found 46 images belonging to 2 classes.\n"
          ]
        }
      ]
    },
    {
      "cell_type": "code",
      "source": [
        "\n",
        "x_train,y_train=train_iterator.next()\n",
        "x_test,y_test=test_iterator.next()\n"
      ],
      "metadata": {
        "id": "YwfreEL-yfFs"
      },
      "execution_count": 36,
      "outputs": []
    },
    {
      "cell_type": "code",
      "source": [
        "!pip install scikeras"
      ],
      "metadata": {
        "colab": {
          "base_uri": "https://localhost:8080/"
        },
        "id": "jrt6k2Wv1vCK",
        "outputId": "93133d37-fec4-41e2-96d2-9af1775a5939"
      },
      "execution_count": 26,
      "outputs": [
        {
          "output_type": "stream",
          "name": "stdout",
          "text": [
            "Collecting scikeras\n",
            "  Downloading scikeras-0.12.0-py3-none-any.whl (27 kB)\n",
            "Requirement already satisfied: packaging>=0.21 in /usr/local/lib/python3.10/dist-packages (from scikeras) (23.2)\n",
            "Requirement already satisfied: scikit-learn>=1.0.0 in /usr/local/lib/python3.10/dist-packages (from scikeras) (1.2.2)\n",
            "Requirement already satisfied: numpy>=1.17.3 in /usr/local/lib/python3.10/dist-packages (from scikit-learn>=1.0.0->scikeras) (1.23.5)\n",
            "Requirement already satisfied: scipy>=1.3.2 in /usr/local/lib/python3.10/dist-packages (from scikit-learn>=1.0.0->scikeras) (1.11.3)\n",
            "Requirement already satisfied: joblib>=1.1.1 in /usr/local/lib/python3.10/dist-packages (from scikit-learn>=1.0.0->scikeras) (1.3.2)\n",
            "Requirement already satisfied: threadpoolctl>=2.0.0 in /usr/local/lib/python3.10/dist-packages (from scikit-learn>=1.0.0->scikeras) (3.2.0)\n",
            "Installing collected packages: scikeras\n",
            "Successfully installed scikeras-0.12.0\n"
          ]
        }
      ]
    },
    {
      "cell_type": "code",
      "source": [
        "from tensorflow.keras.layers import Conv2D, Flatten, AveragePooling2D, Dense\n",
        "from tensorflow.keras.models import Sequential\n",
        "\n",
        "def baseline_model(nb_neurons=25, nb_filters=3):\n",
        "    model = Sequential()\n",
        "    model.add(Conv2D(nb_filters, (3, 3), padding='same', input_shape=(256, 256, 3)))\n",
        "    model.add(AveragePooling2D())\n",
        "    model.add(Conv2D(2, (2, 2)))\n",
        "    model.add(Flatten())\n",
        "    model.add(Dense(nb_neurons, activation='relu'))\n",
        "    model.add(Dense(1, activation='sigmoid'))\n",
        "    model.compile(optimizer='adam', loss='binary_crossentropy', metrics=['accuracy'])\n",
        "    return model\n"
      ],
      "metadata": {
        "id": "-qaj1hFf1xsu"
      },
      "execution_count": 44,
      "outputs": []
    },
    {
      "cell_type": "code",
      "source": [
        "from scikeras.wrappers import KerasClassifier\n",
        "from sklearn.model_selection import GridSearchCV\n",
        "\n",
        "model = KerasClassifier(build_fn=baseline_model)\n",
        "parameters = {'epochs': [7,12,20], 'batch_size': [12, 19, 25]}\n",
        "grid_search = GridSearchCV(estimator=model, param_grid=parameters, cv=4)\n",
        "result = grid_search.fit(x_train, y_train)\n"
      ],
      "metadata": {
        "colab": {
          "base_uri": "https://localhost:8080/"
        },
        "id": "A1ZlXgNb1xu2",
        "outputId": "daed0920-83b9-418e-c541-a9425783ce8a"
      },
      "execution_count": 39,
      "outputs": [
        {
          "metadata": {
            "tags": null
          },
          "name": "stderr",
          "output_type": "stream",
          "text": [
            "/usr/local/lib/python3.10/dist-packages/scikeras/wrappers.py:915: UserWarning: ``build_fn`` will be renamed to ``model`` in a future release, at which point use of ``build_fn`` will raise an Error instead.\n",
            "  X, y = self._initialize(X, y)\n"
          ]
        },
        {
          "metadata": {
            "tags": null
          },
          "name": "stdout",
          "output_type": "stream",
          "text": [
            "Epoch 1/7\n",
            "13/13 [==============================] - 6s 366ms/step - loss: 1.2343 - accuracy: 0.4902\n",
            "Epoch 2/7\n",
            "13/13 [==============================] - 5s 353ms/step - loss: 0.5771 - accuracy: 0.6863\n",
            "Epoch 3/7\n",
            "13/13 [==============================] - 3s 250ms/step - loss: 0.4615 - accuracy: 0.7516\n",
            "Epoch 4/7\n",
            "13/13 [==============================] - 5s 366ms/step - loss: 0.3234 - accuracy: 0.8889\n",
            "Epoch 5/7\n",
            "13/13 [==============================] - 3s 253ms/step - loss: 0.1688 - accuracy: 0.9804\n",
            "Epoch 6/7\n",
            "13/13 [==============================] - 3s 250ms/step - loss: 0.0886 - accuracy: 0.9935\n",
            "Epoch 7/7\n",
            "13/13 [==============================] - 3s 269ms/step - loss: 0.0453 - accuracy: 0.9935\n",
            "5/5 [==============================] - 1s 106ms/step\n"
          ]
        },
        {
          "metadata": {
            "tags": null
          },
          "name": "stderr",
          "output_type": "stream",
          "text": [
            "/usr/local/lib/python3.10/dist-packages/scikeras/wrappers.py:915: UserWarning: ``build_fn`` will be renamed to ``model`` in a future release, at which point use of ``build_fn`` will raise an Error instead.\n",
            "  X, y = self._initialize(X, y)\n"
          ]
        },
        {
          "metadata": {
            "tags": null
          },
          "name": "stdout",
          "output_type": "stream",
          "text": [
            "Epoch 1/7\n",
            "13/13 [==============================] - 5s 251ms/step - loss: 0.8109 - accuracy: 0.5752\n",
            "Epoch 2/7\n",
            "13/13 [==============================] - 4s 287ms/step - loss: 0.6895 - accuracy: 0.6209\n",
            "Epoch 3/7\n",
            "13/13 [==============================] - 4s 315ms/step - loss: 0.6837 - accuracy: 0.6013\n",
            "Epoch 4/7\n",
            "13/13 [==============================] - 3s 253ms/step - loss: 0.6650 - accuracy: 0.6471\n",
            "Epoch 5/7\n",
            "13/13 [==============================] - 3s 250ms/step - loss: 0.5830 - accuracy: 0.7386\n",
            "Epoch 6/7\n",
            "13/13 [==============================] - 5s 362ms/step - loss: 0.4280 - accuracy: 0.8039\n",
            "Epoch 7/7\n",
            "13/13 [==============================] - 3s 251ms/step - loss: 0.2604 - accuracy: 0.8954\n",
            "5/5 [==============================] - 1s 102ms/step\n"
          ]
        },
        {
          "metadata": {
            "tags": null
          },
          "name": "stderr",
          "output_type": "stream",
          "text": [
            "/usr/local/lib/python3.10/dist-packages/scikeras/wrappers.py:915: UserWarning: ``build_fn`` will be renamed to ``model`` in a future release, at which point use of ``build_fn`` will raise an Error instead.\n",
            "  X, y = self._initialize(X, y)\n"
          ]
        },
        {
          "metadata": {
            "tags": null
          },
          "name": "stdout",
          "output_type": "stream",
          "text": [
            "Epoch 1/7\n",
            "13/13 [==============================] - 6s 365ms/step - loss: 0.8487 - accuracy: 0.5163\n",
            "Epoch 2/7\n",
            "13/13 [==============================] - 3s 245ms/step - loss: 0.3937 - accuracy: 0.8758\n",
            "Epoch 3/7\n",
            "13/13 [==============================] - 3s 244ms/step - loss: 0.1911 - accuracy: 0.9608\n",
            "Epoch 4/7\n",
            "13/13 [==============================] - 3s 251ms/step - loss: 0.0724 - accuracy: 1.0000\n",
            "Epoch 5/7\n",
            "13/13 [==============================] - 4s 335ms/step - loss: 0.0309 - accuracy: 1.0000\n",
            "Epoch 6/7\n",
            "13/13 [==============================] - 3s 246ms/step - loss: 0.0155 - accuracy: 1.0000\n",
            "Epoch 7/7\n",
            "13/13 [==============================] - 3s 251ms/step - loss: 0.0089 - accuracy: 1.0000\n",
            "5/5 [==============================] - 1s 100ms/step\n"
          ]
        },
        {
          "metadata": {
            "tags": null
          },
          "name": "stderr",
          "output_type": "stream",
          "text": [
            "/usr/local/lib/python3.10/dist-packages/scikeras/wrappers.py:915: UserWarning: ``build_fn`` will be renamed to ``model`` in a future release, at which point use of ``build_fn`` will raise an Error instead.\n",
            "  X, y = self._initialize(X, y)\n"
          ]
        },
        {
          "metadata": {
            "tags": null
          },
          "name": "stdout",
          "output_type": "stream",
          "text": [
            "Epoch 1/7\n",
            "13/13 [==============================] - 6s 334ms/step - loss: 0.7292 - accuracy: 0.5882\n",
            "Epoch 2/7\n",
            "13/13 [==============================] - 3s 252ms/step - loss: 0.2166 - accuracy: 0.9346\n",
            "Epoch 3/7\n",
            "13/13 [==============================] - 3s 248ms/step - loss: 0.0714 - accuracy: 1.0000\n",
            "Epoch 4/7\n",
            "13/13 [==============================] - 4s 351ms/step - loss: 0.0176 - accuracy: 1.0000\n",
            "Epoch 5/7\n",
            "13/13 [==============================] - 3s 253ms/step - loss: 0.0077 - accuracy: 1.0000\n",
            "Epoch 6/7\n",
            "13/13 [==============================] - 3s 251ms/step - loss: 0.0041 - accuracy: 1.0000\n",
            "Epoch 7/7\n",
            "13/13 [==============================] - 3s 250ms/step - loss: 0.0032 - accuracy: 1.0000\n",
            "5/5 [==============================] - 1s 103ms/step\n"
          ]
        },
        {
          "metadata": {
            "tags": null
          },
          "name": "stderr",
          "output_type": "stream",
          "text": [
            "/usr/local/lib/python3.10/dist-packages/scikeras/wrappers.py:915: UserWarning: ``build_fn`` will be renamed to ``model`` in a future release, at which point use of ``build_fn`` will raise an Error instead.\n",
            "  X, y = self._initialize(X, y)\n"
          ]
        },
        {
          "metadata": {
            "tags": null
          },
          "name": "stdout",
          "output_type": "stream",
          "text": [
            "Epoch 1/12\n",
            "13/13 [==============================] - 4s 247ms/step - loss: 0.8613 - accuracy: 0.5752\n",
            "Epoch 2/12\n",
            "13/13 [==============================] - 4s 276ms/step - loss: 0.5262 - accuracy: 0.7516\n",
            "Epoch 3/12\n",
            "13/13 [==============================] - 4s 321ms/step - loss: 0.3589 - accuracy: 0.9085\n",
            "Epoch 4/12\n",
            "13/13 [==============================] - 3s 253ms/step - loss: 0.2952 - accuracy: 0.8954\n",
            "Epoch 5/12\n",
            "13/13 [==============================] - 3s 251ms/step - loss: 0.2830 - accuracy: 0.9216\n",
            "Epoch 6/12\n",
            "13/13 [==============================] - 5s 365ms/step - loss: 0.1547 - accuracy: 0.9804\n",
            "Epoch 7/12\n",
            "13/13 [==============================] - 3s 256ms/step - loss: 0.0931 - accuracy: 1.0000\n",
            "Epoch 8/12\n",
            "13/13 [==============================] - 3s 252ms/step - loss: 0.0626 - accuracy: 1.0000\n",
            "Epoch 9/12\n",
            "13/13 [==============================] - 3s 250ms/step - loss: 0.0359 - accuracy: 1.0000\n",
            "Epoch 10/12\n",
            "13/13 [==============================] - 5s 358ms/step - loss: 0.0236 - accuracy: 1.0000\n",
            "Epoch 11/12\n",
            "13/13 [==============================] - 3s 249ms/step - loss: 0.0170 - accuracy: 1.0000\n",
            "Epoch 12/12\n",
            "13/13 [==============================] - 3s 253ms/step - loss: 0.0140 - accuracy: 1.0000\n",
            "5/5 [==============================] - 1s 102ms/step\n"
          ]
        },
        {
          "metadata": {
            "tags": null
          },
          "name": "stderr",
          "output_type": "stream",
          "text": [
            "/usr/local/lib/python3.10/dist-packages/scikeras/wrappers.py:915: UserWarning: ``build_fn`` will be renamed to ``model`` in a future release, at which point use of ``build_fn`` will raise an Error instead.\n",
            "  X, y = self._initialize(X, y)\n"
          ]
        },
        {
          "metadata": {
            "tags": null
          },
          "name": "stdout",
          "output_type": "stream",
          "text": [
            "Epoch 1/12\n",
            "13/13 [==============================] - 4s 252ms/step - loss: 0.7261 - accuracy: 0.6078\n",
            "Epoch 2/12\n",
            "13/13 [==============================] - 3s 250ms/step - loss: 0.6620 - accuracy: 0.6405\n",
            "Epoch 3/12\n",
            "13/13 [==============================] - 5s 368ms/step - loss: 0.5714 - accuracy: 0.6078\n",
            "Epoch 4/12\n",
            "13/13 [==============================] - 3s 254ms/step - loss: 0.5130 - accuracy: 0.7255\n",
            "Epoch 5/12\n",
            "13/13 [==============================] - 3s 251ms/step - loss: 0.3910 - accuracy: 0.8627\n",
            "Epoch 6/12\n",
            "13/13 [==============================] - 3s 254ms/step - loss: 0.2699 - accuracy: 0.9673\n",
            "Epoch 7/12\n",
            "13/13 [==============================] - 5s 351ms/step - loss: 0.1695 - accuracy: 1.0000\n",
            "Epoch 8/12\n",
            "13/13 [==============================] - 3s 252ms/step - loss: 0.0861 - accuracy: 1.0000\n",
            "Epoch 9/12\n",
            "13/13 [==============================] - 3s 249ms/step - loss: 0.0485 - accuracy: 1.0000\n",
            "Epoch 10/12\n",
            "13/13 [==============================] - 4s 339ms/step - loss: 0.0249 - accuracy: 1.0000\n",
            "Epoch 11/12\n",
            "13/13 [==============================] - 4s 260ms/step - loss: 0.0156 - accuracy: 1.0000\n",
            "Epoch 12/12\n",
            "13/13 [==============================] - 3s 252ms/step - loss: 0.0102 - accuracy: 1.0000\n",
            "5/5 [==============================] - 1s 158ms/step\n"
          ]
        },
        {
          "metadata": {
            "tags": null
          },
          "name": "stderr",
          "output_type": "stream",
          "text": [
            "/usr/local/lib/python3.10/dist-packages/scikeras/wrappers.py:915: UserWarning: ``build_fn`` will be renamed to ``model`` in a future release, at which point use of ``build_fn`` will raise an Error instead.\n",
            "  X, y = self._initialize(X, y)\n"
          ]
        },
        {
          "metadata": {
            "tags": null
          },
          "name": "stdout",
          "output_type": "stream",
          "text": [
            "Epoch 1/12\n",
            "13/13 [==============================] - 5s 252ms/step - loss: 0.6761 - accuracy: 0.5752\n",
            "Epoch 2/12\n",
            "13/13 [==============================] - 3s 255ms/step - loss: 0.2187 - accuracy: 0.9608\n",
            "Epoch 3/12\n",
            "13/13 [==============================] - 3s 251ms/step - loss: 0.0800 - accuracy: 0.9935\n",
            "Epoch 4/12\n",
            "13/13 [==============================] - 5s 364ms/step - loss: 0.0238 - accuracy: 0.9935\n",
            "Epoch 5/12\n",
            "13/13 [==============================] - 3s 253ms/step - loss: 0.0059 - accuracy: 1.0000\n",
            "Epoch 6/12\n",
            "13/13 [==============================] - 3s 251ms/step - loss: 0.0034 - accuracy: 1.0000\n",
            "Epoch 7/12\n",
            "13/13 [==============================] - 4s 326ms/step - loss: 0.0021 - accuracy: 1.0000\n",
            "Epoch 8/12\n",
            "13/13 [==============================] - 4s 278ms/step - loss: 0.0016 - accuracy: 1.0000\n",
            "Epoch 9/12\n",
            "13/13 [==============================] - 3s 251ms/step - loss: 0.0013 - accuracy: 1.0000\n",
            "Epoch 10/12\n",
            "13/13 [==============================] - 3s 250ms/step - loss: 0.0011 - accuracy: 1.0000\n",
            "Epoch 11/12\n",
            "13/13 [==============================] - 5s 365ms/step - loss: 9.2275e-04 - accuracy: 1.0000\n",
            "Epoch 12/12\n",
            "13/13 [==============================] - 3s 249ms/step - loss: 7.9310e-04 - accuracy: 1.0000\n",
            "5/5 [==============================] - 1s 105ms/step\n"
          ]
        },
        {
          "metadata": {
            "tags": null
          },
          "name": "stderr",
          "output_type": "stream",
          "text": [
            "/usr/local/lib/python3.10/dist-packages/scikeras/wrappers.py:915: UserWarning: ``build_fn`` will be renamed to ``model`` in a future release, at which point use of ``build_fn`` will raise an Error instead.\n",
            "  X, y = self._initialize(X, y)\n"
          ]
        },
        {
          "metadata": {
            "tags": null
          },
          "name": "stdout",
          "output_type": "stream",
          "text": [
            "Epoch 1/12\n",
            "13/13 [==============================] - 6s 367ms/step - loss: 1.3486 - accuracy: 0.5621\n",
            "Epoch 2/12\n",
            "13/13 [==============================] - 3s 253ms/step - loss: 0.5916 - accuracy: 0.6797\n",
            "Epoch 3/12\n",
            "13/13 [==============================] - 3s 255ms/step - loss: 0.3359 - accuracy: 0.8889\n",
            "Epoch 4/12\n",
            "13/13 [==============================] - 4s 310ms/step - loss: 0.2793 - accuracy: 0.9346\n",
            "Epoch 5/12\n",
            "13/13 [==============================] - 4s 283ms/step - loss: 0.2375 - accuracy: 0.9281\n",
            "Epoch 6/12\n",
            "13/13 [==============================] - 3s 250ms/step - loss: 0.1522 - accuracy: 0.9739\n",
            "Epoch 7/12\n",
            "13/13 [==============================] - 3s 248ms/step - loss: 0.1080 - accuracy: 1.0000\n",
            "Epoch 8/12\n",
            "13/13 [==============================] - 5s 365ms/step - loss: 0.0788 - accuracy: 1.0000\n",
            "Epoch 9/12\n",
            "13/13 [==============================] - 3s 253ms/step - loss: 0.0466 - accuracy: 1.0000\n",
            "Epoch 10/12\n",
            "13/13 [==============================] - 3s 255ms/step - loss: 0.0443 - accuracy: 1.0000\n",
            "Epoch 11/12\n",
            "13/13 [==============================] - 4s 274ms/step - loss: 0.0331 - accuracy: 1.0000\n",
            "Epoch 12/12\n",
            "13/13 [==============================] - 4s 326ms/step - loss: 0.0222 - accuracy: 1.0000\n",
            "5/5 [==============================] - 1s 100ms/step\n"
          ]
        },
        {
          "metadata": {
            "tags": null
          },
          "name": "stderr",
          "output_type": "stream",
          "text": [
            "/usr/local/lib/python3.10/dist-packages/scikeras/wrappers.py:915: UserWarning: ``build_fn`` will be renamed to ``model`` in a future release, at which point use of ``build_fn`` will raise an Error instead.\n",
            "  X, y = self._initialize(X, y)\n"
          ]
        },
        {
          "metadata": {
            "tags": null
          },
          "name": "stdout",
          "output_type": "stream",
          "text": [
            "Epoch 1/20\n",
            "13/13 [==============================] - 4s 250ms/step - loss: 3.4535 - accuracy: 0.5294\n",
            "Epoch 2/20\n",
            "13/13 [==============================] - 5s 366ms/step - loss: 0.8737 - accuracy: 0.6667\n",
            "Epoch 3/20\n",
            "13/13 [==============================] - 3s 249ms/step - loss: 0.5914 - accuracy: 0.7516\n",
            "Epoch 4/20\n",
            "13/13 [==============================] - 3s 250ms/step - loss: 0.3851 - accuracy: 0.8431\n",
            "Epoch 5/20\n",
            "13/13 [==============================] - 4s 305ms/step - loss: 0.2671 - accuracy: 0.9412\n",
            "Epoch 6/20\n",
            "13/13 [==============================] - 4s 299ms/step - loss: 0.2401 - accuracy: 0.9412\n",
            "Epoch 7/20\n",
            "13/13 [==============================] - 3s 253ms/step - loss: 0.2001 - accuracy: 0.9608\n",
            "Epoch 8/20\n",
            "13/13 [==============================] - 3s 254ms/step - loss: 0.1572 - accuracy: 1.0000\n",
            "Epoch 9/20\n",
            "13/13 [==============================] - 5s 366ms/step - loss: 0.1403 - accuracy: 0.9869\n",
            "Epoch 10/20\n",
            "13/13 [==============================] - 3s 251ms/step - loss: 0.1664 - accuracy: 0.9477\n",
            "Epoch 11/20\n",
            "13/13 [==============================] - 3s 252ms/step - loss: 0.1250 - accuracy: 0.9673\n",
            "Epoch 12/20\n",
            "13/13 [==============================] - 4s 274ms/step - loss: 0.0662 - accuracy: 1.0000\n",
            "Epoch 13/20\n",
            "13/13 [==============================] - 4s 332ms/step - loss: 0.0561 - accuracy: 1.0000\n",
            "Epoch 14/20\n",
            "13/13 [==============================] - 3s 253ms/step - loss: 0.0524 - accuracy: 1.0000\n",
            "Epoch 15/20\n",
            "13/13 [==============================] - 3s 249ms/step - loss: 0.0401 - accuracy: 1.0000\n",
            "Epoch 16/20\n",
            "13/13 [==============================] - 4s 352ms/step - loss: 0.0281 - accuracy: 1.0000\n",
            "Epoch 17/20\n",
            "13/13 [==============================] - 3s 254ms/step - loss: 0.0237 - accuracy: 1.0000\n",
            "Epoch 18/20\n",
            "13/13 [==============================] - 3s 253ms/step - loss: 0.0198 - accuracy: 1.0000\n",
            "Epoch 19/20\n",
            "13/13 [==============================] - 3s 252ms/step - loss: 0.0180 - accuracy: 1.0000\n",
            "Epoch 20/20\n",
            "13/13 [==============================] - 5s 366ms/step - loss: 0.0159 - accuracy: 1.0000\n",
            "5/5 [==============================] - 1s 99ms/step\n"
          ]
        },
        {
          "metadata": {
            "tags": null
          },
          "name": "stderr",
          "output_type": "stream",
          "text": [
            "/usr/local/lib/python3.10/dist-packages/scikeras/wrappers.py:915: UserWarning: ``build_fn`` will be renamed to ``model`` in a future release, at which point use of ``build_fn`` will raise an Error instead.\n",
            "  X, y = self._initialize(X, y)\n"
          ]
        },
        {
          "metadata": {
            "tags": null
          },
          "name": "stdout",
          "output_type": "stream",
          "text": [
            "Epoch 1/20\n",
            "13/13 [==============================] - 4s 247ms/step - loss: 0.6692 - accuracy: 0.6078\n",
            "Epoch 2/20\n",
            "13/13 [==============================] - 3s 251ms/step - loss: 0.4758 - accuracy: 0.8235\n",
            "Epoch 3/20\n",
            "13/13 [==============================] - 5s 368ms/step - loss: 0.3096 - accuracy: 0.8824\n",
            "Epoch 4/20\n",
            "13/13 [==============================] - 3s 249ms/step - loss: 0.1719 - accuracy: 0.9804\n",
            "Epoch 5/20\n",
            "13/13 [==============================] - 3s 254ms/step - loss: 0.0909 - accuracy: 1.0000\n",
            "Epoch 6/20\n",
            "13/13 [==============================] - 4s 312ms/step - loss: 0.0394 - accuracy: 1.0000\n",
            "Epoch 7/20\n",
            "13/13 [==============================] - 4s 288ms/step - loss: 0.0163 - accuracy: 1.0000\n",
            "Epoch 8/20\n",
            "13/13 [==============================] - 3s 248ms/step - loss: 0.0096 - accuracy: 1.0000\n",
            "Epoch 9/20\n",
            "13/13 [==============================] - 3s 251ms/step - loss: 0.0077 - accuracy: 1.0000\n",
            "Epoch 10/20\n",
            "13/13 [==============================] - 5s 366ms/step - loss: 0.0048 - accuracy: 1.0000\n",
            "Epoch 11/20\n",
            "13/13 [==============================] - 3s 259ms/step - loss: 0.0031 - accuracy: 1.0000\n",
            "Epoch 12/20\n",
            "13/13 [==============================] - 3s 253ms/step - loss: 0.0025 - accuracy: 1.0000\n",
            "Epoch 13/20\n",
            "13/13 [==============================] - 4s 281ms/step - loss: 0.0020 - accuracy: 1.0000\n",
            "Epoch 14/20\n",
            "13/13 [==============================] - 4s 324ms/step - loss: 0.0017 - accuracy: 1.0000\n",
            "Epoch 15/20\n",
            "13/13 [==============================] - 3s 249ms/step - loss: 0.0014 - accuracy: 1.0000\n",
            "Epoch 16/20\n",
            "13/13 [==============================] - 3s 251ms/step - loss: 0.0012 - accuracy: 1.0000\n",
            "Epoch 17/20\n",
            "13/13 [==============================] - 5s 405ms/step - loss: 0.0011 - accuracy: 1.0000\n",
            "Epoch 18/20\n",
            "13/13 [==============================] - 4s 275ms/step - loss: 0.0011 - accuracy: 1.0000\n",
            "Epoch 19/20\n",
            "13/13 [==============================] - 3s 248ms/step - loss: 8.7613e-04 - accuracy: 1.0000\n",
            "Epoch 20/20\n",
            "13/13 [==============================] - 4s 287ms/step - loss: 7.6948e-04 - accuracy: 1.0000\n",
            "5/5 [==============================] - 1s 105ms/step\n"
          ]
        },
        {
          "metadata": {
            "tags": null
          },
          "name": "stderr",
          "output_type": "stream",
          "text": [
            "/usr/local/lib/python3.10/dist-packages/scikeras/wrappers.py:915: UserWarning: ``build_fn`` will be renamed to ``model`` in a future release, at which point use of ``build_fn`` will raise an Error instead.\n",
            "  X, y = self._initialize(X, y)\n"
          ]
        },
        {
          "metadata": {
            "tags": null
          },
          "name": "stdout",
          "output_type": "stream",
          "text": [
            "Epoch 1/20\n",
            "13/13 [==============================] - 6s 363ms/step - loss: 1.1337 - accuracy: 0.3987\n",
            "Epoch 2/20\n",
            "13/13 [==============================] - 3s 252ms/step - loss: 0.6970 - accuracy: 0.4967\n",
            "Epoch 3/20\n",
            "13/13 [==============================] - 4s 274ms/step - loss: 0.6876 - accuracy: 0.6078\n",
            "Epoch 4/20\n",
            "13/13 [==============================] - 4s 288ms/step - loss: 0.6635 - accuracy: 0.6405\n",
            "Epoch 5/20\n",
            "13/13 [==============================] - 4s 310ms/step - loss: 0.6400 - accuracy: 0.6601\n",
            "Epoch 6/20\n",
            "13/13 [==============================] - 3s 252ms/step - loss: 0.6288 - accuracy: 0.6797\n",
            "Epoch 7/20\n",
            "13/13 [==============================] - 3s 252ms/step - loss: 0.6142 - accuracy: 0.6797\n",
            "Epoch 8/20\n",
            "13/13 [==============================] - 5s 369ms/step - loss: 0.6043 - accuracy: 0.7124\n",
            "Epoch 9/20\n",
            "13/13 [==============================] - 3s 253ms/step - loss: 0.5984 - accuracy: 0.7451\n",
            "Epoch 10/20\n",
            "13/13 [==============================] - 3s 251ms/step - loss: 0.5818 - accuracy: 0.7190\n",
            "Epoch 11/20\n",
            "13/13 [==============================] - 3s 259ms/step - loss: 0.5683 - accuracy: 0.7516\n",
            "Epoch 12/20\n",
            "13/13 [==============================] - 5s 346ms/step - loss: 0.5648 - accuracy: 0.7516\n",
            "Epoch 13/20\n",
            "13/13 [==============================] - 3s 254ms/step - loss: 0.5638 - accuracy: 0.7451\n",
            "Epoch 14/20\n",
            "13/13 [==============================] - 3s 251ms/step - loss: 0.5587 - accuracy: 0.7582\n",
            "Epoch 15/20\n",
            "13/13 [==============================] - 4s 346ms/step - loss: 0.5537 - accuracy: 0.7516\n",
            "Epoch 16/20\n",
            "13/13 [==============================] - 4s 254ms/step - loss: 0.5537 - accuracy: 0.7516\n",
            "Epoch 17/20\n",
            "13/13 [==============================] - 3s 250ms/step - loss: 0.5533 - accuracy: 0.7647\n",
            "Epoch 18/20\n",
            "13/13 [==============================] - 3s 252ms/step - loss: 0.5682 - accuracy: 0.7320\n",
            "Epoch 19/20\n",
            "13/13 [==============================] - 5s 366ms/step - loss: 0.5629 - accuracy: 0.7647\n",
            "Epoch 20/20\n",
            "13/13 [==============================] - 3s 253ms/step - loss: 0.5351 - accuracy: 0.7778\n",
            "5/5 [==============================] - 1s 102ms/step\n"
          ]
        },
        {
          "metadata": {
            "tags": null
          },
          "name": "stderr",
          "output_type": "stream",
          "text": [
            "/usr/local/lib/python3.10/dist-packages/scikeras/wrappers.py:915: UserWarning: ``build_fn`` will be renamed to ``model`` in a future release, at which point use of ``build_fn`` will raise an Error instead.\n",
            "  X, y = self._initialize(X, y)\n"
          ]
        },
        {
          "metadata": {
            "tags": null
          },
          "name": "stdout",
          "output_type": "stream",
          "text": [
            "Epoch 1/20\n",
            "13/13 [==============================] - 4s 249ms/step - loss: 1.7342 - accuracy: 0.5556\n",
            "Epoch 2/20\n",
            "13/13 [==============================] - 3s 254ms/step - loss: 0.9295 - accuracy: 0.5882\n",
            "Epoch 3/20\n",
            "13/13 [==============================] - 5s 362ms/step - loss: 0.5557 - accuracy: 0.6863\n",
            "Epoch 4/20\n",
            "13/13 [==============================] - 3s 247ms/step - loss: 0.4476 - accuracy: 0.7908\n",
            "Epoch 5/20\n",
            "13/13 [==============================] - 3s 247ms/step - loss: 0.3697 - accuracy: 0.8758\n",
            "Epoch 6/20\n",
            "13/13 [==============================] - 3s 254ms/step - loss: 0.3273 - accuracy: 0.9412\n",
            "Epoch 7/20\n",
            "13/13 [==============================] - 5s 340ms/step - loss: 0.2692 - accuracy: 0.9346\n",
            "Epoch 8/20\n",
            "13/13 [==============================] - 3s 252ms/step - loss: 0.2018 - accuracy: 0.9608\n",
            "Epoch 9/20\n",
            "13/13 [==============================] - 3s 250ms/step - loss: 0.1586 - accuracy: 0.9739\n",
            "Epoch 10/20\n",
            "13/13 [==============================] - 4s 341ms/step - loss: 0.1179 - accuracy: 0.9935\n",
            "Epoch 11/20\n",
            "13/13 [==============================] - 3s 253ms/step - loss: 0.0788 - accuracy: 0.9935\n",
            "Epoch 12/20\n",
            "13/13 [==============================] - 3s 247ms/step - loss: 0.0809 - accuracy: 0.9869\n",
            "Epoch 13/20\n",
            "13/13 [==============================] - 3s 245ms/step - loss: 0.0577 - accuracy: 0.9935\n",
            "Epoch 14/20\n",
            "13/13 [==============================] - 5s 359ms/step - loss: 0.0391 - accuracy: 1.0000\n",
            "Epoch 15/20\n",
            "13/13 [==============================] - 3s 248ms/step - loss: 0.0319 - accuracy: 0.9935\n",
            "Epoch 16/20\n",
            "13/13 [==============================] - 3s 245ms/step - loss: 0.0136 - accuracy: 1.0000\n",
            "Epoch 17/20\n",
            "13/13 [==============================] - 3s 260ms/step - loss: 0.0099 - accuracy: 1.0000\n",
            "Epoch 18/20\n",
            "13/13 [==============================] - 4s 332ms/step - loss: 0.0078 - accuracy: 1.0000\n",
            "Epoch 19/20\n",
            "13/13 [==============================] - 3s 245ms/step - loss: 0.0063 - accuracy: 1.0000\n",
            "Epoch 20/20\n",
            "13/13 [==============================] - 3s 245ms/step - loss: 0.0054 - accuracy: 1.0000\n",
            "5/5 [==============================] - 1s 102ms/step\n"
          ]
        },
        {
          "metadata": {
            "tags": null
          },
          "name": "stderr",
          "output_type": "stream",
          "text": [
            "/usr/local/lib/python3.10/dist-packages/scikeras/wrappers.py:915: UserWarning: ``build_fn`` will be renamed to ``model`` in a future release, at which point use of ``build_fn`` will raise an Error instead.\n",
            "  X, y = self._initialize(X, y)\n"
          ]
        },
        {
          "metadata": {
            "tags": null
          },
          "name": "stdout",
          "output_type": "stream",
          "text": [
            "Epoch 1/7\n",
            "9/9 [==============================] - 5s 492ms/step - loss: 2.4280 - accuracy: 0.5425\n",
            "Epoch 2/7\n",
            "9/9 [==============================] - 3s 346ms/step - loss: 0.6262 - accuracy: 0.6732\n",
            "Epoch 3/7\n",
            "9/9 [==============================] - 3s 350ms/step - loss: 0.7021 - accuracy: 0.6601\n",
            "Epoch 4/7\n",
            "9/9 [==============================] - 4s 429ms/step - loss: 0.6358 - accuracy: 0.7059\n",
            "Epoch 5/7\n",
            "9/9 [==============================] - 4s 406ms/step - loss: 0.4737 - accuracy: 0.7974\n",
            "Epoch 6/7\n",
            "9/9 [==============================] - 3s 352ms/step - loss: 0.4224 - accuracy: 0.8562\n",
            "Epoch 7/7\n",
            "9/9 [==============================] - 3s 351ms/step - loss: 0.4200 - accuracy: 0.8039\n",
            "3/3 [==============================] - 1s 164ms/step\n"
          ]
        },
        {
          "metadata": {
            "tags": null
          },
          "name": "stderr",
          "output_type": "stream",
          "text": [
            "/usr/local/lib/python3.10/dist-packages/scikeras/wrappers.py:915: UserWarning: ``build_fn`` will be renamed to ``model`` in a future release, at which point use of ``build_fn`` will raise an Error instead.\n",
            "  X, y = self._initialize(X, y)\n"
          ]
        },
        {
          "metadata": {
            "tags": null
          },
          "name": "stdout",
          "output_type": "stream",
          "text": [
            "Epoch 1/7\n",
            "9/9 [==============================] - 4s 353ms/step - loss: 1.0664 - accuracy: 0.5490\n",
            "Epoch 2/7\n",
            "9/9 [==============================] - 3s 356ms/step - loss: 0.7238 - accuracy: 0.4379\n",
            "Epoch 3/7\n",
            "9/9 [==============================] - 5s 512ms/step - loss: 0.6256 - accuracy: 0.5229\n",
            "Epoch 4/7\n",
            "9/9 [==============================] - 3s 351ms/step - loss: 0.5355 - accuracy: 0.8105\n",
            "Epoch 5/7\n",
            "9/9 [==============================] - 3s 359ms/step - loss: 0.3778 - accuracy: 0.8105\n",
            "Epoch 6/7\n",
            "9/9 [==============================] - 4s 445ms/step - loss: 0.1754 - accuracy: 0.9673\n",
            "Epoch 7/7\n",
            "9/9 [==============================] - 4s 387ms/step - loss: 0.0607 - accuracy: 1.0000\n",
            "3/3 [==============================] - 1s 172ms/step\n"
          ]
        },
        {
          "metadata": {
            "tags": null
          },
          "name": "stderr",
          "output_type": "stream",
          "text": [
            "/usr/local/lib/python3.10/dist-packages/scikeras/wrappers.py:915: UserWarning: ``build_fn`` will be renamed to ``model`` in a future release, at which point use of ``build_fn`` will raise an Error instead.\n",
            "  X, y = self._initialize(X, y)\n"
          ]
        },
        {
          "metadata": {
            "tags": null
          },
          "name": "stdout",
          "output_type": "stream",
          "text": [
            "Epoch 1/7\n",
            "9/9 [==============================] - 5s 503ms/step - loss: 1.3372 - accuracy: 0.4706\n",
            "Epoch 2/7\n",
            "9/9 [==============================] - 3s 349ms/step - loss: 0.6913 - accuracy: 0.4314\n",
            "Epoch 3/7\n",
            "9/9 [==============================] - 3s 347ms/step - loss: 0.6924 - accuracy: 0.4118\n",
            "Epoch 4/7\n",
            "9/9 [==============================] - 3s 347ms/step - loss: 0.6841 - accuracy: 0.6013\n",
            "Epoch 5/7\n",
            "9/9 [==============================] - 5s 519ms/step - loss: 0.6683 - accuracy: 0.6667\n",
            "Epoch 6/7\n",
            "9/9 [==============================] - 3s 351ms/step - loss: 0.6457 - accuracy: 0.7516\n",
            "Epoch 7/7\n",
            "9/9 [==============================] - 3s 356ms/step - loss: 0.6224 - accuracy: 0.6863\n",
            "3/3 [==============================] - 1s 169ms/step\n"
          ]
        },
        {
          "metadata": {
            "tags": null
          },
          "name": "stderr",
          "output_type": "stream",
          "text": [
            "/usr/local/lib/python3.10/dist-packages/scikeras/wrappers.py:915: UserWarning: ``build_fn`` will be renamed to ``model`` in a future release, at which point use of ``build_fn`` will raise an Error instead.\n",
            "  X, y = self._initialize(X, y)\n"
          ]
        },
        {
          "metadata": {
            "tags": null
          },
          "name": "stdout",
          "output_type": "stream",
          "text": [
            "Epoch 1/7\n",
            "9/9 [==============================] - 4s 352ms/step - loss: 1.0331 - accuracy: 0.5490\n",
            "Epoch 2/7\n",
            "9/9 [==============================] - 3s 352ms/step - loss: 0.5174 - accuracy: 0.7843\n",
            "Epoch 3/7\n",
            "9/9 [==============================] - 4s 477ms/step - loss: 0.4008 - accuracy: 0.8301\n",
            "Epoch 4/7\n",
            "9/9 [==============================] - 4s 358ms/step - loss: 0.2802 - accuracy: 0.9281\n",
            "Epoch 5/7\n",
            "9/9 [==============================] - 3s 346ms/step - loss: 0.1676 - accuracy: 0.9608\n",
            "Epoch 6/7\n",
            "9/9 [==============================] - 3s 349ms/step - loss: 0.0988 - accuracy: 0.9869\n",
            "Epoch 7/7\n",
            "9/9 [==============================] - 5s 521ms/step - loss: 0.0451 - accuracy: 1.0000\n",
            "3/3 [==============================] - 1s 169ms/step\n"
          ]
        },
        {
          "metadata": {
            "tags": null
          },
          "name": "stderr",
          "output_type": "stream",
          "text": [
            "/usr/local/lib/python3.10/dist-packages/scikeras/wrappers.py:915: UserWarning: ``build_fn`` will be renamed to ``model`` in a future release, at which point use of ``build_fn`` will raise an Error instead.\n",
            "  X, y = self._initialize(X, y)\n"
          ]
        },
        {
          "metadata": {
            "tags": null
          },
          "name": "stdout",
          "output_type": "stream",
          "text": [
            "Epoch 1/12\n",
            "9/9 [==============================] - 4s 350ms/step - loss: 0.7125 - accuracy: 0.6078\n",
            "Epoch 2/12\n",
            "9/9 [==============================] - 5s 509ms/step - loss: 0.4677 - accuracy: 0.7908\n",
            "Epoch 3/12\n",
            "9/9 [==============================] - 3s 355ms/step - loss: 0.3091 - accuracy: 0.9412\n",
            "Epoch 4/12\n",
            "9/9 [==============================] - 3s 364ms/step - loss: 0.2122 - accuracy: 0.9804\n",
            "Epoch 5/12\n",
            "9/9 [==============================] - 4s 481ms/step - loss: 0.1239 - accuracy: 0.9935\n",
            "Epoch 6/12\n",
            "9/9 [==============================] - 4s 381ms/step - loss: 0.1107 - accuracy: 0.9935\n",
            "Epoch 7/12\n",
            "9/9 [==============================] - 3s 354ms/step - loss: 0.0449 - accuracy: 1.0000\n",
            "Epoch 8/12\n",
            "9/9 [==============================] - 3s 358ms/step - loss: 0.0287 - accuracy: 1.0000\n",
            "Epoch 9/12\n",
            "9/9 [==============================] - 5s 526ms/step - loss: 0.0173 - accuracy: 1.0000\n",
            "Epoch 10/12\n",
            "9/9 [==============================] - 3s 354ms/step - loss: 0.0134 - accuracy: 1.0000\n",
            "Epoch 11/12\n",
            "9/9 [==============================] - 3s 351ms/step - loss: 0.0083 - accuracy: 1.0000\n",
            "Epoch 12/12\n",
            "9/9 [==============================] - 3s 382ms/step - loss: 0.0064 - accuracy: 1.0000\n",
            "3/3 [==============================] - 1s 168ms/step\n"
          ]
        },
        {
          "metadata": {
            "tags": null
          },
          "name": "stderr",
          "output_type": "stream",
          "text": [
            "/usr/local/lib/python3.10/dist-packages/scikeras/wrappers.py:915: UserWarning: ``build_fn`` will be renamed to ``model`` in a future release, at which point use of ``build_fn`` will raise an Error instead.\n",
            "  X, y = self._initialize(X, y)\n"
          ]
        },
        {
          "metadata": {
            "tags": null
          },
          "name": "stdout",
          "output_type": "stream",
          "text": [
            "Epoch 1/12\n",
            "9/9 [==============================] - 5s 355ms/step - loss: 3.6892 - accuracy: 0.5817\n",
            "Epoch 2/12\n",
            "9/9 [==============================] - 5s 529ms/step - loss: 0.6879 - accuracy: 0.4444\n",
            "Epoch 3/12\n",
            "9/9 [==============================] - 3s 347ms/step - loss: 0.6882 - accuracy: 0.5752\n",
            "Epoch 4/12\n",
            "9/9 [==============================] - 3s 356ms/step - loss: 0.6887 - accuracy: 0.5686\n",
            "Epoch 5/12\n",
            "9/9 [==============================] - 3s 351ms/step - loss: 0.6883 - accuracy: 0.5686\n",
            "Epoch 6/12\n",
            "9/9 [==============================] - 5s 493ms/step - loss: 0.6880 - accuracy: 0.5686\n",
            "Epoch 7/12\n",
            "9/9 [==============================] - 3s 353ms/step - loss: 0.6878 - accuracy: 0.5686\n",
            "Epoch 8/12\n",
            "9/9 [==============================] - 3s 350ms/step - loss: 0.6875 - accuracy: 0.5686\n",
            "Epoch 9/12\n",
            "9/9 [==============================] - 4s 444ms/step - loss: 0.6874 - accuracy: 0.5686\n",
            "Epoch 10/12\n",
            "9/9 [==============================] - 4s 392ms/step - loss: 0.6873 - accuracy: 0.5686\n",
            "Epoch 11/12\n",
            "9/9 [==============================] - 3s 349ms/step - loss: 0.6871 - accuracy: 0.5686\n",
            "Epoch 12/12\n",
            "9/9 [==============================] - 3s 347ms/step - loss: 0.6871 - accuracy: 0.5686\n",
            "3/3 [==============================] - 1s 189ms/step\n"
          ]
        },
        {
          "metadata": {
            "tags": null
          },
          "name": "stderr",
          "output_type": "stream",
          "text": [
            "/usr/local/lib/python3.10/dist-packages/scikeras/wrappers.py:915: UserWarning: ``build_fn`` will be renamed to ``model`` in a future release, at which point use of ``build_fn`` will raise an Error instead.\n",
            "  X, y = self._initialize(X, y)\n"
          ]
        },
        {
          "metadata": {
            "tags": null
          },
          "name": "stdout",
          "output_type": "stream",
          "text": [
            "Epoch 1/12\n",
            "9/9 [==============================] - 4s 351ms/step - loss: 0.7627 - accuracy: 0.5490\n",
            "Epoch 2/12\n",
            "9/9 [==============================] - 3s 344ms/step - loss: 0.4505 - accuracy: 0.8170\n",
            "Epoch 3/12\n",
            "9/9 [==============================] - 5s 497ms/step - loss: 0.3122 - accuracy: 0.8954\n",
            "Epoch 4/12\n",
            "9/9 [==============================] - 3s 345ms/step - loss: 0.2114 - accuracy: 0.9673\n",
            "Epoch 5/12\n",
            "9/9 [==============================] - 3s 352ms/step - loss: 0.1099 - accuracy: 0.9869\n",
            "Epoch 6/12\n",
            "9/9 [==============================] - 4s 446ms/step - loss: 0.0641 - accuracy: 1.0000\n",
            "Epoch 7/12\n",
            "9/9 [==============================] - 4s 379ms/step - loss: 0.0336 - accuracy: 1.0000\n",
            "Epoch 8/12\n",
            "9/9 [==============================] - 3s 348ms/step - loss: 0.0205 - accuracy: 1.0000\n",
            "Epoch 9/12\n",
            "9/9 [==============================] - 3s 344ms/step - loss: 0.0118 - accuracy: 1.0000\n",
            "Epoch 10/12\n",
            "9/9 [==============================] - 5s 521ms/step - loss: 0.0084 - accuracy: 1.0000\n",
            "Epoch 11/12\n",
            "9/9 [==============================] - 3s 353ms/step - loss: 0.0065 - accuracy: 1.0000\n",
            "Epoch 12/12\n",
            "9/9 [==============================] - 3s 351ms/step - loss: 0.0051 - accuracy: 1.0000\n",
            "3/3 [==============================] - 1s 270ms/step\n"
          ]
        },
        {
          "metadata": {
            "tags": null
          },
          "name": "stderr",
          "output_type": "stream",
          "text": [
            "/usr/local/lib/python3.10/dist-packages/scikeras/wrappers.py:915: UserWarning: ``build_fn`` will be renamed to ``model`` in a future release, at which point use of ``build_fn`` will raise an Error instead.\n",
            "  X, y = self._initialize(X, y)\n"
          ]
        },
        {
          "metadata": {
            "tags": null
          },
          "name": "stdout",
          "output_type": "stream",
          "text": [
            "Epoch 1/12\n",
            "9/9 [==============================] - 4s 346ms/step - loss: 0.9919 - accuracy: 0.6209\n",
            "Epoch 2/12\n",
            "9/9 [==============================] - 3s 341ms/step - loss: 0.4630 - accuracy: 0.7712\n",
            "Epoch 3/12\n",
            "9/9 [==============================] - 4s 422ms/step - loss: 0.1800 - accuracy: 0.9477\n",
            "Epoch 4/12\n",
            "9/9 [==============================] - 4s 406ms/step - loss: 0.0794 - accuracy: 0.9935\n",
            "Epoch 5/12\n",
            "9/9 [==============================] - 3s 355ms/step - loss: 0.0452 - accuracy: 1.0000\n",
            "Epoch 6/12\n",
            "9/9 [==============================] - 3s 346ms/step - loss: 0.0229 - accuracy: 1.0000\n",
            "Epoch 7/12\n",
            "9/9 [==============================] - 5s 516ms/step - loss: 0.0131 - accuracy: 1.0000\n",
            "Epoch 8/12\n",
            "9/9 [==============================] - 3s 340ms/step - loss: 0.0090 - accuracy: 1.0000\n",
            "Epoch 9/12\n",
            "9/9 [==============================] - 3s 344ms/step - loss: 0.0060 - accuracy: 1.0000\n",
            "Epoch 10/12\n",
            "9/9 [==============================] - 3s 342ms/step - loss: 0.0048 - accuracy: 1.0000\n",
            "Epoch 11/12\n",
            "9/9 [==============================] - 4s 512ms/step - loss: 0.0034 - accuracy: 1.0000\n",
            "Epoch 12/12\n",
            "9/9 [==============================] - 3s 341ms/step - loss: 0.0026 - accuracy: 1.0000\n",
            "3/3 [==============================] - 1s 200ms/step\n"
          ]
        },
        {
          "metadata": {
            "tags": null
          },
          "name": "stderr",
          "output_type": "stream",
          "text": [
            "/usr/local/lib/python3.10/dist-packages/scikeras/wrappers.py:915: UserWarning: ``build_fn`` will be renamed to ``model`` in a future release, at which point use of ``build_fn`` will raise an Error instead.\n",
            "  X, y = self._initialize(X, y)\n"
          ]
        },
        {
          "metadata": {
            "tags": null
          },
          "name": "stdout",
          "output_type": "stream",
          "text": [
            "Epoch 1/20\n",
            "9/9 [==============================] - 5s 386ms/step - loss: 0.8011 - accuracy: 0.5425\n",
            "Epoch 2/20\n",
            "9/9 [==============================] - 3s 351ms/step - loss: 0.4956 - accuracy: 0.6928\n",
            "Epoch 3/20\n",
            "9/9 [==============================] - 3s 345ms/step - loss: 0.4079 - accuracy: 0.8497\n",
            "Epoch 4/20\n",
            "9/9 [==============================] - 5s 512ms/step - loss: 0.2897 - accuracy: 0.8954\n",
            "Epoch 5/20\n",
            "9/9 [==============================] - 3s 349ms/step - loss: 0.2025 - accuracy: 0.9739\n",
            "Epoch 6/20\n",
            "9/9 [==============================] - 3s 350ms/step - loss: 0.1228 - accuracy: 1.0000\n",
            "Epoch 7/20\n",
            "9/9 [==============================] - 3s 379ms/step - loss: 0.0880 - accuracy: 1.0000\n",
            "Epoch 8/20\n",
            "9/9 [==============================] - 5s 534ms/step - loss: 0.0568 - accuracy: 1.0000\n",
            "Epoch 9/20\n",
            "9/9 [==============================] - 3s 345ms/step - loss: 0.0397 - accuracy: 1.0000\n",
            "Epoch 10/20\n",
            "9/9 [==============================] - 3s 346ms/step - loss: 0.0288 - accuracy: 1.0000\n",
            "Epoch 11/20\n",
            "9/9 [==============================] - 4s 414ms/step - loss: 0.0257 - accuracy: 1.0000\n",
            "Epoch 12/20\n",
            "9/9 [==============================] - 4s 420ms/step - loss: 0.0241 - accuracy: 1.0000\n",
            "Epoch 13/20\n",
            "9/9 [==============================] - 3s 354ms/step - loss: 0.0131 - accuracy: 1.0000\n",
            "Epoch 14/20\n",
            "9/9 [==============================] - 3s 361ms/step - loss: 0.0093 - accuracy: 1.0000\n",
            "Epoch 15/20\n",
            "9/9 [==============================] - 5s 529ms/step - loss: 0.0074 - accuracy: 1.0000\n",
            "Epoch 16/20\n",
            "9/9 [==============================] - 3s 359ms/step - loss: 0.0060 - accuracy: 1.0000\n",
            "Epoch 17/20\n",
            "9/9 [==============================] - 3s 350ms/step - loss: 0.0044 - accuracy: 1.0000\n",
            "Epoch 18/20\n",
            "9/9 [==============================] - 3s 358ms/step - loss: 0.0036 - accuracy: 1.0000\n",
            "Epoch 19/20\n",
            "9/9 [==============================] - 5s 502ms/step - loss: 0.0034 - accuracy: 1.0000\n",
            "Epoch 20/20\n",
            "9/9 [==============================] - 3s 346ms/step - loss: 0.0026 - accuracy: 1.0000\n",
            "3/3 [==============================] - 1s 173ms/step\n"
          ]
        },
        {
          "metadata": {
            "tags": null
          },
          "name": "stderr",
          "output_type": "stream",
          "text": [
            "/usr/local/lib/python3.10/dist-packages/scikeras/wrappers.py:915: UserWarning: ``build_fn`` will be renamed to ``model`` in a future release, at which point use of ``build_fn`` will raise an Error instead.\n",
            "  X, y = self._initialize(X, y)\n"
          ]
        },
        {
          "metadata": {
            "tags": null
          },
          "name": "stdout",
          "output_type": "stream",
          "text": [
            "Epoch 1/20\n",
            "9/9 [==============================] - 4s 349ms/step - loss: 0.7821 - accuracy: 0.5752\n",
            "Epoch 2/20\n",
            "9/9 [==============================] - 4s 405ms/step - loss: 0.5289 - accuracy: 0.8366\n",
            "Epoch 3/20\n",
            "9/9 [==============================] - 4s 420ms/step - loss: 0.3725 - accuracy: 0.9085\n",
            "Epoch 4/20\n",
            "9/9 [==============================] - 3s 348ms/step - loss: 0.3307 - accuracy: 0.8627\n",
            "Epoch 5/20\n",
            "9/9 [==============================] - 3s 348ms/step - loss: 0.2101 - accuracy: 1.0000\n",
            "Epoch 6/20\n",
            "9/9 [==============================] - 4s 510ms/step - loss: 0.1528 - accuracy: 0.9869\n",
            "Epoch 7/20\n",
            "9/9 [==============================] - 3s 349ms/step - loss: 0.0931 - accuracy: 0.9935\n",
            "Epoch 8/20\n",
            "9/9 [==============================] - 3s 344ms/step - loss: 0.0590 - accuracy: 1.0000\n",
            "Epoch 9/20\n",
            "9/9 [==============================] - 3s 346ms/step - loss: 0.0379 - accuracy: 1.0000\n",
            "Epoch 10/20\n",
            "9/9 [==============================] - 5s 517ms/step - loss: 0.0262 - accuracy: 1.0000\n",
            "Epoch 11/20\n",
            "9/9 [==============================] - 3s 352ms/step - loss: 0.0182 - accuracy: 1.0000\n",
            "Epoch 12/20\n",
            "9/9 [==============================] - 3s 346ms/step - loss: 0.0145 - accuracy: 1.0000\n",
            "Epoch 13/20\n",
            "9/9 [==============================] - 4s 391ms/step - loss: 0.0108 - accuracy: 1.0000\n",
            "Epoch 14/20\n",
            "9/9 [==============================] - 4s 441ms/step - loss: 0.0092 - accuracy: 1.0000\n",
            "Epoch 15/20\n",
            "9/9 [==============================] - 3s 348ms/step - loss: 0.0073 - accuracy: 1.0000\n",
            "Epoch 16/20\n",
            "9/9 [==============================] - 3s 346ms/step - loss: 0.0059 - accuracy: 1.0000\n",
            "Epoch 17/20\n",
            "9/9 [==============================] - 4s 491ms/step - loss: 0.0050 - accuracy: 1.0000\n",
            "Epoch 18/20\n",
            "9/9 [==============================] - 3s 343ms/step - loss: 0.0045 - accuracy: 1.0000\n",
            "Epoch 19/20\n",
            "9/9 [==============================] - 3s 346ms/step - loss: 0.0039 - accuracy: 1.0000\n",
            "Epoch 20/20\n",
            "9/9 [==============================] - 3s 342ms/step - loss: 0.0032 - accuracy: 1.0000\n",
            "3/3 [==============================] - 1s 158ms/step\n"
          ]
        },
        {
          "metadata": {
            "tags": null
          },
          "name": "stderr",
          "output_type": "stream",
          "text": [
            "/usr/local/lib/python3.10/dist-packages/scikeras/wrappers.py:915: UserWarning: ``build_fn`` will be renamed to ``model`` in a future release, at which point use of ``build_fn`` will raise an Error instead.\n",
            "  X, y = self._initialize(X, y)\n"
          ]
        },
        {
          "output_type": "stream",
          "name": "stdout",
          "text": [
            "Epoch 1/20\n",
            "9/9 [==============================] - 5s 369ms/step - loss: 2.0621 - accuracy: 0.4444\n",
            "Epoch 2/20\n",
            "9/9 [==============================] - 3s 345ms/step - loss: 0.6615 - accuracy: 0.5882\n",
            "Epoch 3/20\n",
            "9/9 [==============================] - 3s 344ms/step - loss: 0.5711 - accuracy: 0.6601\n",
            "Epoch 4/20\n",
            "9/9 [==============================] - 5s 517ms/step - loss: 0.5436 - accuracy: 0.7190\n",
            "Epoch 5/20\n",
            "9/9 [==============================] - 3s 347ms/step - loss: 0.5195 - accuracy: 0.8431\n",
            "Epoch 6/20\n",
            "9/9 [==============================] - 3s 349ms/step - loss: 0.5095 - accuracy: 0.7255\n",
            "Epoch 7/20\n",
            "9/9 [==============================] - 3s 345ms/step - loss: 0.4361 - accuracy: 0.8824\n",
            "Epoch 8/20\n",
            "9/9 [==============================] - 5s 517ms/step - loss: 0.4243 - accuracy: 0.8627\n",
            "Epoch 9/20\n",
            "9/9 [==============================] - 3s 346ms/step - loss: 0.3842 - accuracy: 0.8170\n",
            "Epoch 10/20\n",
            "9/9 [==============================] - 3s 347ms/step - loss: 0.3365 - accuracy: 0.8954\n",
            "Epoch 11/20\n",
            "9/9 [==============================] - 4s 413ms/step - loss: 0.3612 - accuracy: 0.8431\n",
            "Epoch 12/20\n",
            "9/9 [==============================] - 4s 437ms/step - loss: 0.4223 - accuracy: 0.8039\n",
            "Epoch 13/20\n",
            "9/9 [==============================] - 3s 362ms/step - loss: 0.4789 - accuracy: 0.7712\n",
            "Epoch 14/20\n",
            "9/9 [==============================] - 3s 349ms/step - loss: 0.3683 - accuracy: 0.8954\n",
            "Epoch 15/20\n",
            "9/9 [==============================] - 4s 469ms/step - loss: 0.2891 - accuracy: 0.8954\n",
            "Epoch 16/20\n",
            "9/9 [==============================] - 3s 345ms/step - loss: 0.2020 - accuracy: 0.9673\n",
            "Epoch 17/20\n",
            "9/9 [==============================] - 3s 343ms/step - loss: 0.1779 - accuracy: 0.9739\n",
            "Epoch 18/20\n",
            "9/9 [==============================] - 3s 351ms/step - loss: 0.1318 - accuracy: 0.9935\n",
            "Epoch 19/20\n",
            "9/9 [==============================] - 4s 432ms/step - loss: 0.1104 - accuracy: 0.9935\n",
            "Epoch 20/20\n",
            "9/9 [==============================] - 3s 350ms/step - loss: 0.0871 - accuracy: 1.0000\n",
            "3/3 [==============================] - 1s 166ms/step\n"
          ]
        },
        {
          "output_type": "stream",
          "name": "stderr",
          "text": [
            "/usr/local/lib/python3.10/dist-packages/scikeras/wrappers.py:915: UserWarning: ``build_fn`` will be renamed to ``model`` in a future release, at which point use of ``build_fn`` will raise an Error instead.\n",
            "  X, y = self._initialize(X, y)\n"
          ]
        },
        {
          "output_type": "stream",
          "name": "stdout",
          "text": [
            "Epoch 1/20\n",
            "9/9 [==============================] - 5s 459ms/step - loss: 1.3121 - accuracy: 0.5033\n",
            "Epoch 2/20\n",
            "9/9 [==============================] - 3s 350ms/step - loss: 0.6931 - accuracy: 0.4314\n",
            "Epoch 3/20\n",
            "9/9 [==============================] - 3s 347ms/step - loss: 0.6908 - accuracy: 0.4314\n",
            "Epoch 4/20\n",
            "9/9 [==============================] - 3s 344ms/step - loss: 0.6805 - accuracy: 0.4314\n",
            "Epoch 5/20\n",
            "9/9 [==============================] - 4s 458ms/step - loss: 0.6840 - accuracy: 0.5098\n",
            "Epoch 6/20\n",
            "9/9 [==============================] - 3s 349ms/step - loss: 0.6678 - accuracy: 0.6471\n",
            "Epoch 7/20\n",
            "9/9 [==============================] - 3s 353ms/step - loss: 0.6508 - accuracy: 0.7124\n",
            "Epoch 8/20\n",
            "9/9 [==============================] - 4s 462ms/step - loss: 0.6473 - accuracy: 0.6471\n",
            "Epoch 9/20\n",
            "9/9 [==============================] - 3s 355ms/step - loss: 0.6130 - accuracy: 0.7908\n",
            "Epoch 10/20\n",
            "9/9 [==============================] - 3s 350ms/step - loss: 0.5877 - accuracy: 0.7974\n",
            "Epoch 11/20\n",
            "9/9 [==============================] - 3s 349ms/step - loss: 0.5668 - accuracy: 0.7255\n",
            "Epoch 12/20\n",
            "9/9 [==============================] - 4s 453ms/step - loss: 0.5302 - accuracy: 0.8627\n",
            "Epoch 13/20\n",
            "9/9 [==============================] - 3s 353ms/step - loss: 0.5094 - accuracy: 0.8170\n",
            "Epoch 14/20\n",
            "9/9 [==============================] - 3s 347ms/step - loss: 0.4835 - accuracy: 0.8170\n",
            "Epoch 15/20\n",
            "9/9 [==============================] - 4s 462ms/step - loss: 0.4786 - accuracy: 0.9673\n",
            "Epoch 16/20\n",
            "9/9 [==============================] - 3s 355ms/step - loss: 0.4596 - accuracy: 0.8497\n",
            "Epoch 17/20\n",
            "9/9 [==============================] - 3s 352ms/step - loss: 0.4386 - accuracy: 0.8693\n",
            "Epoch 18/20\n",
            "9/9 [==============================] - 3s 350ms/step - loss: 0.4323 - accuracy: 0.9673\n",
            "Epoch 19/20\n",
            "9/9 [==============================] - 4s 440ms/step - loss: 0.4205 - accuracy: 0.8954\n",
            "Epoch 20/20\n",
            "9/9 [==============================] - 3s 342ms/step - loss: 0.4090 - accuracy: 0.9477\n",
            "3/3 [==============================] - 1s 164ms/step\n"
          ]
        },
        {
          "output_type": "stream",
          "name": "stderr",
          "text": [
            "/usr/local/lib/python3.10/dist-packages/scikeras/wrappers.py:915: UserWarning: ``build_fn`` will be renamed to ``model`` in a future release, at which point use of ``build_fn`` will raise an Error instead.\n",
            "  X, y = self._initialize(X, y)\n"
          ]
        },
        {
          "output_type": "stream",
          "name": "stdout",
          "text": [
            "Epoch 1/7\n",
            "7/7 [==============================] - 4s 459ms/step - loss: 2.5120 - accuracy: 0.4706\n",
            "Epoch 2/7\n",
            "7/7 [==============================] - 4s 481ms/step - loss: 0.8722 - accuracy: 0.6340\n",
            "Epoch 3/7\n",
            "7/7 [==============================] - 3s 439ms/step - loss: 0.8702 - accuracy: 0.5686\n",
            "Epoch 4/7\n",
            "7/7 [==============================] - 3s 439ms/step - loss: 0.5142 - accuracy: 0.7582\n",
            "Epoch 5/7\n",
            "7/7 [==============================] - 4s 590ms/step - loss: 0.4596 - accuracy: 0.7974\n",
            "Epoch 6/7\n",
            "7/7 [==============================] - 3s 437ms/step - loss: 0.4086 - accuracy: 0.8170\n",
            "Epoch 7/7\n",
            "7/7 [==============================] - 3s 440ms/step - loss: 0.3485 - accuracy: 0.8889\n",
            "3/3 [==============================] - 1s 152ms/step\n"
          ]
        },
        {
          "output_type": "stream",
          "name": "stderr",
          "text": [
            "/usr/local/lib/python3.10/dist-packages/scikeras/wrappers.py:915: UserWarning: ``build_fn`` will be renamed to ``model`` in a future release, at which point use of ``build_fn`` will raise an Error instead.\n",
            "  X, y = self._initialize(X, y)\n"
          ]
        },
        {
          "output_type": "stream",
          "name": "stdout",
          "text": [
            "Epoch 1/7\n",
            "7/7 [==============================] - 6s 563ms/step - loss: 1.3376 - accuracy: 0.4444\n",
            "Epoch 2/7\n",
            "7/7 [==============================] - 4s 586ms/step - loss: 0.7218 - accuracy: 0.5425\n",
            "Epoch 3/7\n",
            "7/7 [==============================] - 3s 447ms/step - loss: 0.7161 - accuracy: 0.4902\n",
            "Epoch 4/7\n",
            "7/7 [==============================] - 3s 439ms/step - loss: 0.6818 - accuracy: 0.5229\n",
            "Epoch 5/7\n",
            "7/7 [==============================] - 3s 452ms/step - loss: 0.6543 - accuracy: 0.5882\n",
            "Epoch 6/7\n",
            "7/7 [==============================] - 4s 526ms/step - loss: 0.6471 - accuracy: 0.6405\n",
            "Epoch 7/7\n",
            "7/7 [==============================] - 3s 429ms/step - loss: 0.6553 - accuracy: 0.5686\n",
            "3/3 [==============================] - 1s 247ms/step\n"
          ]
        },
        {
          "output_type": "stream",
          "name": "stderr",
          "text": [
            "/usr/local/lib/python3.10/dist-packages/scikeras/wrappers.py:915: UserWarning: ``build_fn`` will be renamed to ``model`` in a future release, at which point use of ``build_fn`` will raise an Error instead.\n",
            "  X, y = self._initialize(X, y)\n"
          ]
        },
        {
          "output_type": "stream",
          "name": "stdout",
          "text": [
            "Epoch 1/7\n",
            "7/7 [==============================] - 4s 441ms/step - loss: 0.9122 - accuracy: 0.4771\n",
            "Epoch 2/7\n",
            "7/7 [==============================] - 3s 439ms/step - loss: 0.6578 - accuracy: 0.6405\n",
            "Epoch 3/7\n",
            "7/7 [==============================] - 4s 501ms/step - loss: 0.6203 - accuracy: 0.6732\n",
            "Epoch 4/7\n",
            "7/7 [==============================] - 4s 456ms/step - loss: 0.5769 - accuracy: 0.7124\n",
            "Epoch 5/7\n",
            "7/7 [==============================] - 3s 440ms/step - loss: 0.5622 - accuracy: 0.6928\n",
            "Epoch 6/7\n",
            "7/7 [==============================] - 3s 437ms/step - loss: 0.4970 - accuracy: 0.7712\n",
            "Epoch 7/7\n",
            "7/7 [==============================] - 4s 583ms/step - loss: 0.4927 - accuracy: 0.7516\n",
            "3/3 [==============================] - 1s 134ms/step\n"
          ]
        },
        {
          "output_type": "stream",
          "name": "stderr",
          "text": [
            "/usr/local/lib/python3.10/dist-packages/scikeras/wrappers.py:915: UserWarning: ``build_fn`` will be renamed to ``model`` in a future release, at which point use of ``build_fn`` will raise an Error instead.\n",
            "  X, y = self._initialize(X, y)\n"
          ]
        },
        {
          "output_type": "stream",
          "name": "stdout",
          "text": [
            "Epoch 1/7\n",
            "7/7 [==============================] - 5s 579ms/step - loss: 0.6847 - accuracy: 0.5098\n",
            "Epoch 2/7\n",
            "7/7 [==============================] - 3s 440ms/step - loss: 0.4422 - accuracy: 0.8039\n",
            "Epoch 3/7\n",
            "7/7 [==============================] - 3s 428ms/step - loss: 0.2843 - accuracy: 0.9608\n",
            "Epoch 4/7\n",
            "7/7 [==============================] - 3s 455ms/step - loss: 0.1248 - accuracy: 0.9935\n",
            "Epoch 5/7\n",
            "7/7 [==============================] - 4s 482ms/step - loss: 0.0808 - accuracy: 0.9935\n",
            "Epoch 6/7\n",
            "7/7 [==============================] - 3s 427ms/step - loss: 0.0376 - accuracy: 1.0000\n",
            "Epoch 7/7\n",
            "7/7 [==============================] - 3s 427ms/step - loss: 0.0230 - accuracy: 1.0000\n",
            "3/3 [==============================] - 1s 139ms/step\n"
          ]
        },
        {
          "output_type": "stream",
          "name": "stderr",
          "text": [
            "/usr/local/lib/python3.10/dist-packages/scikeras/wrappers.py:915: UserWarning: ``build_fn`` will be renamed to ``model`` in a future release, at which point use of ``build_fn`` will raise an Error instead.\n",
            "  X, y = self._initialize(X, y)\n"
          ]
        },
        {
          "output_type": "stream",
          "name": "stdout",
          "text": [
            "Epoch 1/12\n",
            "7/7 [==============================] - 4s 440ms/step - loss: 2.6354 - accuracy: 0.5163\n",
            "Epoch 2/12\n",
            "7/7 [==============================] - 4s 593ms/step - loss: 0.6856 - accuracy: 0.5425\n",
            "Epoch 3/12\n",
            "7/7 [==============================] - 3s 440ms/step - loss: 0.6777 - accuracy: 0.5098\n",
            "Epoch 4/12\n",
            "7/7 [==============================] - 3s 442ms/step - loss: 0.6491 - accuracy: 0.5359\n",
            "Epoch 5/12\n",
            "7/7 [==============================] - 4s 502ms/step - loss: 0.6123 - accuracy: 0.6405\n",
            "Epoch 6/12\n",
            "7/7 [==============================] - 4s 457ms/step - loss: 0.6102 - accuracy: 0.6797\n",
            "Epoch 7/12\n",
            "7/7 [==============================] - 3s 439ms/step - loss: 0.6053 - accuracy: 0.6797\n",
            "Epoch 8/12\n",
            "7/7 [==============================] - 3s 435ms/step - loss: 0.5838 - accuracy: 0.6797\n",
            "Epoch 9/12\n",
            "7/7 [==============================] - 4s 589ms/step - loss: 0.5867 - accuracy: 0.6797\n",
            "Epoch 10/12\n",
            "7/7 [==============================] - 3s 439ms/step - loss: 0.5709 - accuracy: 0.7386\n",
            "Epoch 11/12\n",
            "7/7 [==============================] - 3s 440ms/step - loss: 0.5558 - accuracy: 0.7255\n",
            "Epoch 12/12\n",
            "7/7 [==============================] - 3s 462ms/step - loss: 0.5589 - accuracy: 0.7843\n",
            "3/3 [==============================] - 1s 261ms/step\n"
          ]
        },
        {
          "output_type": "stream",
          "name": "stderr",
          "text": [
            "/usr/local/lib/python3.10/dist-packages/scikeras/wrappers.py:915: UserWarning: ``build_fn`` will be renamed to ``model`` in a future release, at which point use of ``build_fn`` will raise an Error instead.\n",
            "  X, y = self._initialize(X, y)\n"
          ]
        },
        {
          "output_type": "stream",
          "name": "stdout",
          "text": [
            "Epoch 1/12\n",
            "7/7 [==============================] - 4s 442ms/step - loss: 1.0817 - accuracy: 0.4837\n",
            "Epoch 2/12\n",
            "7/7 [==============================] - 3s 443ms/step - loss: 0.5180 - accuracy: 0.7778\n",
            "Epoch 3/12\n",
            "7/7 [==============================] - 4s 502ms/step - loss: 0.4344 - accuracy: 0.9020\n",
            "Epoch 4/12\n",
            "7/7 [==============================] - 4s 445ms/step - loss: 0.3728 - accuracy: 0.8824\n",
            "Epoch 5/12\n",
            "7/7 [==============================] - 3s 436ms/step - loss: 0.2801 - accuracy: 0.9673\n",
            "Epoch 6/12\n",
            "7/7 [==============================] - 3s 442ms/step - loss: 0.2246 - accuracy: 0.9673\n",
            "Epoch 7/12\n",
            "7/7 [==============================] - 4s 583ms/step - loss: 0.1979 - accuracy: 0.9869\n",
            "Epoch 8/12\n",
            "7/7 [==============================] - 3s 434ms/step - loss: 0.1353 - accuracy: 0.9869\n",
            "Epoch 9/12\n",
            "7/7 [==============================] - 3s 439ms/step - loss: 0.1122 - accuracy: 1.0000\n",
            "Epoch 10/12\n",
            "7/7 [==============================] - 3s 440ms/step - loss: 0.0863 - accuracy: 1.0000\n",
            "Epoch 11/12\n",
            "7/7 [==============================] - 4s 529ms/step - loss: 0.0851 - accuracy: 1.0000\n",
            "Epoch 12/12\n",
            "7/7 [==============================] - 3s 441ms/step - loss: 0.0625 - accuracy: 1.0000\n",
            "3/3 [==============================] - 1s 129ms/step\n"
          ]
        },
        {
          "output_type": "stream",
          "name": "stderr",
          "text": [
            "/usr/local/lib/python3.10/dist-packages/scikeras/wrappers.py:915: UserWarning: ``build_fn`` will be renamed to ``model`` in a future release, at which point use of ``build_fn`` will raise an Error instead.\n",
            "  X, y = self._initialize(X, y)\n"
          ]
        },
        {
          "output_type": "stream",
          "name": "stdout",
          "text": [
            "Epoch 1/12\n",
            "7/7 [==============================] - 5s 569ms/step - loss: 0.7778 - accuracy: 0.4706\n",
            "Epoch 2/12\n",
            "7/7 [==============================] - 3s 430ms/step - loss: 0.6889 - accuracy: 0.4510\n",
            "Epoch 3/12\n",
            "7/7 [==============================] - 3s 440ms/step - loss: 0.6538 - accuracy: 0.6471\n",
            "Epoch 4/12\n",
            "7/7 [==============================] - 3s 445ms/step - loss: 0.6521 - accuracy: 0.6863\n",
            "Epoch 5/12\n",
            "7/7 [==============================] - 4s 577ms/step - loss: 0.5523 - accuracy: 0.7059\n",
            "Epoch 6/12\n",
            "7/7 [==============================] - 3s 434ms/step - loss: 0.4862 - accuracy: 0.7582\n",
            "Epoch 7/12\n",
            "7/7 [==============================] - 3s 442ms/step - loss: 0.4548 - accuracy: 0.8366\n",
            "Epoch 8/12\n",
            "7/7 [==============================] - 4s 512ms/step - loss: 0.3688 - accuracy: 0.8497\n",
            "Epoch 9/12\n",
            "7/7 [==============================] - 4s 442ms/step - loss: 0.2822 - accuracy: 0.9412\n",
            "Epoch 10/12\n",
            "7/7 [==============================] - 3s 434ms/step - loss: 0.2158 - accuracy: 0.9085\n",
            "Epoch 11/12\n",
            "7/7 [==============================] - 3s 431ms/step - loss: 0.1674 - accuracy: 0.9935\n",
            "Epoch 12/12\n",
            "7/7 [==============================] - 4s 576ms/step - loss: 0.1068 - accuracy: 0.9739\n",
            "3/3 [==============================] - 1s 157ms/step\n"
          ]
        },
        {
          "output_type": "stream",
          "name": "stderr",
          "text": [
            "/usr/local/lib/python3.10/dist-packages/scikeras/wrappers.py:915: UserWarning: ``build_fn`` will be renamed to ``model`` in a future release, at which point use of ``build_fn`` will raise an Error instead.\n",
            "  X, y = self._initialize(X, y)\n"
          ]
        },
        {
          "output_type": "stream",
          "name": "stdout",
          "text": [
            "Epoch 1/12\n",
            "7/7 [==============================] - 5s 467ms/step - loss: 0.7410 - accuracy: 0.5294\n",
            "Epoch 2/12\n",
            "7/7 [==============================] - 3s 443ms/step - loss: 0.5095 - accuracy: 0.7712\n",
            "Epoch 3/12\n",
            "7/7 [==============================] - 3s 438ms/step - loss: 0.3743 - accuracy: 0.9216\n",
            "Epoch 4/12\n",
            "7/7 [==============================] - 4s 590ms/step - loss: 0.2700 - accuracy: 0.9477\n",
            "Epoch 5/12\n",
            "7/7 [==============================] - 3s 438ms/step - loss: 0.1770 - accuracy: 0.9739\n",
            "Epoch 6/12\n",
            "7/7 [==============================] - 3s 433ms/step - loss: 0.1161 - accuracy: 0.9935\n",
            "Epoch 7/12\n",
            "7/7 [==============================] - 3s 439ms/step - loss: 0.0712 - accuracy: 1.0000\n",
            "Epoch 8/12\n",
            "7/7 [==============================] - 4s 503ms/step - loss: 0.0411 - accuracy: 1.0000\n",
            "Epoch 9/12\n",
            "7/7 [==============================] - 3s 439ms/step - loss: 0.0321 - accuracy: 1.0000\n",
            "Epoch 10/12\n",
            "7/7 [==============================] - 3s 430ms/step - loss: 0.0166 - accuracy: 1.0000\n",
            "Epoch 11/12\n",
            "7/7 [==============================] - 4s 577ms/step - loss: 0.0127 - accuracy: 1.0000\n",
            "Epoch 12/12\n",
            "7/7 [==============================] - 3s 431ms/step - loss: 0.0091 - accuracy: 1.0000\n",
            "3/3 [==============================] - 1s 131ms/step\n"
          ]
        },
        {
          "output_type": "stream",
          "name": "stderr",
          "text": [
            "/usr/local/lib/python3.10/dist-packages/scikeras/wrappers.py:915: UserWarning: ``build_fn`` will be renamed to ``model`` in a future release, at which point use of ``build_fn`` will raise an Error instead.\n",
            "  X, y = self._initialize(X, y)\n"
          ]
        },
        {
          "output_type": "stream",
          "name": "stdout",
          "text": [
            "Epoch 1/20\n",
            "7/7 [==============================] - 4s 453ms/step - loss: 2.8585 - accuracy: 0.5098\n",
            "Epoch 2/20\n",
            "7/7 [==============================] - 4s 582ms/step - loss: 0.8221 - accuracy: 0.6405\n",
            "Epoch 3/20\n",
            "7/7 [==============================] - 3s 436ms/step - loss: 0.5882 - accuracy: 0.6536\n",
            "Epoch 4/20\n",
            "7/7 [==============================] - 3s 437ms/step - loss: 0.4540 - accuracy: 0.7843\n",
            "Epoch 5/20\n",
            "7/7 [==============================] - 3s 446ms/step - loss: 0.3937 - accuracy: 0.8824\n",
            "Epoch 6/20\n",
            "7/7 [==============================] - 4s 527ms/step - loss: 0.3513 - accuracy: 0.9477\n",
            "Epoch 7/20\n",
            "7/7 [==============================] - 3s 440ms/step - loss: 0.3087 - accuracy: 0.9412\n",
            "Epoch 8/20\n",
            "7/7 [==============================] - 3s 439ms/step - loss: 0.2701 - accuracy: 0.9739\n",
            "Epoch 9/20\n",
            "7/7 [==============================] - 4s 589ms/step - loss: 0.2389 - accuracy: 0.9935\n",
            "Epoch 10/20\n",
            "7/7 [==============================] - 3s 444ms/step - loss: 0.2044 - accuracy: 0.9869\n",
            "Epoch 11/20\n",
            "7/7 [==============================] - 3s 438ms/step - loss: 0.1802 - accuracy: 0.9869\n",
            "Epoch 12/20\n",
            "7/7 [==============================] - 3s 438ms/step - loss: 0.1492 - accuracy: 0.9935\n",
            "Epoch 13/20\n",
            "7/7 [==============================] - 4s 579ms/step - loss: 0.1463 - accuracy: 0.9869\n",
            "Epoch 14/20\n",
            "7/7 [==============================] - 3s 444ms/step - loss: 0.1130 - accuracy: 1.0000\n",
            "Epoch 15/20\n",
            "7/7 [==============================] - 3s 437ms/step - loss: 0.1000 - accuracy: 1.0000\n",
            "Epoch 16/20\n",
            "7/7 [==============================] - 4s 565ms/step - loss: 0.0820 - accuracy: 1.0000\n",
            "Epoch 17/20\n",
            "7/7 [==============================] - 3s 434ms/step - loss: 0.0753 - accuracy: 1.0000\n",
            "Epoch 18/20\n",
            "7/7 [==============================] - 3s 440ms/step - loss: 0.0646 - accuracy: 1.0000\n",
            "Epoch 19/20\n",
            "7/7 [==============================] - 3s 442ms/step - loss: 0.0566 - accuracy: 1.0000\n",
            "Epoch 20/20\n",
            "7/7 [==============================] - 4s 580ms/step - loss: 0.0438 - accuracy: 1.0000\n",
            "3/3 [==============================] - 1s 130ms/step\n"
          ]
        },
        {
          "output_type": "stream",
          "name": "stderr",
          "text": [
            "/usr/local/lib/python3.10/dist-packages/scikeras/wrappers.py:915: UserWarning: ``build_fn`` will be renamed to ``model`` in a future release, at which point use of ``build_fn`` will raise an Error instead.\n",
            "  X, y = self._initialize(X, y)\n"
          ]
        },
        {
          "output_type": "stream",
          "name": "stdout",
          "text": [
            "Epoch 1/20\n",
            "7/7 [==============================] - 4s 446ms/step - loss: 0.7186 - accuracy: 0.5425\n",
            "Epoch 2/20\n",
            "7/7 [==============================] - 3s 438ms/step - loss: 0.4387 - accuracy: 0.8497\n",
            "Epoch 3/20\n",
            "7/7 [==============================] - 4s 573ms/step - loss: 0.3266 - accuracy: 0.9281\n",
            "Epoch 4/20\n",
            "7/7 [==============================] - 3s 437ms/step - loss: 0.1769 - accuracy: 0.9673\n",
            "Epoch 5/20\n",
            "7/7 [==============================] - 4s 514ms/step - loss: 0.0823 - accuracy: 1.0000\n",
            "Epoch 6/20\n",
            "7/7 [==============================] - 4s 581ms/step - loss: 0.0349 - accuracy: 1.0000\n",
            "Epoch 7/20\n",
            "7/7 [==============================] - 3s 434ms/step - loss: 0.0141 - accuracy: 1.0000\n",
            "Epoch 8/20\n",
            "7/7 [==============================] - 3s 443ms/step - loss: 0.0080 - accuracy: 1.0000\n",
            "Epoch 9/20\n",
            "7/7 [==============================] - 3s 438ms/step - loss: 0.0055 - accuracy: 1.0000\n",
            "Epoch 10/20\n",
            "7/7 [==============================] - 4s 563ms/step - loss: 0.0044 - accuracy: 1.0000\n",
            "Epoch 11/20\n",
            "7/7 [==============================] - 3s 441ms/step - loss: 0.0036 - accuracy: 1.0000\n",
            "Epoch 12/20\n",
            "7/7 [==============================] - 3s 438ms/step - loss: 0.0027 - accuracy: 1.0000\n",
            "Epoch 13/20\n",
            "7/7 [==============================] - 4s 556ms/step - loss: 0.0022 - accuracy: 1.0000\n",
            "Epoch 14/20\n",
            "7/7 [==============================] - 3s 436ms/step - loss: 0.0019 - accuracy: 1.0000\n",
            "Epoch 15/20\n",
            "7/7 [==============================] - 3s 442ms/step - loss: 0.0017 - accuracy: 1.0000\n",
            "Epoch 16/20\n",
            "7/7 [==============================] - 3s 435ms/step - loss: 0.0015 - accuracy: 1.0000\n",
            "Epoch 17/20\n",
            "7/7 [==============================] - 4s 579ms/step - loss: 0.0014 - accuracy: 1.0000\n",
            "Epoch 18/20\n",
            "7/7 [==============================] - 3s 442ms/step - loss: 0.0013 - accuracy: 1.0000\n",
            "Epoch 19/20\n",
            "7/7 [==============================] - 3s 441ms/step - loss: 0.0012 - accuracy: 1.0000\n",
            "Epoch 20/20\n",
            "7/7 [==============================] - 4s 541ms/step - loss: 0.0010 - accuracy: 1.0000\n",
            "3/3 [==============================] - 1s 129ms/step\n"
          ]
        },
        {
          "output_type": "stream",
          "name": "stderr",
          "text": [
            "/usr/local/lib/python3.10/dist-packages/scikeras/wrappers.py:915: UserWarning: ``build_fn`` will be renamed to ``model`` in a future release, at which point use of ``build_fn`` will raise an Error instead.\n",
            "  X, y = self._initialize(X, y)\n"
          ]
        },
        {
          "output_type": "stream",
          "name": "stdout",
          "text": [
            "Epoch 1/20\n",
            "7/7 [==============================] - 5s 444ms/step - loss: 0.9883 - accuracy: 0.5621\n",
            "Epoch 2/20\n",
            "7/7 [==============================] - 4s 578ms/step - loss: 0.4469 - accuracy: 0.7712\n",
            "Epoch 3/20\n",
            "7/7 [==============================] - 3s 443ms/step - loss: 0.1841 - accuracy: 0.9804\n",
            "Epoch 4/20\n",
            "7/7 [==============================] - 3s 440ms/step - loss: 0.1081 - accuracy: 0.9869\n",
            "Epoch 5/20\n",
            "7/7 [==============================] - 3s 449ms/step - loss: 0.0437 - accuracy: 1.0000\n",
            "Epoch 6/20\n",
            "7/7 [==============================] - 4s 504ms/step - loss: 0.0240 - accuracy: 1.0000\n",
            "Epoch 7/20\n",
            "7/7 [==============================] - 3s 442ms/step - loss: 0.0095 - accuracy: 1.0000\n",
            "Epoch 8/20\n",
            "7/7 [==============================] - 3s 441ms/step - loss: 0.0054 - accuracy: 1.0000\n",
            "Epoch 9/20\n",
            "7/7 [==============================] - 4s 609ms/step - loss: 0.0031 - accuracy: 1.0000\n",
            "Epoch 10/20\n",
            "7/7 [==============================] - 3s 451ms/step - loss: 0.0022 - accuracy: 1.0000\n",
            "Epoch 11/20\n",
            "7/7 [==============================] - 3s 450ms/step - loss: 0.0017 - accuracy: 1.0000\n",
            "Epoch 12/20\n",
            "7/7 [==============================] - 3s 462ms/step - loss: 0.0014 - accuracy: 1.0000\n",
            "Epoch 13/20\n",
            "7/7 [==============================] - 4s 504ms/step - loss: 0.0012 - accuracy: 1.0000\n",
            "Epoch 14/20\n",
            "7/7 [==============================] - 3s 438ms/step - loss: 0.0010 - accuracy: 1.0000\n",
            "Epoch 15/20\n",
            "7/7 [==============================] - 3s 440ms/step - loss: 9.2911e-04 - accuracy: 1.0000\n",
            "Epoch 16/20\n",
            "7/7 [==============================] - 4s 586ms/step - loss: 8.3454e-04 - accuracy: 1.0000\n",
            "Epoch 17/20\n",
            "7/7 [==============================] - 3s 438ms/step - loss: 7.5506e-04 - accuracy: 1.0000\n",
            "Epoch 18/20\n",
            "7/7 [==============================] - 3s 441ms/step - loss: 6.9240e-04 - accuracy: 1.0000\n",
            "Epoch 19/20\n",
            "7/7 [==============================] - 3s 444ms/step - loss: 6.3791e-04 - accuracy: 1.0000\n",
            "Epoch 20/20\n",
            "7/7 [==============================] - 4s 531ms/step - loss: 5.9089e-04 - accuracy: 1.0000\n",
            "3/3 [==============================] - 1s 130ms/step\n"
          ]
        },
        {
          "output_type": "stream",
          "name": "stderr",
          "text": [
            "/usr/local/lib/python3.10/dist-packages/scikeras/wrappers.py:915: UserWarning: ``build_fn`` will be renamed to ``model`` in a future release, at which point use of ``build_fn`` will raise an Error instead.\n",
            "  X, y = self._initialize(X, y)\n"
          ]
        },
        {
          "output_type": "stream",
          "name": "stdout",
          "text": [
            "Epoch 1/20\n",
            "7/7 [==============================] - 4s 452ms/step - loss: 0.9631 - accuracy: 0.5163\n",
            "Epoch 2/20\n",
            "7/7 [==============================] - 4s 585ms/step - loss: 0.6769 - accuracy: 0.6209\n",
            "Epoch 3/20\n",
            "7/7 [==============================] - 3s 429ms/step - loss: 0.6087 - accuracy: 0.6993\n",
            "Epoch 4/20\n",
            "7/7 [==============================] - 3s 434ms/step - loss: 0.5952 - accuracy: 0.7320\n",
            "Epoch 5/20\n",
            "7/7 [==============================] - 3s 493ms/step - loss: 0.5393 - accuracy: 0.7255\n",
            "Epoch 6/20\n",
            "7/7 [==============================] - 4s 462ms/step - loss: 0.4686 - accuracy: 0.7908\n",
            "Epoch 7/20\n",
            "7/7 [==============================] - 3s 440ms/step - loss: 0.4294 - accuracy: 0.7974\n",
            "Epoch 8/20\n",
            "7/7 [==============================] - 3s 438ms/step - loss: 0.4196 - accuracy: 0.8105\n",
            "Epoch 9/20\n",
            "7/7 [==============================] - 4s 592ms/step - loss: 0.3286 - accuracy: 0.8627\n",
            "Epoch 10/20\n",
            "7/7 [==============================] - 3s 443ms/step - loss: 0.2888 - accuracy: 0.9020\n",
            "Epoch 11/20\n",
            "7/7 [==============================] - 3s 432ms/step - loss: 0.2320 - accuracy: 0.9412\n",
            "Epoch 12/20\n",
            "7/7 [==============================] - 3s 435ms/step - loss: 0.1746 - accuracy: 0.9739\n",
            "Epoch 13/20\n",
            "7/7 [==============================] - 4s 519ms/step - loss: 0.1476 - accuracy: 0.9739\n",
            "Epoch 14/20\n",
            "7/7 [==============================] - 3s 432ms/step - loss: 0.1298 - accuracy: 1.0000\n",
            "Epoch 15/20\n",
            "7/7 [==============================] - 3s 436ms/step - loss: 0.0925 - accuracy: 0.9869\n",
            "Epoch 16/20\n",
            "7/7 [==============================] - 4s 576ms/step - loss: 0.0800 - accuracy: 0.9804\n",
            "Epoch 17/20\n",
            "7/7 [==============================] - 3s 430ms/step - loss: 0.0511 - accuracy: 1.0000\n",
            "Epoch 18/20\n",
            "7/7 [==============================] - 3s 428ms/step - loss: 0.0442 - accuracy: 1.0000\n",
            "Epoch 19/20\n",
            "7/7 [==============================] - 3s 437ms/step - loss: 0.0344 - accuracy: 1.0000\n",
            "Epoch 20/20\n",
            "7/7 [==============================] - 4s 584ms/step - loss: 0.0244 - accuracy: 1.0000\n",
            "3/3 [==============================] - 1s 152ms/step\n"
          ]
        },
        {
          "output_type": "stream",
          "name": "stderr",
          "text": [
            "/usr/local/lib/python3.10/dist-packages/scikeras/wrappers.py:915: UserWarning: ``build_fn`` will be renamed to ``model`` in a future release, at which point use of ``build_fn`` will raise an Error instead.\n",
            "  X, y = self._initialize(X, y)\n"
          ]
        },
        {
          "output_type": "stream",
          "name": "stdout",
          "text": [
            "Epoch 1/7\n",
            "17/17 [==============================] - 6s 297ms/step - loss: 0.7100 - accuracy: 0.5490\n",
            "Epoch 2/7\n",
            "17/17 [==============================] - 5s 259ms/step - loss: 0.2858 - accuracy: 0.9265\n",
            "Epoch 3/7\n",
            "17/17 [==============================] - 4s 258ms/step - loss: 0.1245 - accuracy: 0.9755\n",
            "Epoch 4/7\n",
            "17/17 [==============================] - 5s 314ms/step - loss: 0.0369 - accuracy: 1.0000\n",
            "Epoch 5/7\n",
            "17/17 [==============================] - 4s 260ms/step - loss: 0.0118 - accuracy: 1.0000\n",
            "Epoch 6/7\n",
            "17/17 [==============================] - 5s 280ms/step - loss: 0.0074 - accuracy: 1.0000\n",
            "Epoch 7/7\n",
            "17/17 [==============================] - 5s 279ms/step - loss: 0.0055 - accuracy: 1.0000\n"
          ]
        }
      ]
    },
    {
      "cell_type": "markdown",
      "source": [],
      "metadata": {
        "id": "pJZvfby9HwU8"
      }
    },
    {
      "cell_type": "code",
      "source": [
        "best_params = grid_search.best_params_\n",
        "best_score = grid_search.best_score_\n",
        "\n",
        "print(\"Best Parameters: \", best_params)\n",
        "print(\"Best Score: \", best_score)\n"
      ],
      "metadata": {
        "colab": {
          "base_uri": "https://localhost:8080/"
        },
        "id": "--2lJZbU1xxO",
        "outputId": "19586579-7774-4c93-e387-f0e1af66ed36"
      },
      "execution_count": 40,
      "outputs": [
        {
          "output_type": "stream",
          "name": "stdout",
          "text": [
            "Best Parameters:  {'batch_size': 12, 'epochs': 7}\n",
            "Best Score:  0.6911764705882352\n"
          ]
        }
      ]
    },
    {
      "cell_type": "code",
      "source": [
        "params = {\"nb_filters\": [2, 3, 4], \"nb_neurons\": [20, 25, 30, 35]}\n",
        "model=KerasClassifier(build_fn=baseline_model,nb_neurons=25,nb_filters=3)\n",
        "# Create the GridSearchCV object with the specified scoring metric\n",
        "grid_search_2 = GridSearchCV(model, param_grid=params, cv=3, scoring='accuracy')\n"
      ],
      "metadata": {
        "id": "i1WDNgX3Q7Ie"
      },
      "execution_count": 61,
      "outputs": []
    },
    {
      "cell_type": "code",
      "source": [
        "grid_search_2.fit(x_train,y_train)"
      ],
      "metadata": {
        "colab": {
          "base_uri": "https://localhost:8080/",
          "height": 1000
        },
        "id": "yXupm5bI1x9k",
        "outputId": "29973bef-7061-42aa-a86b-f1bbd5606564"
      },
      "execution_count": 62,
      "outputs": [
        {
          "output_type": "stream",
          "name": "stderr",
          "text": [
            "/usr/local/lib/python3.10/dist-packages/scikeras/wrappers.py:915: UserWarning: ``build_fn`` will be renamed to ``model`` in a future release, at which point use of ``build_fn`` will raise an Error instead.\n",
            "  X, y = self._initialize(X, y)\n"
          ]
        },
        {
          "output_type": "stream",
          "name": "stdout",
          "text": [
            "5/5 [==============================] - 4s 515ms/step - loss: 0.8853 - accuracy: 0.5368\n",
            "3/3 [==============================] - 1s 167ms/step\n"
          ]
        },
        {
          "output_type": "stream",
          "name": "stderr",
          "text": [
            "/usr/local/lib/python3.10/dist-packages/scikeras/wrappers.py:915: UserWarning: ``build_fn`` will be renamed to ``model`` in a future release, at which point use of ``build_fn`` will raise an Error instead.\n",
            "  X, y = self._initialize(X, y)\n"
          ]
        },
        {
          "output_type": "stream",
          "name": "stdout",
          "text": [
            "5/5 [==============================] - 5s 867ms/step - loss: 0.8687 - accuracy: 0.4926\n",
            "3/3 [==============================] - 1s 169ms/step\n"
          ]
        },
        {
          "output_type": "stream",
          "name": "stderr",
          "text": [
            "/usr/local/lib/python3.10/dist-packages/scikeras/wrappers.py:915: UserWarning: ``build_fn`` will be renamed to ``model`` in a future release, at which point use of ``build_fn`` will raise an Error instead.\n",
            "  X, y = self._initialize(X, y)\n"
          ]
        },
        {
          "output_type": "stream",
          "name": "stdout",
          "text": [
            "5/5 [==============================] - 4s 523ms/step - loss: 0.8725 - accuracy: 0.4853\n",
            "3/3 [==============================] - 1s 163ms/step\n"
          ]
        },
        {
          "output_type": "stream",
          "name": "stderr",
          "text": [
            "/usr/local/lib/python3.10/dist-packages/scikeras/wrappers.py:915: UserWarning: ``build_fn`` will be renamed to ``model`` in a future release, at which point use of ``build_fn`` will raise an Error instead.\n",
            "  X, y = self._initialize(X, y)\n"
          ]
        },
        {
          "output_type": "stream",
          "name": "stdout",
          "text": [
            "5/5 [==============================] - 5s 531ms/step - loss: 0.9250 - accuracy: 0.5294\n",
            "3/3 [==============================] - 1s 171ms/step\n"
          ]
        },
        {
          "output_type": "stream",
          "name": "stderr",
          "text": [
            "/usr/local/lib/python3.10/dist-packages/scikeras/wrappers.py:915: UserWarning: ``build_fn`` will be renamed to ``model`` in a future release, at which point use of ``build_fn`` will raise an Error instead.\n",
            "  X, y = self._initialize(X, y)\n"
          ]
        },
        {
          "output_type": "stream",
          "name": "stdout",
          "text": [
            "5/5 [==============================] - 4s 509ms/step - loss: 2.4585 - accuracy: 0.4706\n",
            "3/3 [==============================] - 1s 317ms/step\n"
          ]
        },
        {
          "output_type": "stream",
          "name": "stderr",
          "text": [
            "/usr/local/lib/python3.10/dist-packages/scikeras/wrappers.py:915: UserWarning: ``build_fn`` will be renamed to ``model`` in a future release, at which point use of ``build_fn`` will raise an Error instead.\n",
            "  X, y = self._initialize(X, y)\n"
          ]
        },
        {
          "output_type": "stream",
          "name": "stdout",
          "text": [
            "5/5 [==============================] - 4s 516ms/step - loss: 4.8468 - accuracy: 0.5074\n",
            "3/3 [==============================] - 1s 162ms/step\n"
          ]
        },
        {
          "output_type": "stream",
          "name": "stderr",
          "text": [
            "/usr/local/lib/python3.10/dist-packages/scikeras/wrappers.py:915: UserWarning: ``build_fn`` will be renamed to ``model`` in a future release, at which point use of ``build_fn`` will raise an Error instead.\n",
            "  X, y = self._initialize(X, y)\n"
          ]
        },
        {
          "output_type": "stream",
          "name": "stdout",
          "text": [
            "5/5 [==============================] - 4s 518ms/step - loss: 0.7130 - accuracy: 0.5662\n",
            "3/3 [==============================] - 1s 313ms/step\n"
          ]
        },
        {
          "output_type": "stream",
          "name": "stderr",
          "text": [
            "/usr/local/lib/python3.10/dist-packages/scikeras/wrappers.py:915: UserWarning: ``build_fn`` will be renamed to ``model`` in a future release, at which point use of ``build_fn`` will raise an Error instead.\n",
            "  X, y = self._initialize(X, y)\n"
          ]
        },
        {
          "output_type": "stream",
          "name": "stdout",
          "text": [
            "5/5 [==============================] - 4s 517ms/step - loss: 0.8210 - accuracy: 0.4485\n",
            "3/3 [==============================] - 1s 170ms/step\n"
          ]
        },
        {
          "output_type": "stream",
          "name": "stderr",
          "text": [
            "/usr/local/lib/python3.10/dist-packages/scikeras/wrappers.py:915: UserWarning: ``build_fn`` will be renamed to ``model`` in a future release, at which point use of ``build_fn`` will raise an Error instead.\n",
            "  X, y = self._initialize(X, y)\n"
          ]
        },
        {
          "output_type": "stream",
          "name": "stdout",
          "text": [
            "5/5 [==============================] - 5s 878ms/step - loss: 0.6864 - accuracy: 0.4926\n",
            "3/3 [==============================] - 1s 176ms/step\n"
          ]
        },
        {
          "output_type": "stream",
          "name": "stderr",
          "text": [
            "/usr/local/lib/python3.10/dist-packages/scikeras/wrappers.py:915: UserWarning: ``build_fn`` will be renamed to ``model`` in a future release, at which point use of ``build_fn`` will raise an Error instead.\n",
            "  X, y = self._initialize(X, y)\n"
          ]
        },
        {
          "output_type": "stream",
          "name": "stdout",
          "text": [
            "5/5 [==============================] - 4s 518ms/step - loss: 2.6689 - accuracy: 0.4853\n",
            "3/3 [==============================] - 1s 172ms/step\n"
          ]
        },
        {
          "output_type": "stream",
          "name": "stderr",
          "text": [
            "/usr/local/lib/python3.10/dist-packages/scikeras/wrappers.py:915: UserWarning: ``build_fn`` will be renamed to ``model`` in a future release, at which point use of ``build_fn`` will raise an Error instead.\n",
            "  X, y = self._initialize(X, y)\n"
          ]
        },
        {
          "output_type": "stream",
          "name": "stdout",
          "text": [
            "5/5 [==============================] - 5s 509ms/step - loss: 0.6827 - accuracy: 0.5221\n",
            "3/3 [==============================] - 1s 167ms/step\n"
          ]
        },
        {
          "output_type": "stream",
          "name": "stderr",
          "text": [
            "/usr/local/lib/python3.10/dist-packages/scikeras/wrappers.py:915: UserWarning: ``build_fn`` will be renamed to ``model`` in a future release, at which point use of ``build_fn`` will raise an Error instead.\n",
            "  X, y = self._initialize(X, y)\n"
          ]
        },
        {
          "output_type": "stream",
          "name": "stdout",
          "text": [
            "5/5 [==============================] - 4s 517ms/step - loss: 1.3139 - accuracy: 0.5000\n",
            "3/3 [==============================] - 1s 169ms/step\n"
          ]
        },
        {
          "output_type": "stream",
          "name": "stderr",
          "text": [
            "/usr/local/lib/python3.10/dist-packages/scikeras/wrappers.py:915: UserWarning: ``build_fn`` will be renamed to ``model`` in a future release, at which point use of ``build_fn`` will raise an Error instead.\n",
            "  X, y = self._initialize(X, y)\n"
          ]
        },
        {
          "output_type": "stream",
          "name": "stdout",
          "text": [
            "5/5 [==============================] - 4s 540ms/step - loss: 0.8109 - accuracy: 0.5515\n",
            "3/3 [==============================] - 1s 189ms/step\n"
          ]
        },
        {
          "output_type": "stream",
          "name": "stderr",
          "text": [
            "/usr/local/lib/python3.10/dist-packages/scikeras/wrappers.py:915: UserWarning: ``build_fn`` will be renamed to ``model`` in a future release, at which point use of ``build_fn`` will raise an Error instead.\n",
            "  X, y = self._initialize(X, y)\n"
          ]
        },
        {
          "output_type": "stream",
          "name": "stdout",
          "text": [
            "5/5 [==============================] - 5s 863ms/step - loss: 1.2978 - accuracy: 0.4559\n",
            "3/3 [==============================] - 1s 180ms/step\n"
          ]
        },
        {
          "output_type": "stream",
          "name": "stderr",
          "text": [
            "/usr/local/lib/python3.10/dist-packages/scikeras/wrappers.py:915: UserWarning: ``build_fn`` will be renamed to ``model`` in a future release, at which point use of ``build_fn`` will raise an Error instead.\n",
            "  X, y = self._initialize(X, y)\n"
          ]
        },
        {
          "output_type": "stream",
          "name": "stdout",
          "text": [
            "5/5 [==============================] - 4s 545ms/step - loss: 2.9789 - accuracy: 0.5294\n",
            "3/3 [==============================] - 1s 182ms/step\n"
          ]
        },
        {
          "output_type": "stream",
          "name": "stderr",
          "text": [
            "/usr/local/lib/python3.10/dist-packages/scikeras/wrappers.py:915: UserWarning: ``build_fn`` will be renamed to ``model`` in a future release, at which point use of ``build_fn`` will raise an Error instead.\n",
            "  X, y = self._initialize(X, y)\n"
          ]
        },
        {
          "output_type": "stream",
          "name": "stdout",
          "text": [
            "5/5 [==============================] - 6s 793ms/step - loss: 0.6753 - accuracy: 0.5147\n",
            "3/3 [==============================] - 1s 190ms/step\n"
          ]
        },
        {
          "output_type": "stream",
          "name": "stderr",
          "text": [
            "/usr/local/lib/python3.10/dist-packages/scikeras/wrappers.py:915: UserWarning: ``build_fn`` will be renamed to ``model`` in a future release, at which point use of ``build_fn`` will raise an Error instead.\n",
            "  X, y = self._initialize(X, y)\n"
          ]
        },
        {
          "output_type": "stream",
          "name": "stdout",
          "text": [
            "5/5 [==============================] - 5s 658ms/step - loss: 1.7231 - accuracy: 0.5074\n",
            "3/3 [==============================] - 1s 189ms/step\n"
          ]
        },
        {
          "output_type": "stream",
          "name": "stderr",
          "text": [
            "/usr/local/lib/python3.10/dist-packages/scikeras/wrappers.py:915: UserWarning: ``build_fn`` will be renamed to ``model`` in a future release, at which point use of ``build_fn`` will raise an Error instead.\n",
            "  X, y = self._initialize(X, y)\n"
          ]
        },
        {
          "output_type": "stream",
          "name": "stdout",
          "text": [
            "5/5 [==============================] - 4s 538ms/step - loss: 1.1822 - accuracy: 0.5147\n",
            "3/3 [==============================] - 1s 183ms/step\n"
          ]
        },
        {
          "output_type": "stream",
          "name": "stderr",
          "text": [
            "/usr/local/lib/python3.10/dist-packages/scikeras/wrappers.py:915: UserWarning: ``build_fn`` will be renamed to ``model`` in a future release, at which point use of ``build_fn`` will raise an Error instead.\n",
            "  X, y = self._initialize(X, y)\n"
          ]
        },
        {
          "output_type": "stream",
          "name": "stdout",
          "text": [
            "5/5 [==============================] - 5s 753ms/step - loss: 0.7057 - accuracy: 0.5882\n",
            "3/3 [==============================] - 1s 183ms/step\n"
          ]
        },
        {
          "output_type": "stream",
          "name": "stderr",
          "text": [
            "/usr/local/lib/python3.10/dist-packages/scikeras/wrappers.py:915: UserWarning: ``build_fn`` will be renamed to ``model`` in a future release, at which point use of ``build_fn`` will raise an Error instead.\n",
            "  X, y = self._initialize(X, y)\n"
          ]
        },
        {
          "output_type": "stream",
          "name": "stdout",
          "text": [
            "5/5 [==============================] - 5s 518ms/step - loss: 1.4981 - accuracy: 0.4632\n",
            "3/3 [==============================] - 1s 338ms/step\n"
          ]
        },
        {
          "output_type": "stream",
          "name": "stderr",
          "text": [
            "/usr/local/lib/python3.10/dist-packages/scikeras/wrappers.py:915: UserWarning: ``build_fn`` will be renamed to ``model`` in a future release, at which point use of ``build_fn`` will raise an Error instead.\n",
            "  X, y = self._initialize(X, y)\n"
          ]
        },
        {
          "output_type": "stream",
          "name": "stdout",
          "text": [
            "5/5 [==============================] - 4s 544ms/step - loss: 0.8065 - accuracy: 0.5221\n",
            "3/3 [==============================] - 1s 204ms/step\n"
          ]
        },
        {
          "output_type": "stream",
          "name": "stderr",
          "text": [
            "/usr/local/lib/python3.10/dist-packages/scikeras/wrappers.py:915: UserWarning: ``build_fn`` will be renamed to ``model`` in a future release, at which point use of ``build_fn`` will raise an Error instead.\n",
            "  X, y = self._initialize(X, y)\n"
          ]
        },
        {
          "output_type": "stream",
          "name": "stdout",
          "text": [
            "5/5 [==============================] - 6s 832ms/step - loss: 1.6196 - accuracy: 0.5515\n",
            "3/3 [==============================] - 1s 186ms/step\n"
          ]
        },
        {
          "output_type": "stream",
          "name": "stderr",
          "text": [
            "/usr/local/lib/python3.10/dist-packages/scikeras/wrappers.py:915: UserWarning: ``build_fn`` will be renamed to ``model`` in a future release, at which point use of ``build_fn`` will raise an Error instead.\n",
            "  X, y = self._initialize(X, y)\n"
          ]
        },
        {
          "output_type": "stream",
          "name": "stdout",
          "text": [
            "5/5 [==============================] - 4s 548ms/step - loss: 3.7584 - accuracy: 0.4706\n",
            "3/3 [==============================] - 1s 185ms/step\n"
          ]
        },
        {
          "output_type": "stream",
          "name": "stderr",
          "text": [
            "/usr/local/lib/python3.10/dist-packages/scikeras/wrappers.py:915: UserWarning: ``build_fn`` will be renamed to ``model`` in a future release, at which point use of ``build_fn`` will raise an Error instead.\n",
            "  X, y = self._initialize(X, y)\n"
          ]
        },
        {
          "output_type": "stream",
          "name": "stdout",
          "text": [
            "5/5 [==============================] - 5s 547ms/step - loss: 2.1374 - accuracy: 0.5074\n",
            "3/3 [==============================] - 1s 179ms/step\n"
          ]
        },
        {
          "output_type": "stream",
          "name": "stderr",
          "text": [
            "/usr/local/lib/python3.10/dist-packages/scikeras/wrappers.py:915: UserWarning: ``build_fn`` will be renamed to ``model`` in a future release, at which point use of ``build_fn`` will raise an Error instead.\n",
            "  X, y = self._initialize(X, y)\n"
          ]
        },
        {
          "output_type": "stream",
          "name": "stdout",
          "text": [
            "5/5 [==============================] - 4s 562ms/step - loss: 0.8330 - accuracy: 0.4853\n",
            "3/3 [==============================] - 1s 321ms/step\n"
          ]
        },
        {
          "output_type": "stream",
          "name": "stderr",
          "text": [
            "/usr/local/lib/python3.10/dist-packages/scikeras/wrappers.py:915: UserWarning: ``build_fn`` will be renamed to ``model`` in a future release, at which point use of ``build_fn`` will raise an Error instead.\n",
            "  X, y = self._initialize(X, y)\n"
          ]
        },
        {
          "output_type": "stream",
          "name": "stdout",
          "text": [
            "5/5 [==============================] - 4s 541ms/step - loss: 4.5000 - accuracy: 0.5000\n",
            "3/3 [==============================] - 1s 171ms/step\n"
          ]
        },
        {
          "output_type": "stream",
          "name": "stderr",
          "text": [
            "/usr/local/lib/python3.10/dist-packages/scikeras/wrappers.py:915: UserWarning: ``build_fn`` will be renamed to ``model`` in a future release, at which point use of ``build_fn`` will raise an Error instead.\n",
            "  X, y = self._initialize(X, y)\n"
          ]
        },
        {
          "output_type": "stream",
          "name": "stdout",
          "text": [
            "5/5 [==============================] - 4s 544ms/step - loss: 0.7231 - accuracy: 0.5000\n",
            "3/3 [==============================] - 1s 174ms/step\n"
          ]
        },
        {
          "output_type": "stream",
          "name": "stderr",
          "text": [
            "/usr/local/lib/python3.10/dist-packages/scikeras/wrappers.py:915: UserWarning: ``build_fn`` will be renamed to ``model`` in a future release, at which point use of ``build_fn`` will raise an Error instead.\n",
            "  X, y = self._initialize(X, y)\n"
          ]
        },
        {
          "output_type": "stream",
          "name": "stdout",
          "text": [
            "5/5 [==============================] - 4s 540ms/step - loss: 1.8398 - accuracy: 0.5221\n",
            "3/3 [==============================] - 1s 178ms/step\n"
          ]
        },
        {
          "output_type": "stream",
          "name": "stderr",
          "text": [
            "/usr/local/lib/python3.10/dist-packages/scikeras/wrappers.py:915: UserWarning: ``build_fn`` will be renamed to ``model`` in a future release, at which point use of ``build_fn`` will raise an Error instead.\n",
            "  X, y = self._initialize(X, y)\n"
          ]
        },
        {
          "output_type": "stream",
          "name": "stdout",
          "text": [
            "5/5 [==============================] - 4s 536ms/step - loss: 2.0629 - accuracy: 0.5000\n",
            "3/3 [==============================] - 1s 339ms/step\n"
          ]
        },
        {
          "output_type": "stream",
          "name": "stderr",
          "text": [
            "/usr/local/lib/python3.10/dist-packages/scikeras/wrappers.py:915: UserWarning: ``build_fn`` will be renamed to ``model`` in a future release, at which point use of ``build_fn`` will raise an Error instead.\n",
            "  X, y = self._initialize(X, y)\n"
          ]
        },
        {
          "output_type": "stream",
          "name": "stdout",
          "text": [
            "5/5 [==============================] - 4s 542ms/step - loss: 1.9943 - accuracy: 0.5147\n",
            "3/3 [==============================] - 1s 170ms/step\n"
          ]
        },
        {
          "output_type": "stream",
          "name": "stderr",
          "text": [
            "/usr/local/lib/python3.10/dist-packages/scikeras/wrappers.py:915: UserWarning: ``build_fn`` will be renamed to ``model`` in a future release, at which point use of ``build_fn`` will raise an Error instead.\n",
            "  X, y = self._initialize(X, y)\n"
          ]
        },
        {
          "output_type": "stream",
          "name": "stdout",
          "text": [
            "5/5 [==============================] - 4s 606ms/step - loss: 0.8924 - accuracy: 0.5809\n",
            "3/3 [==============================] - 1s 301ms/step\n"
          ]
        },
        {
          "output_type": "stream",
          "name": "stderr",
          "text": [
            "/usr/local/lib/python3.10/dist-packages/scikeras/wrappers.py:915: UserWarning: ``build_fn`` will be renamed to ``model`` in a future release, at which point use of ``build_fn`` will raise an Error instead.\n",
            "  X, y = self._initialize(X, y)\n"
          ]
        },
        {
          "output_type": "stream",
          "name": "stdout",
          "text": [
            "5/5 [==============================] - 4s 548ms/step - loss: 1.5207 - accuracy: 0.4926\n",
            "3/3 [==============================] - 1s 176ms/step\n"
          ]
        },
        {
          "output_type": "stream",
          "name": "stderr",
          "text": [
            "/usr/local/lib/python3.10/dist-packages/scikeras/wrappers.py:915: UserWarning: ``build_fn`` will be renamed to ``model`` in a future release, at which point use of ``build_fn`` will raise an Error instead.\n",
            "  X, y = self._initialize(X, y)\n"
          ]
        },
        {
          "output_type": "stream",
          "name": "stdout",
          "text": [
            "5/5 [==============================] - 4s 703ms/step - loss: 1.4237 - accuracy: 0.5294\n",
            "3/3 [==============================] - 1s 164ms/step\n"
          ]
        },
        {
          "output_type": "stream",
          "name": "stderr",
          "text": [
            "/usr/local/lib/python3.10/dist-packages/scikeras/wrappers.py:915: UserWarning: ``build_fn`` will be renamed to ``model`` in a future release, at which point use of ``build_fn`` will raise an Error instead.\n",
            "  X, y = self._initialize(X, y)\n"
          ]
        },
        {
          "output_type": "stream",
          "name": "stdout",
          "text": [
            "5/5 [==============================] - 4s 543ms/step - loss: 1.4628 - accuracy: 0.4412\n",
            "3/3 [==============================] - 1s 177ms/step\n"
          ]
        },
        {
          "output_type": "stream",
          "name": "stderr",
          "text": [
            "/usr/local/lib/python3.10/dist-packages/scikeras/wrappers.py:915: UserWarning: ``build_fn`` will be renamed to ``model`` in a future release, at which point use of ``build_fn`` will raise an Error instead.\n",
            "  X, y = self._initialize(X, y)\n"
          ]
        },
        {
          "output_type": "stream",
          "name": "stdout",
          "text": [
            "5/5 [==============================] - 5s 547ms/step - loss: 2.3334 - accuracy: 0.5074\n",
            "3/3 [==============================] - 1s 166ms/step\n"
          ]
        },
        {
          "output_type": "stream",
          "name": "stderr",
          "text": [
            "/usr/local/lib/python3.10/dist-packages/scikeras/wrappers.py:915: UserWarning: ``build_fn`` will be renamed to ``model`` in a future release, at which point use of ``build_fn`` will raise an Error instead.\n",
            "  X, y = self._initialize(X, y)\n"
          ]
        },
        {
          "output_type": "stream",
          "name": "stdout",
          "text": [
            "5/5 [==============================] - 5s 543ms/step - loss: 4.7253 - accuracy: 0.5147\n",
            "3/3 [==============================] - 1s 281ms/step\n"
          ]
        },
        {
          "output_type": "stream",
          "name": "stderr",
          "text": [
            "/usr/local/lib/python3.10/dist-packages/scikeras/wrappers.py:915: UserWarning: ``build_fn`` will be renamed to ``model`` in a future release, at which point use of ``build_fn`` will raise an Error instead.\n",
            "  X, y = self._initialize(X, y)\n"
          ]
        },
        {
          "output_type": "stream",
          "name": "stdout",
          "text": [
            "7/7 [==============================] - 5s 566ms/step - loss: 1.6851 - accuracy: 0.4804\n"
          ]
        },
        {
          "output_type": "execute_result",
          "data": {
            "text/plain": [
              "GridSearchCV(cv=3,\n",
              "             estimator=KerasClassifier(build_fn=<function baseline_model at 0x7df53af30040>, nb_filters=3, nb_neurons=25),\n",
              "             param_grid={'nb_filters': [2, 3, 4],\n",
              "                         'nb_neurons': [20, 25, 30, 35]},\n",
              "             scoring='accuracy')"
            ],
            "text/html": [
              "<style>#sk-container-id-1 {color: black;background-color: white;}#sk-container-id-1 pre{padding: 0;}#sk-container-id-1 div.sk-toggleable {background-color: white;}#sk-container-id-1 label.sk-toggleable__label {cursor: pointer;display: block;width: 100%;margin-bottom: 0;padding: 0.3em;box-sizing: border-box;text-align: center;}#sk-container-id-1 label.sk-toggleable__label-arrow:before {content: \"▸\";float: left;margin-right: 0.25em;color: #696969;}#sk-container-id-1 label.sk-toggleable__label-arrow:hover:before {color: black;}#sk-container-id-1 div.sk-estimator:hover label.sk-toggleable__label-arrow:before {color: black;}#sk-container-id-1 div.sk-toggleable__content {max-height: 0;max-width: 0;overflow: hidden;text-align: left;background-color: #f0f8ff;}#sk-container-id-1 div.sk-toggleable__content pre {margin: 0.2em;color: black;border-radius: 0.25em;background-color: #f0f8ff;}#sk-container-id-1 input.sk-toggleable__control:checked~div.sk-toggleable__content {max-height: 200px;max-width: 100%;overflow: auto;}#sk-container-id-1 input.sk-toggleable__control:checked~label.sk-toggleable__label-arrow:before {content: \"▾\";}#sk-container-id-1 div.sk-estimator input.sk-toggleable__control:checked~label.sk-toggleable__label {background-color: #d4ebff;}#sk-container-id-1 div.sk-label input.sk-toggleable__control:checked~label.sk-toggleable__label {background-color: #d4ebff;}#sk-container-id-1 input.sk-hidden--visually {border: 0;clip: rect(1px 1px 1px 1px);clip: rect(1px, 1px, 1px, 1px);height: 1px;margin: -1px;overflow: hidden;padding: 0;position: absolute;width: 1px;}#sk-container-id-1 div.sk-estimator {font-family: monospace;background-color: #f0f8ff;border: 1px dotted black;border-radius: 0.25em;box-sizing: border-box;margin-bottom: 0.5em;}#sk-container-id-1 div.sk-estimator:hover {background-color: #d4ebff;}#sk-container-id-1 div.sk-parallel-item::after {content: \"\";width: 100%;border-bottom: 1px solid gray;flex-grow: 1;}#sk-container-id-1 div.sk-label:hover label.sk-toggleable__label {background-color: #d4ebff;}#sk-container-id-1 div.sk-serial::before {content: \"\";position: absolute;border-left: 1px solid gray;box-sizing: border-box;top: 0;bottom: 0;left: 50%;z-index: 0;}#sk-container-id-1 div.sk-serial {display: flex;flex-direction: column;align-items: center;background-color: white;padding-right: 0.2em;padding-left: 0.2em;position: relative;}#sk-container-id-1 div.sk-item {position: relative;z-index: 1;}#sk-container-id-1 div.sk-parallel {display: flex;align-items: stretch;justify-content: center;background-color: white;position: relative;}#sk-container-id-1 div.sk-item::before, #sk-container-id-1 div.sk-parallel-item::before {content: \"\";position: absolute;border-left: 1px solid gray;box-sizing: border-box;top: 0;bottom: 0;left: 50%;z-index: -1;}#sk-container-id-1 div.sk-parallel-item {display: flex;flex-direction: column;z-index: 1;position: relative;background-color: white;}#sk-container-id-1 div.sk-parallel-item:first-child::after {align-self: flex-end;width: 50%;}#sk-container-id-1 div.sk-parallel-item:last-child::after {align-self: flex-start;width: 50%;}#sk-container-id-1 div.sk-parallel-item:only-child::after {width: 0;}#sk-container-id-1 div.sk-dashed-wrapped {border: 1px dashed gray;margin: 0 0.4em 0.5em 0.4em;box-sizing: border-box;padding-bottom: 0.4em;background-color: white;}#sk-container-id-1 div.sk-label label {font-family: monospace;font-weight: bold;display: inline-block;line-height: 1.2em;}#sk-container-id-1 div.sk-label-container {text-align: center;}#sk-container-id-1 div.sk-container {/* jupyter's `normalize.less` sets `[hidden] { display: none; }` but bootstrap.min.css set `[hidden] { display: none !important; }` so we also need the `!important` here to be able to override the default hidden behavior on the sphinx rendered scikit-learn.org. See: https://github.com/scikit-learn/scikit-learn/issues/21755 */display: inline-block !important;position: relative;}#sk-container-id-1 div.sk-text-repr-fallback {display: none;}</style><div id=\"sk-container-id-1\" class=\"sk-top-container\"><div class=\"sk-text-repr-fallback\"><pre>GridSearchCV(cv=3,\n",
              "             estimator=KerasClassifier(build_fn=&lt;function baseline_model at 0x7df53af30040&gt;, nb_filters=3, nb_neurons=25),\n",
              "             param_grid={&#x27;nb_filters&#x27;: [2, 3, 4],\n",
              "                         &#x27;nb_neurons&#x27;: [20, 25, 30, 35]},\n",
              "             scoring=&#x27;accuracy&#x27;)</pre><b>In a Jupyter environment, please rerun this cell to show the HTML representation or trust the notebook. <br />On GitHub, the HTML representation is unable to render, please try loading this page with nbviewer.org.</b></div><div class=\"sk-container\" hidden><div class=\"sk-item sk-dashed-wrapped\"><div class=\"sk-label-container\"><div class=\"sk-label sk-toggleable\"><input class=\"sk-toggleable__control sk-hidden--visually\" id=\"sk-estimator-id-1\" type=\"checkbox\" ><label for=\"sk-estimator-id-1\" class=\"sk-toggleable__label sk-toggleable__label-arrow\">GridSearchCV</label><div class=\"sk-toggleable__content\"><pre>GridSearchCV(cv=3,\n",
              "             estimator=KerasClassifier(build_fn=&lt;function baseline_model at 0x7df53af30040&gt;, nb_filters=3, nb_neurons=25),\n",
              "             param_grid={&#x27;nb_filters&#x27;: [2, 3, 4],\n",
              "                         &#x27;nb_neurons&#x27;: [20, 25, 30, 35]},\n",
              "             scoring=&#x27;accuracy&#x27;)</pre></div></div></div><div class=\"sk-parallel\"><div class=\"sk-parallel-item\"><div class=\"sk-item\"><div class=\"sk-label-container\"><div class=\"sk-label sk-toggleable\"><input class=\"sk-toggleable__control sk-hidden--visually\" id=\"sk-estimator-id-2\" type=\"checkbox\" ><label for=\"sk-estimator-id-2\" class=\"sk-toggleable__label sk-toggleable__label-arrow\">estimator: KerasClassifier</label><div class=\"sk-toggleable__content\"><pre>KerasClassifier(\n",
              "\tmodel=None\n",
              "\tbuild_fn=&lt;function baseline_model at 0x7df53af30040&gt;\n",
              "\twarm_start=False\n",
              "\trandom_state=None\n",
              "\toptimizer=rmsprop\n",
              "\tloss=None\n",
              "\tmetrics=None\n",
              "\tbatch_size=None\n",
              "\tvalidation_batch_size=None\n",
              "\tverbose=1\n",
              "\tcallbacks=None\n",
              "\tvalidation_split=0.0\n",
              "\tshuffle=True\n",
              "\trun_eagerly=False\n",
              "\tepochs=1\n",
              "\tnb_neurons=25\n",
              "\tnb_filters=3\n",
              "\tclass_weight=None\n",
              ")</pre></div></div></div><div class=\"sk-serial\"><div class=\"sk-item\"><div class=\"sk-estimator sk-toggleable\"><input class=\"sk-toggleable__control sk-hidden--visually\" id=\"sk-estimator-id-3\" type=\"checkbox\" ><label for=\"sk-estimator-id-3\" class=\"sk-toggleable__label sk-toggleable__label-arrow\">KerasClassifier</label><div class=\"sk-toggleable__content\"><pre>KerasClassifier(\n",
              "\tmodel=None\n",
              "\tbuild_fn=&lt;function baseline_model at 0x7df53af30040&gt;\n",
              "\twarm_start=False\n",
              "\trandom_state=None\n",
              "\toptimizer=rmsprop\n",
              "\tloss=None\n",
              "\tmetrics=None\n",
              "\tbatch_size=None\n",
              "\tvalidation_batch_size=None\n",
              "\tverbose=1\n",
              "\tcallbacks=None\n",
              "\tvalidation_split=0.0\n",
              "\tshuffle=True\n",
              "\trun_eagerly=False\n",
              "\tepochs=1\n",
              "\tnb_neurons=25\n",
              "\tnb_filters=3\n",
              "\tclass_weight=None\n",
              ")</pre></div></div></div></div></div></div></div></div></div></div>"
            ]
          },
          "metadata": {},
          "execution_count": 62
        }
      ]
    },
    {
      "cell_type": "code",
      "source": [
        "best_params = grid_search_2.best_params_\n",
        "best_score = grid_search_2.best_score_\n",
        "\n",
        "print(\"Best Parameters: \", best_params)\n",
        "print(\"Best Score: \", best_score)\n"
      ],
      "metadata": {
        "colab": {
          "base_uri": "https://localhost:8080/"
        },
        "outputId": "7314d294-4dd1-4f73-ef9f-cb945bbe80c3",
        "id": "_6-2TPeHYtaQ"
      },
      "execution_count": 65,
      "outputs": [
        {
          "output_type": "stream",
          "name": "stdout",
          "text": [
            "Best Parameters:  {'nb_filters': 2, 'nb_neurons': 35}\n",
            "Best Score:  0.5931372549019608\n"
          ]
        }
      ]
    },
    {
      "cell_type": "code",
      "source": [
        "from tensorflow.keras.layers import MaxPooling2D\n",
        "def tuned_model():\n",
        "    model = Sequential()\n",
        "    model.add(Conv2D(3, (3, 3), padding='same', input_shape=(256, 256, 3)))\n",
        "    model.add(AveragePooling2D())\n",
        "    model.add(Conv2D(2,(3,3),padding='same'))\n",
        "    model.add(MaxPooling2D())\n",
        "    model.add(Conv2D(3, (3, 3),activation='relu'))\n",
        "    model.add(AveragePooling2D())\n",
        "    model.add(Flatten())\n",
        "    model.add(Dense(35, activation='relu'))\n",
        "    model.add(Dense(10,activation='relu'))\n",
        "    model.add(Dense(15,activation='relu'))\n",
        "    model.add(Dense(1, activation='sigmoid'))\n",
        "    model.compile(optimizer='adam', loss='binary_crossentropy', metrics=['accuracy'])\n",
        "    return model\n"
      ],
      "metadata": {
        "id": "Tpoua5HyY6GO"
      },
      "execution_count": 98,
      "outputs": []
    },
    {
      "cell_type": "code",
      "source": [
        "model=tuned_model()\n",
        "model.fit(x_train,y_train,epochs=7,batch_size=12,verbose=1)"
      ],
      "metadata": {
        "colab": {
          "base_uri": "https://localhost:8080/"
        },
        "id": "XNZHAkySZZV8",
        "outputId": "c8c47cf9-0d3e-4caa-939d-e2dfccbb258d"
      },
      "execution_count": 99,
      "outputs": [
        {
          "output_type": "stream",
          "name": "stdout",
          "text": [
            "Epoch 1/7\n",
            "17/17 [==============================] - 8s 363ms/step - loss: 0.6722 - accuracy: 0.5245\n",
            "Epoch 2/7\n",
            "17/17 [==============================] - 5s 293ms/step - loss: 0.6308 - accuracy: 0.5637\n",
            "Epoch 3/7\n",
            "17/17 [==============================] - 6s 355ms/step - loss: 0.6085 - accuracy: 0.6176\n",
            "Epoch 4/7\n",
            "17/17 [==============================] - 5s 295ms/step - loss: 0.5837 - accuracy: 0.7304\n",
            "Epoch 5/7\n",
            "17/17 [==============================] - 6s 347ms/step - loss: 0.5429 - accuracy: 0.7353\n",
            "Epoch 6/7\n",
            "17/17 [==============================] - 5s 301ms/step - loss: 0.4782 - accuracy: 0.8088\n",
            "Epoch 7/7\n",
            "17/17 [==============================] - 5s 319ms/step - loss: 0.4711 - accuracy: 0.8186\n"
          ]
        },
        {
          "output_type": "execute_result",
          "data": {
            "text/plain": [
              "<keras.src.callbacks.History at 0x7df538e79600>"
            ]
          },
          "metadata": {},
          "execution_count": 99
        }
      ]
    },
    {
      "cell_type": "code",
      "source": [
        "model.evaluate(x_test,y_test)"
      ],
      "metadata": {
        "colab": {
          "base_uri": "https://localhost:8080/"
        },
        "id": "RX7RienBaBwg",
        "outputId": "4d46aa1d-b6c6-4d8e-e72c-e72a3f7b7fbb"
      },
      "execution_count": 100,
      "outputs": [
        {
          "output_type": "stream",
          "name": "stdout",
          "text": [
            "2/2 [==============================] - 1s 198ms/step - loss: 0.9566 - accuracy: 0.6522\n"
          ]
        },
        {
          "output_type": "execute_result",
          "data": {
            "text/plain": [
              "[0.9566279053688049, 0.6521739363670349]"
            ]
          },
          "metadata": {},
          "execution_count": 100
        }
      ]
    },
    {
      "cell_type": "code",
      "source": [
        "import zipfile\n",
        "import io\n",
        "with zipfile.ZipFile(io.BytesIO(uploaded['archive (4).zip']), 'r') as zip_ref:\n",
        "    zip_ref.extractall('brain_mri_scan_images')"
      ],
      "metadata": {
        "id": "lPDGsJz2tV9v"
      },
      "execution_count": null,
      "outputs": []
    },
    {
      "cell_type": "code",
      "source": [
        "import os\n",
        "import shutil\n",
        "from sklearn.model_selection import train_test_split\n",
        "\n",
        "classes = ['negative', 'positive']\n",
        "\n",
        "root_dir = \"brain_mri_scan_images/brain_mri_scan_images\"\n",
        "\n",
        "\n",
        "for class_name in classes:\n",
        "    os.makedirs(os.path.join(root_dir, 'train', class_name), exist_ok=True)\n",
        "    os.makedirs(os.path.join(root_dir, 'test', class_name), exist_ok=True)\n",
        "\n",
        "\n",
        "    class_dir = os.path.join(root_dir, class_name)\n",
        "    files = os.listdir(class_dir)\n",
        "    train_files, test_files = train_test_split(files, test_size=0.2, random_state=42)\n",
        "\n",
        "\n",
        "    for file_name in train_files:\n",
        "        src = os.path.join(class_dir, file_name)\n",
        "        dst = os.path.join(root_dir, 'train', class_name, file_name)\n",
        "        shutil.move(src, dst)\n",
        "\n",
        "\n",
        "    for file_name in test_files:\n",
        "        src = os.path.join(class_dir, file_name)\n",
        "        dst = os.path.join(root_dir, 'test', class_name, file_name)\n",
        "        shutil.move(src, dst)"
      ],
      "metadata": {
        "id": "qhpR_9jjoWR_"
      },
      "execution_count": null,
      "outputs": []
    },
    {
      "cell_type": "code",
      "source": [
        "from tensorflow.keras.preprocessing.image import ImageDataGenerator\n",
        "datagen=ImageDataGenerator(rescale=1.0/255.0)\n",
        "train_iterator=datagen.flow_from_directory(\"brain_mri_scan_images/brain_mri_scan_images/train/\",class_mode='binary',batch_size=181)\n",
        "test_iterator=datagen.flow_from_directory(\"brain_mri_scan_images/brain_mri_scan_images/test/\",class_mode='binary',batch_size=46)"
      ],
      "metadata": {
        "colab": {
          "base_uri": "https://localhost:8080/"
        },
        "id": "8UxVPSWkoWTz",
        "outputId": "72e88079-e169-4b0b-e93f-823e2a581fab"
      },
      "execution_count": null,
      "outputs": [
        {
          "output_type": "stream",
          "name": "stdout",
          "text": [
            "Found 181 images belonging to 2 classes.\n",
            "Found 46 images belonging to 2 classes.\n"
          ]
        }
      ]
    },
    {
      "cell_type": "code",
      "source": [
        "x_train,y_train=train_iterator.next()\n",
        "x_test,y_test=test_iterator.next()\n"
      ],
      "metadata": {
        "id": "TjUwaZJtoWVt"
      },
      "execution_count": null,
      "outputs": []
    },
    {
      "cell_type": "code",
      "source": [
        "x_train.shape"
      ],
      "metadata": {
        "colab": {
          "base_uri": "https://localhost:8080/"
        },
        "id": "lQuTwlE3oWYY",
        "outputId": "56be1188-24dd-482c-b0ab-37f8f72488e7"
      },
      "execution_count": null,
      "outputs": [
        {
          "output_type": "execute_result",
          "data": {
            "text/plain": [
              "(181, 256, 256, 3)"
            ]
          },
          "metadata": {},
          "execution_count": 10
        }
      ]
    },
    {
      "cell_type": "code",
      "source": [
        "x_test.shape"
      ],
      "metadata": {
        "colab": {
          "base_uri": "https://localhost:8080/"
        },
        "id": "CPHg-leNDNbt",
        "outputId": "a69323c5-5911-4dc3-af4c-9a2e6f405492"
      },
      "execution_count": null,
      "outputs": [
        {
          "output_type": "execute_result",
          "data": {
            "text/plain": [
              "(46, 256, 256, 3)"
            ]
          },
          "metadata": {},
          "execution_count": 11
        }
      ]
    },
    {
      "cell_type": "code",
      "source": [
        "from tensorflow.keras.layers import Dense,AveragePooling2D,MaxPooling2D,Flatten,Conv2D\n",
        "from tensorflow.keras.models import Sequential"
      ],
      "metadata": {
        "id": "Y5muQkp4oWba"
      },
      "execution_count": null,
      "outputs": []
    },
    {
      "cell_type": "code",
      "source": [
        "def CNN_tumor_detection():\n",
        "  model=Sequential()\n",
        "  model.add(Conv2D(3,(3,3),padding='same',input_shape=(256,256,3)))\n",
        "  model.add(AveragePooling2D())\n",
        "  model.add(Conv2D(2,(2,2),padding='same'))\n",
        "  model.add(MaxPooling2D())\n",
        "  model.add(Flatten())\n",
        "  model.add(Dense(30,activation='relu'))\n",
        "  model.add(Dense(1,activation='sigmoid'))\n",
        "  model.compile(optimizer='adam',loss='binary_crossentropy',metrics=['acc'])\n",
        "  return  model"
      ],
      "metadata": {
        "id": "Coi3QyP7I5Eg"
      },
      "execution_count": null,
      "outputs": []
    },
    {
      "cell_type": "code",
      "source": [
        "model=CNN_tumor_detection()\n",
        "model.summary()"
      ],
      "metadata": {
        "colab": {
          "base_uri": "https://localhost:8080/"
        },
        "id": "IZkX_-ihI5IJ",
        "outputId": "fca5dbd7-180d-44ee-f12c-dd65d27f1e7c"
      },
      "execution_count": null,
      "outputs": [
        {
          "output_type": "stream",
          "name": "stdout",
          "text": [
            "Model: \"sequential\"\n",
            "_________________________________________________________________\n",
            " Layer (type)                Output Shape              Param #   \n",
            "=================================================================\n",
            " conv2d (Conv2D)             (None, 256, 256, 3)       84        \n",
            "                                                                 \n",
            " average_pooling2d (Average  (None, 128, 128, 3)       0         \n",
            " Pooling2D)                                                      \n",
            "                                                                 \n",
            " conv2d_1 (Conv2D)           (None, 128, 128, 2)       26        \n",
            "                                                                 \n",
            " max_pooling2d (MaxPooling2  (None, 64, 64, 2)         0         \n",
            " D)                                                              \n",
            "                                                                 \n",
            " flatten (Flatten)           (None, 8192)              0         \n",
            "                                                                 \n",
            " dense (Dense)               (None, 30)                245790    \n",
            "                                                                 \n",
            " dense_1 (Dense)             (None, 1)                 31        \n",
            "                                                                 \n",
            "=================================================================\n",
            "Total params: 245931 (960.67 KB)\n",
            "Trainable params: 245931 (960.67 KB)\n",
            "Non-trainable params: 0 (0.00 Byte)\n",
            "_________________________________________________________________\n"
          ]
        }
      ]
    },
    {
      "cell_type": "code",
      "source": [
        "model.fit(x_train,y_train,epochs=5,batch_size=32)"
      ],
      "metadata": {
        "colab": {
          "base_uri": "https://localhost:8080/"
        },
        "id": "ifg8VpqRKeyF",
        "outputId": "02bd8bcf-ac9f-45cf-b9cf-4a955d3c4367"
      },
      "execution_count": null,
      "outputs": [
        {
          "output_type": "stream",
          "name": "stdout",
          "text": [
            "Epoch 1/5\n",
            "6/6 [==============================] - 5s 591ms/step - loss: 0.5755 - acc: 0.6740\n",
            "Epoch 2/5\n",
            "6/6 [==============================] - 5s 801ms/step - loss: 0.4052 - acc: 0.8122\n",
            "Epoch 3/5\n",
            "6/6 [==============================] - 4s 580ms/step - loss: 0.3112 - acc: 0.9061\n",
            "Epoch 4/5\n",
            "6/6 [==============================] - 3s 571ms/step - loss: 0.2359 - acc: 0.9558\n",
            "Epoch 5/5\n",
            "6/6 [==============================] - 5s 834ms/step - loss: 0.1639 - acc: 0.9669\n"
          ]
        },
        {
          "output_type": "execute_result",
          "data": {
            "text/plain": [
              "<keras.src.callbacks.History at 0x78c3023ef220>"
            ]
          },
          "metadata": {},
          "execution_count": 17
        }
      ]
    },
    {
      "cell_type": "code",
      "source": [
        "model.evaluate(x_test,y_test)"
      ],
      "metadata": {
        "colab": {
          "base_uri": "https://localhost:8080/"
        },
        "id": "FJDuvL5sKe0v",
        "outputId": "f665b396-3c50-40e4-fcf9-3a409b036fb1"
      },
      "execution_count": null,
      "outputs": [
        {
          "output_type": "stream",
          "name": "stdout",
          "text": [
            "2/2 [==============================] - 1s 141ms/step - loss: 0.6140 - acc: 0.7391\n"
          ]
        },
        {
          "output_type": "execute_result",
          "data": {
            "text/plain": [
              "[0.6140350103378296, 0.739130437374115]"
            ]
          },
          "metadata": {},
          "execution_count": 18
        }
      ]
    },
    {
      "cell_type": "code",
      "source": [
        "!pip install scikeras"
      ],
      "metadata": {
        "colab": {
          "base_uri": "https://localhost:8080/"
        },
        "id": "chX3XJGaKe3G",
        "outputId": "ad7b49e7-d2e3-4e22-a648-03c80fa19a01"
      },
      "execution_count": null,
      "outputs": [
        {
          "output_type": "stream",
          "name": "stdout",
          "text": [
            "Collecting scikeras\n",
            "  Downloading scikeras-0.12.0-py3-none-any.whl (27 kB)\n",
            "Requirement already satisfied: packaging>=0.21 in /usr/local/lib/python3.10/dist-packages (from scikeras) (23.2)\n",
            "Requirement already satisfied: scikit-learn>=1.0.0 in /usr/local/lib/python3.10/dist-packages (from scikeras) (1.2.2)\n",
            "Requirement already satisfied: numpy>=1.17.3 in /usr/local/lib/python3.10/dist-packages (from scikit-learn>=1.0.0->scikeras) (1.23.5)\n",
            "Requirement already satisfied: scipy>=1.3.2 in /usr/local/lib/python3.10/dist-packages (from scikit-learn>=1.0.0->scikeras) (1.11.3)\n",
            "Requirement already satisfied: joblib>=1.1.1 in /usr/local/lib/python3.10/dist-packages (from scikit-learn>=1.0.0->scikeras) (1.3.2)\n",
            "Requirement already satisfied: threadpoolctl>=2.0.0 in /usr/local/lib/python3.10/dist-packages (from scikit-learn>=1.0.0->scikeras) (3.2.0)\n",
            "Installing collected packages: scikeras\n",
            "Successfully installed scikeras-0.12.0\n"
          ]
        }
      ]
    },
    {
      "cell_type": "code",
      "source": [
        "from scikeras.wrappers import KerasClassifier\n",
        "from sklearn.model_selection import GridSearchCV"
      ],
      "metadata": {
        "id": "72OFfKpnI5K8"
      },
      "execution_count": null,
      "outputs": []
    },
    {
      "cell_type": "code",
      "source": [
        "def create_model(filters=3,neurons=17):\n",
        "  model=Sequential()\n",
        "  model.add(Conv2D(filters,(3,3),padding='same',input_shape=(256,256,3)))\n",
        "  model.add(AveragePooling2D())\n",
        "  model.add(Conv2D(filters,(3,3),padding='same'))\n",
        "  model.add(MaxPooling2D())\n",
        "  model.add(Flatten())\n",
        "  model.add(Dense(neurons,activation='relu'))\n",
        "  model.add(Dense(1,activation='sigmoid'))\n",
        "  model.compile(optimizer='adam',loss=\"binary_crossentropy\",metrics=['acc'])\n",
        "  return model"
      ],
      "metadata": {
        "id": "uM8clLolI5Mz"
      },
      "execution_count": null,
      "outputs": []
    },
    {
      "cell_type": "code",
      "source": [
        "est=KerasClassifier(build_fn=create_model(),epochs=5,batch_size=32)\n",
        "params={\"filters\":[2,3,4,5],\"neurons\":[17,25,36,50]}\n",
        "grid_search=GridSearchCV(est,param_grid=params,cv=4)"
      ],
      "metadata": {
        "id": "-TgNVHr2oWeR"
      },
      "execution_count": null,
      "outputs": []
    },
    {
      "cell_type": "code",
      "source": [
        "grid_search.fit(x_train,y_train)"
      ],
      "metadata": {
        "id": "nLgda7ProWjm"
      },
      "execution_count": null,
      "outputs": []
    },
    {
      "cell_type": "code",
      "source": [
        "import matplotlib.pyplot as plt\n",
        "plt.imshow(x_test[1])"
      ],
      "metadata": {
        "colab": {
          "base_uri": "https://localhost:8080/",
          "height": 452
        },
        "id": "EdD-Fh6DoWmM",
        "outputId": "8049f97b-c0c5-4341-87ac-743f94f0e39b"
      },
      "execution_count": null,
      "outputs": [
        {
          "output_type": "execute_result",
          "data": {
            "text/plain": [
              "<matplotlib.image.AxesImage at 0x78c2f805f040>"
            ]
          },
          "metadata": {},
          "execution_count": 72
        },
        {
          "output_type": "display_data",
          "data": {
            "text/plain": [
              "<Figure size 640x480 with 1 Axes>"
            ],
            "image/png": "[encoded data removed]"
          },
          "metadata": {}
        }
      ]
    },
    {
      "cell_type": "code",
      "source": [
        "y_test[1]"
      ],
      "metadata": {
        "colab": {
          "base_uri": "https://localhost:8080/"
        },
        "id": "1KLl-jUKVQqi",
        "outputId": "9e62eeec-b0ba-4ea3-9269-e7fd28a83fa8"
      },
      "execution_count": null,
      "outputs": [
        {
          "output_type": "execute_result",
          "data": {
            "text/plain": [
              "0.0"
            ]
          },
          "metadata": {},
          "execution_count": 73
        }
      ]
    },
    {
      "cell_type": "code",
      "source": [
        "import numpy as np"
      ],
      "metadata": {
        "id": "aoPBLKqMX3lA"
      },
      "execution_count": null,
      "outputs": []
    },
    {
      "cell_type": "code",
      "source": [
        "mode=CNN_tumor_detection()\n",
        "np.argmax(model.predict(np.expand_dims(x_test[1],0)))"
      ],
      "metadata": {
        "colab": {
          "base_uri": "https://localhost:8080/"
        },
        "id": "nLBJ4Tc1VQul",
        "outputId": "5ce5ebe1-7e58-4399-e143-7a74eacb4867"
      },
      "execution_count": null,
      "outputs": [
        {
          "output_type": "stream",
          "name": "stdout",
          "text": [
            "1/1 [==============================] - 0s 82ms/step\n"
          ]
        },
        {
          "output_type": "execute_result",
          "data": {
            "text/plain": [
              "0"
            ]
          },
          "metadata": {},
          "execution_count": 80
        }
      ]
    },
    {
      "cell_type": "code",
      "source": [],
      "metadata": {
        "id": "JEmYJxvPVQz8"
      },
      "execution_count": null,
      "outputs": []
    },
    {
      "cell_type": "code",
      "source": [],
      "metadata": {
        "id": "vPPt3URsVQ3l"
      },
      "execution_count": null,
      "outputs": []
    },
    {
      "cell_type": "code",
      "source": [],
      "metadata": {
        "id": "KxcBZpNMVQ6f"
      },
      "execution_count": null,
      "outputs": []
    },
    {
      "cell_type": "code",
      "source": [],
      "metadata": {
        "id": "3PHpWkKeVQ8z"
      },
      "execution_count": null,
      "outputs": []
    }
  ]
}
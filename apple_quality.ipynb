{
  "nbformat": 4,
  "nbformat_minor": 0,
  "metadata": {
    "colab": {
      "provenance": [],
      "authorship_tag": "ABX9TyOG941UGfvbh+ZNI2dLNaTh",
      "include_colab_link": true
    },
    "kernelspec": {
      "name": "python3",
      "display_name": "Python 3"
    },
    "language_info": {
      "name": "python"
    }
  },
  "cells": [
    {
      "cell_type": "markdown",
      "metadata": {
        "id": "view-in-github",
        "colab_type": "text"
      },
      "source": [
        "<a href=\"https://colab.research.google.com/github/MahdiFaourr/MahdiFaourr/blob/main/apple_quality.ipynb\" target=\"_parent\"><img src=\"https://colab.research.google.com/assets/colab-badge.svg\" alt=\"Open In Colab\"/></a>"
      ]
    },
    {
      "cell_type": "code",
      "execution_count": null,
      "metadata": {
        "id": "PM06eWS_tZvy"
      },
      "outputs": [],
      "source": [
        "!pip install opendatasets"
      ]
    },
    {
      "cell_type": "code",
      "source": [
        "# Import necessary libraries and functions\n",
        "import opendatasets as od\n",
        "import pandas as pd\n",
        "import matplotlib.pyplot as plt\n",
        "from sklearn.preprocessing import LabelEncoder\n",
        "import seaborn as sns\n",
        "from sklearn.model_selection import train_test_split\n",
        "from sklearn.svm import SVC\n",
        "from sklearn.ensemble import AdaBoostClassifier\n",
        "from sklearn.ensemble import RandomForestClassifier\n",
        "from sklearn.model_selection import cross_validate\n",
        "from sklearn.linear_model import LogisticRegression\n",
        "from sklearn.tree import DecisionTreeClassifier\n",
        "from sklearn.model_selection import GridSearchCV\n",
        "from sklearn.metrics import accuracy_score,precision_score,recall_score\n",
        "import joblib"
      ],
      "metadata": {
        "id": "__T-JxAhTDep"
      },
      "execution_count": null,
      "outputs": []
    },
    {
      "cell_type": "code",
      "source": [
        "# Random seed=42\n",
        "SEED=42"
      ],
      "metadata": {
        "id": "u3SFCOGcP0pO"
      },
      "execution_count": null,
      "outputs": []
    },
    {
      "cell_type": "code",
      "source": [
        "# Download the dataset from Kaggle\n",
        "od.download(\"https://www.kaggle.com/datasets/nelgiriyewithana/apple-quality\")"
      ],
      "metadata": {
        "id": "pIa8l6bxthao"
      },
      "execution_count": null,
      "outputs": []
    },
    {
      "cell_type": "code",
      "source": [
        "# Read the data in a pandas dataframe\n",
        "data=pd.read_csv(\"/content/apple-quality/apple_quality.csv\")\n",
        "data.head()"
      ],
      "metadata": {
        "id": "ozKaWhtgtdSm"
      },
      "execution_count": null,
      "outputs": []
    },
    {
      "cell_type": "code",
      "source": [
        "# Shape of the data\n",
        "data.shape"
      ],
      "metadata": {
        "colab": {
          "base_uri": "https://localhost:8080/"
        },
        "id": "vWQH1-d86tSf",
        "outputId": "61d20431-35c9-444a-8670-8e8a050deb1d"
      },
      "execution_count": 4,
      "outputs": [
        {
          "output_type": "execute_result",
          "data": {
            "text/plain": [
              "(4001, 9)"
            ]
          },
          "metadata": {},
          "execution_count": 4
        }
      ]
    },
    {
      "cell_type": "code",
      "source": [
        "# Data info\n",
        "data.info()"
      ],
      "metadata": {
        "colab": {
          "base_uri": "https://localhost:8080/"
        },
        "id": "5vCkDVXJ6tVJ",
        "outputId": "526d7beb-1108-4607-b6f3-bc4adc5b8a09"
      },
      "execution_count": 5,
      "outputs": [
        {
          "output_type": "stream",
          "name": "stdout",
          "text": [
            "<class 'pandas.core.frame.DataFrame'>\n",
            "RangeIndex: 4001 entries, 0 to 4000\n",
            "Data columns (total 9 columns):\n",
            " #   Column       Non-Null Count  Dtype  \n",
            "---  ------       --------------  -----  \n",
            " 0   A_id         4000 non-null   float64\n",
            " 1   Size         4000 non-null   float64\n",
            " 2   Weight       4000 non-null   float64\n",
            " 3   Sweetness    4000 non-null   float64\n",
            " 4   Crunchiness  4000 non-null   float64\n",
            " 5   Juiciness    4000 non-null   float64\n",
            " 6   Ripeness     4000 non-null   float64\n",
            " 7   Acidity      4001 non-null   object \n",
            " 8   Quality      4000 non-null   object \n",
            "dtypes: float64(7), object(2)\n",
            "memory usage: 281.4+ KB\n"
          ]
        }
      ]
    },
    {
      "cell_type": "code",
      "source": [
        "# Search for nulls\n",
        "data.isnull().sum()"
      ],
      "metadata": {
        "id": "m7bKLNN-6tYQ"
      },
      "execution_count": null,
      "outputs": []
    },
    {
      "cell_type": "code",
      "source": [
        "# Drop null values\n",
        "data=data.dropna()"
      ],
      "metadata": {
        "id": "C-yjSuyB6tbI"
      },
      "execution_count": 7,
      "outputs": []
    },
    {
      "cell_type": "code",
      "source": [
        "# Drop A_id feature\n",
        "data=data.drop('A_id',axis=1)"
      ],
      "metadata": {
        "id": "z8O2QiWCtdVD"
      },
      "execution_count": 8,
      "outputs": []
    },
    {
      "cell_type": "code",
      "source": [
        "# Recheck data shape again\n",
        "data.shape"
      ],
      "metadata": {
        "id": "YP-1cWaZtdXa"
      },
      "execution_count": null,
      "outputs": []
    },
    {
      "cell_type": "code",
      "source": [
        "# Get the count of the unique values of the column 'Quality'\n",
        "data['Quality'].value_counts()"
      ],
      "metadata": {
        "colab": {
          "base_uri": "https://localhost:8080/"
        },
        "id": "poi90hBc9dnN",
        "outputId": "ad48161f-5990-443b-bff6-980070244849"
      },
      "execution_count": 10,
      "outputs": [
        {
          "output_type": "execute_result",
          "data": {
            "text/plain": [
              "good    2004\n",
              "bad     1996\n",
              "Name: Quality, dtype: int64"
            ]
          },
          "metadata": {},
          "execution_count": 10
        }
      ]
    },
    {
      "cell_type": "code",
      "source": [
        "# Define a subdata\n",
        "data_good_quality = data[data['Quality'] == \"good\"]\n",
        "\n",
        "# Create a figure and an array of subplots with 4 rows and 2 columns\n",
        "fig, axs = plt.subplots(4, 2, figsize=(15, 15))\n",
        "\n",
        "# Flatten the axs array to simplify indexing\n",
        "axs = axs.flatten()\n",
        "\n",
        "# Loop through each column (excluding 'Quality')\n",
        "for i, column in enumerate(data_good_quality.columns):\n",
        "    # Plot data on the i-th subplot\n",
        "    axs[i].hist(data_good_quality[column])\n",
        "\n",
        "    ## Set title for the subplot\n",
        "    axs[i].set_title(column)\n",
        "\n",
        "    # Set x-axis label for the subplot\n",
        "    axs[i].set_xlabel('Index')\n",
        "\n",
        "    # Set y-axis label for the subplot\n",
        "    axs[i].set_ylabel('Frequency')\n",
        "    # Adjust layout to prevent overlap\n",
        "plt.tight_layout()\n",
        "\n",
        "# Show the plot\n",
        "plt.show()\n"
      ],
      "metadata": {
        "id": "DhsWjkk4-Vsf"
      },
      "execution_count": null,
      "outputs": []
    },
    {
      "cell_type": "code",
      "source": [
        "data_bad_quality = data[data['Quality'] == \"bad\"]\n",
        "fig, axs = plt.subplots(4, 2, figsize=(15, 15))\n",
        "axs = axs.flatten()\n",
        "for i, column in enumerate(data_bad_quality.columns):\n",
        "    axs[i].hist(data_bad_quality[column])\n",
        "    axs[i].set_title(column)\n",
        "    axs[i].set_xlabel('Index')\n",
        "    axs[i].set_ylabel('Frequency')\n",
        "plt.tight_layout()\n",
        "plt.show()"
      ],
      "metadata": {
        "id": "q8nKaRQv-Vu5"
      },
      "execution_count": null,
      "outputs": []
    },
    {
      "cell_type": "code",
      "source": [
        "# Encode the classes in Quality column\n",
        "encoder=LabelEncoder()\n",
        "data['Quality']=encoder.fit_transform(data['Quality'])"
      ],
      "metadata": {
        "id": "5mo5zS9n-Vz1"
      },
      "execution_count": 12,
      "outputs": []
    },
    {
      "cell_type": "code",
      "source": [
        "# Calculate the correlation matrix\n",
        "correlation_matrix = data.corr()\n",
        "\n",
        "# Plot the correlation matrix using Seaborn\n",
        "plt.figure(figsize=(10, 8))\n",
        "sns.heatmap(correlation_matrix, annot=True, cmap='coolwarm', fmt=\".2f\")\n",
        "plt.title('Correlation Matrix')\n",
        "plt.show()\n"
      ],
      "metadata": {
        "id": "jalgMFxnJDPD"
      },
      "execution_count": null,
      "outputs": []
    },
    {
      "cell_type": "code",
      "source": [
        "# Split the data into training and testing parts\n",
        "x=data.drop('Quality',axis=1)\n",
        "y=data['Quality'].values\n",
        "x_train,x_test,y_train,y_test=train_test_split(x,y,test_size=0.2)"
      ],
      "metadata": {
        "id": "mf0H5v_R-V20"
      },
      "execution_count": 13,
      "outputs": []
    },
    {
      "cell_type": "code",
      "source": [
        "# Define a set of models\n",
        "lr=LogisticRegression()\n",
        "sv=SVC(kernel=\"rbf\")\n",
        "tree=DecisionTreeClassifier()\n",
        "adab=AdaBoostClassifier()\n",
        "forest=RandomForestClassifier()\n",
        "models=[lr,sv,tree,forest,adab]\n",
        "# Iterate over the models and find the model with best performance\n",
        "for model in models:\n",
        "  score=cross_validate(model,x_train,y_train,cv=3,scoring=['accuracy','precision','recall'])\n",
        "  print(f\"{model}:\")\n",
        "  print('accuracy%:',score.get('test_accuracy').mean()*100)\n",
        "  print('precision%:',score.get('test_precision').mean()*100)\n",
        "  print('recall%:',score.get('test_recall').mean()*100)\n",
        "  print(''.join('-'for x in range(100)))"
      ],
      "metadata": {
        "id": "6ztzC6kp9dvz",
        "colab": {
          "base_uri": "https://localhost:8080/"
        },
        "outputId": "4df29b85-3f2f-4fb2-a5fe-5a10b88e4714"
      },
      "execution_count": 23,
      "outputs": [
        {
          "output_type": "stream",
          "name": "stdout",
          "text": [
            "LogisticRegression():\n",
            "accuracy%: 74.49940889719619\n",
            "precision%: 73.63919444865785\n",
            "recall%: 76.57320872274144\n",
            "----------------------------------------------------------------------------------------------------\n",
            "SVC():\n",
            "accuracy%: 87.96902117244083\n",
            "precision%: 87.84116268527681\n",
            "recall%: 88.22429906542055\n",
            "----------------------------------------------------------------------------------------------------\n",
            "DecisionTreeClassifier():\n",
            "accuracy%: 78.93745681022523\n",
            "precision%: 79.43295116503454\n",
            "recall%: 78.31775700934578\n",
            "----------------------------------------------------------------------------------------------------\n",
            "RandomForestClassifier():\n",
            "accuracy%: 87.40643314442661\n",
            "precision%: 86.6960625322113\n",
            "recall%: 88.47352024922118\n",
            "----------------------------------------------------------------------------------------------------\n",
            "AdaBoostClassifier():\n",
            "accuracy%: 75.53054187451976\n",
            "precision%: 75.41757165302272\n",
            "recall%: 75.95015576323988\n",
            "----------------------------------------------------------------------------------------------------\n"
          ]
        }
      ]
    },
    {
      "cell_type": "code",
      "source": [
        "# Define Parameter Grid\n",
        "param_grid = {\n",
        "    'C': [0.1, 1, 10, 100],\n",
        "    'gamma': [0.01, 0.1, 1, 10],\n",
        "}\n",
        "\n",
        "# Instantiate Classifier\n",
        "svc = SVC(kernel='rbf')\n",
        "\n",
        "# Instantiate GridSearchCV\n",
        "grid_search = GridSearchCV(svc, param_grid, cv=5)\n",
        "\n",
        "# Fit GridSearchCV\n",
        "grid_search.fit(x_train, y_train)\n",
        "\n",
        "# Access Best Parameters and Best Score\n",
        "print(\"Best Parameters:\", grid_search.best_params_)\n",
        "print(\"Best Score:\", grid_search.best_score_)\n"
      ],
      "metadata": {
        "colab": {
          "base_uri": "https://localhost:8080/"
        },
        "id": "M2us16oNN4fx",
        "outputId": "e68901c0-c32a-442a-b40d-74c27f154c33"
      },
      "execution_count": 24,
      "outputs": [
        {
          "output_type": "stream",
          "name": "stdout",
          "text": [
            "Best Parameters: {'C': 10, 'gamma': 0.1}\n",
            "Best Score: 0.9075000000000001\n"
          ]
        }
      ]
    },
    {
      "cell_type": "code",
      "source": [
        "# Train the model svc with the optimal parameters\n",
        "svc = SVC(kernel='rbf',C=10,gamma=0.1)\n",
        "svc.fit(x_train,y_train)"
      ],
      "metadata": {
        "colab": {
          "base_uri": "https://localhost:8080/",
          "height": 74
        },
        "id": "OsIglUixOY1B",
        "outputId": "363097b9-0683-467a-b1fb-42a17060ee65"
      },
      "execution_count": 25,
      "outputs": [
        {
          "output_type": "execute_result",
          "data": {
            "text/plain": [
              "SVC(C=10, gamma=0.1)"
            ],
            "text/html": [
              "<style>#sk-container-id-1 {color: black;background-color: white;}#sk-container-id-1 pre{padding: 0;}#sk-container-id-1 div.sk-toggleable {background-color: white;}#sk-container-id-1 label.sk-toggleable__label {cursor: pointer;display: block;width: 100%;margin-bottom: 0;padding: 0.3em;box-sizing: border-box;text-align: center;}#sk-container-id-1 label.sk-toggleable__label-arrow:before {content: \"▸\";float: left;margin-right: 0.25em;color: #696969;}#sk-container-id-1 label.sk-toggleable__label-arrow:hover:before {color: black;}#sk-container-id-1 div.sk-estimator:hover label.sk-toggleable__label-arrow:before {color: black;}#sk-container-id-1 div.sk-toggleable__content {max-height: 0;max-width: 0;overflow: hidden;text-align: left;background-color: #f0f8ff;}#sk-container-id-1 div.sk-toggleable__content pre {margin: 0.2em;color: black;border-radius: 0.25em;background-color: #f0f8ff;}#sk-container-id-1 input.sk-toggleable__control:checked~div.sk-toggleable__content {max-height: 200px;max-width: 100%;overflow: auto;}#sk-container-id-1 input.sk-toggleable__control:checked~label.sk-toggleable__label-arrow:before {content: \"▾\";}#sk-container-id-1 div.sk-estimator input.sk-toggleable__control:checked~label.sk-toggleable__label {background-color: #d4ebff;}#sk-container-id-1 div.sk-label input.sk-toggleable__control:checked~label.sk-toggleable__label {background-color: #d4ebff;}#sk-container-id-1 input.sk-hidden--visually {border: 0;clip: rect(1px 1px 1px 1px);clip: rect(1px, 1px, 1px, 1px);height: 1px;margin: -1px;overflow: hidden;padding: 0;position: absolute;width: 1px;}#sk-container-id-1 div.sk-estimator {font-family: monospace;background-color: #f0f8ff;border: 1px dotted black;border-radius: 0.25em;box-sizing: border-box;margin-bottom: 0.5em;}#sk-container-id-1 div.sk-estimator:hover {background-color: #d4ebff;}#sk-container-id-1 div.sk-parallel-item::after {content: \"\";width: 100%;border-bottom: 1px solid gray;flex-grow: 1;}#sk-container-id-1 div.sk-label:hover label.sk-toggleable__label {background-color: #d4ebff;}#sk-container-id-1 div.sk-serial::before {content: \"\";position: absolute;border-left: 1px solid gray;box-sizing: border-box;top: 0;bottom: 0;left: 50%;z-index: 0;}#sk-container-id-1 div.sk-serial {display: flex;flex-direction: column;align-items: center;background-color: white;padding-right: 0.2em;padding-left: 0.2em;position: relative;}#sk-container-id-1 div.sk-item {position: relative;z-index: 1;}#sk-container-id-1 div.sk-parallel {display: flex;align-items: stretch;justify-content: center;background-color: white;position: relative;}#sk-container-id-1 div.sk-item::before, #sk-container-id-1 div.sk-parallel-item::before {content: \"\";position: absolute;border-left: 1px solid gray;box-sizing: border-box;top: 0;bottom: 0;left: 50%;z-index: -1;}#sk-container-id-1 div.sk-parallel-item {display: flex;flex-direction: column;z-index: 1;position: relative;background-color: white;}#sk-container-id-1 div.sk-parallel-item:first-child::after {align-self: flex-end;width: 50%;}#sk-container-id-1 div.sk-parallel-item:last-child::after {align-self: flex-start;width: 50%;}#sk-container-id-1 div.sk-parallel-item:only-child::after {width: 0;}#sk-container-id-1 div.sk-dashed-wrapped {border: 1px dashed gray;margin: 0 0.4em 0.5em 0.4em;box-sizing: border-box;padding-bottom: 0.4em;background-color: white;}#sk-container-id-1 div.sk-label label {font-family: monospace;font-weight: bold;display: inline-block;line-height: 1.2em;}#sk-container-id-1 div.sk-label-container {text-align: center;}#sk-container-id-1 div.sk-container {/* jupyter's `normalize.less` sets `[hidden] { display: none; }` but bootstrap.min.css set `[hidden] { display: none !important; }` so we also need the `!important` here to be able to override the default hidden behavior on the sphinx rendered scikit-learn.org. See: https://github.com/scikit-learn/scikit-learn/issues/21755 */display: inline-block !important;position: relative;}#sk-container-id-1 div.sk-text-repr-fallback {display: none;}</style><div id=\"sk-container-id-1\" class=\"sk-top-container\"><div class=\"sk-text-repr-fallback\"><pre>SVC(C=10, gamma=0.1)</pre><b>In a Jupyter environment, please rerun this cell to show the HTML representation or trust the notebook. <br />On GitHub, the HTML representation is unable to render, please try loading this page with nbviewer.org.</b></div><div class=\"sk-container\" hidden><div class=\"sk-item\"><div class=\"sk-estimator sk-toggleable\"><input class=\"sk-toggleable__control sk-hidden--visually\" id=\"sk-estimator-id-1\" type=\"checkbox\" checked><label for=\"sk-estimator-id-1\" class=\"sk-toggleable__label sk-toggleable__label-arrow\">SVC</label><div class=\"sk-toggleable__content\"><pre>SVC(C=10, gamma=0.1)</pre></div></div></div></div></div>"
            ]
          },
          "metadata": {},
          "execution_count": 25
        }
      ]
    },
    {
      "cell_type": "code",
      "source": [
        "# Check the performance of the fine tuned model\n",
        "y_hat=svc.predict(x_test)\n",
        "print(\"Accuracy%:\",accuracy_score(y_test,y_hat))\n",
        "print(\"Precision%:\",precision_score(y_test,y_hat))\n",
        "print(\"Recall%:\",recall_score(y_test,y_hat))"
      ],
      "metadata": {
        "colab": {
          "base_uri": "https://localhost:8080/"
        },
        "id": "Ml-RLpjwPHju",
        "outputId": "cfcf67d6-605b-4f90-dad2-303abc47b665"
      },
      "execution_count": 26,
      "outputs": [
        {
          "output_type": "stream",
          "name": "stdout",
          "text": [
            "Accuracy%: 0.9175\n",
            "Precision%: 0.9172932330827067\n",
            "Recall%: 0.9172932330827067\n"
          ]
        }
      ]
    },
    {
      "cell_type": "code",
      "source": [
        "# Save the trained model to a file\n",
        "joblib.dump(svc, 'apple_quality_svc_model.pkl')"
      ],
      "metadata": {
        "id": "oZcCnlDntdZs",
        "colab": {
          "base_uri": "https://localhost:8080/"
        },
        "outputId": "01a7805e-dca5-41d1-e961-9354a3a55f52"
      },
      "execution_count": 29,
      "outputs": [
        {
          "output_type": "execute_result",
          "data": {
            "text/plain": [
              "['apple_quality_svc_model.pkl']"
            ]
          },
          "metadata": {},
          "execution_count": 29
        }
      ]
    },
    {
      "cell_type": "code",
      "source": [
        "def quality_predictor(x,model):\n",
        "  y_pred=model.predict([x])\n",
        "  if y_pred>0.5:\n",
        "    return \"Good Apple\"\n",
        "  else:\n",
        "    return \"Bad Apple\""
      ],
      "metadata": {
        "id": "Gqbd3H5eLEda"
      },
      "execution_count": 30,
      "outputs": []
    },
    {
      "cell_type": "code",
      "source": [
        "# Example usage 1\n",
        "x=x_test.values[0]\n",
        "print(y_test[0])\n",
        "model=svc\n",
        "print(quality_predictor(x,model))"
      ],
      "metadata": {
        "colab": {
          "base_uri": "https://localhost:8080/"
        },
        "id": "V2hxyB16LEgO",
        "outputId": "2ea0a311-87f2-4219-84d7-1d841ac2fadf"
      },
      "execution_count": 38,
      "outputs": [
        {
          "output_type": "stream",
          "name": "stdout",
          "text": [
            "1\n",
            "Good Apple\n"
          ]
        },
        {
          "output_type": "stream",
          "name": "stderr",
          "text": [
            "/usr/local/lib/python3.10/dist-packages/sklearn/base.py:439: UserWarning: X does not have valid feature names, but SVC was fitted with feature names\n",
            "  warnings.warn(\n"
          ]
        }
      ]
    },
    {
      "cell_type": "code",
      "source": [
        "# Example usage 2\n",
        "x=x_test.values[90]\n",
        "print(y_test[90])\n",
        "model=svc\n",
        "print(quality_predictor(x,model))"
      ],
      "metadata": {
        "colab": {
          "base_uri": "https://localhost:8080/"
        },
        "id": "lmdK8BfsLEk2",
        "outputId": "10c4fc34-207d-4dcb-e8c1-508c754d772f"
      },
      "execution_count": 40,
      "outputs": [
        {
          "output_type": "stream",
          "name": "stdout",
          "text": [
            "0\n",
            "Bad Apple\n"
          ]
        },
        {
          "output_type": "stream",
          "name": "stderr",
          "text": [
            "/usr/local/lib/python3.10/dist-packages/sklearn/base.py:439: UserWarning: X does not have valid feature names, but SVC was fitted with feature names\n",
            "  warnings.warn(\n"
          ]
        }
      ]
    }
  ]
}
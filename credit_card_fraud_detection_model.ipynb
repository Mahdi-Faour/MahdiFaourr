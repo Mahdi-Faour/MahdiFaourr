{
  "nbformat": 4,
  "nbformat_minor": 0,
  "metadata": {
    "colab": {
      "provenance": [],
      "authorship_tag": "ABX9TyMqqWgf3mAnjWYrAFPEPCux",
      "include_colab_link": true
    },
    "kernelspec": {
      "name": "python3",
      "display_name": "Python 3"
    },
    "language_info": {
      "name": "python"
    }
  },
  "cells": [
    {
      "cell_type": "markdown",
      "metadata": {
        "id": "view-in-github",
        "colab_type": "text"
      },
      "source": [
        "<a href=\"https://colab.research.google.com/github/MahdiFaourr/MahdiFaourr/blob/main/credit_card_fraud_detection_model.ipynb\" target=\"_parent\"><img src=\"https://colab.research.google.com/assets/colab-badge.svg\" alt=\"Open In Colab\"/></a>"
      ]
    },
    {
      "cell_type": "code",
      "execution_count": null,
      "metadata": {
        "id": "rqp1YvaBDkWb"
      },
      "outputs": [],
      "source": [
        "!pip install opendatasets"
      ]
    },
    {
      "cell_type": "code",
      "source": [
        "!pip install scikeras"
      ],
      "metadata": {
        "id": "txpAlB4GJ3q8"
      },
      "execution_count": null,
      "outputs": []
    },
    {
      "cell_type": "code",
      "source": [
        "# Import necessary libraries and functions\n",
        "import opendatasets as od\n",
        "import numpy as np\n",
        "import pandas as pd\n",
        "import matplotlib.pyplot as plt\n",
        "import pickle\n",
        "from sklearn.model_selection import train_test_split,cross_val_score,StratifiedKFold\n",
        "from scikeras.wrappers import KerasClassifier\n",
        "from tensorflow.keras.layers import Dense,Dropout\n",
        "from tensorflow.keras.models import Sequential\n",
        "from tensorflow.keras.utils import plot_model"
      ],
      "metadata": {
        "id": "jlsl3aRsEJvT"
      },
      "execution_count": 3,
      "outputs": []
    },
    {
      "cell_type": "code",
      "source": [
        "# Load the data from kaggle\n",
        "od.download(\"https://www.kaggle.com/datasets/nelgiriyewithana/credit-card-fraud-detection-dataset-2023\")"
      ],
      "metadata": {
        "id": "xe_dkZHlDmsA"
      },
      "execution_count": null,
      "outputs": []
    },
    {
      "cell_type": "code",
      "source": [
        "# Load and disply the data\n",
        "path_to_data=\"credit-card-fraud-detection-dataset-2023/creditcard_2023.csv\"\n",
        "data=pd.read_csv(path_to_data)\n",
        "data.head()"
      ],
      "metadata": {
        "id": "IYW8BH1jDmuU"
      },
      "execution_count": null,
      "outputs": []
    },
    {
      "cell_type": "code",
      "source": [
        "# Data shape\n",
        "print(\"This data contains: \"+str(data.shape[0])+\" rows and \"+str(data.shape[1])+\" columns.\")"
      ],
      "metadata": {
        "colab": {
          "base_uri": "https://localhost:8080/"
        },
        "id": "zzACalPrDmxC",
        "outputId": "27f9222a-d542-4490-f8ba-d98d15f4db65"
      },
      "execution_count": 49,
      "outputs": [
        {
          "output_type": "stream",
          "name": "stdout",
          "text": [
            "This data contains: 568630 rows and 30 columns.\n"
          ]
        }
      ]
    },
    {
      "cell_type": "code",
      "source": [
        "# Check data info\n",
        "data.info()"
      ],
      "metadata": {
        "id": "FCiZ5M3wDmzb"
      },
      "execution_count": null,
      "outputs": []
    },
    {
      "cell_type": "code",
      "source": [
        "# Check the number of samples in each class\n",
        "data['Class'].value_counts()"
      ],
      "metadata": {
        "id": "UnAco1NaDm19"
      },
      "execution_count": null,
      "outputs": []
    },
    {
      "cell_type": "code",
      "source": [
        "# Drop id column\n",
        "data=data.drop(\"id\",axis=1)"
      ],
      "metadata": {
        "id": "cde-8_73F5Bm"
      },
      "execution_count": 9,
      "outputs": []
    },
    {
      "cell_type": "code",
      "source": [
        "# Plot histograms for all columns (V1 to V28)\n",
        "plt.figure(figsize=(16, 20))\n",
        "for i in range(1, 29):\n",
        "    plt.subplot(7, 4, i)\n",
        "    plt.hist(data[data['Class'] == 0][f'V{i}'], bins=50, alpha=0.5, color='blue', label='Non-Fraud')\n",
        "    plt.hist(data[data['Class'] == 1][f'V{i}'], bins=50, alpha=0.5, color='red', label='Fraud')\n",
        "    plt.title(f'V{i}')\n",
        "    plt.legend()\n",
        "plt.tight_layout()\n",
        "plt.show()\n"
      ],
      "metadata": {
        "id": "z1VOXJ1zDm6k"
      },
      "execution_count": null,
      "outputs": []
    },
    {
      "cell_type": "code",
      "source": [
        "# Check the duplications\n",
        "duplicates = data.duplicated()\n",
        "if duplicates.any():\n",
        "    print(\"Duplicates found in the entire DataFrame.\")\n",
        "    print(\"The count of duplicated samples is :\",duplicates.sum(),\".\")\n"
      ],
      "metadata": {
        "colab": {
          "base_uri": "https://localhost:8080/"
        },
        "id": "579RWyJWI7fH",
        "outputId": "fa0c0c7a-573b-4eed-d12f-55473457d2ae"
      },
      "execution_count": 48,
      "outputs": [
        {
          "output_type": "stream",
          "name": "stdout",
          "text": [
            "Duplicates found in the entire DataFrame.\n",
            "The count of duplicated samples is : 1 .\n"
          ]
        }
      ]
    },
    {
      "cell_type": "code",
      "source": [
        "# Normalize the data\n",
        "data_max=data.max()\n",
        "data=data.divide(data_max)"
      ],
      "metadata": {
        "id": "Y2WaJ8JvJY8f"
      },
      "execution_count": 21,
      "outputs": []
    },
    {
      "cell_type": "code",
      "source": [
        "# Split the data into testing and training data\n",
        "x=data.iloc[:,:-1].values\n",
        "y=data.iloc[:,-1].values\n",
        "x_train,x_test,y_train,y_test=train_test_split(x,y,test_size=0.2,random_state=50)"
      ],
      "metadata": {
        "id": "ae44Ax-hJ__8"
      },
      "execution_count": 27,
      "outputs": []
    },
    {
      "cell_type": "code",
      "source": [
        "# Define your model\n",
        "model = Sequential()\n",
        "\n",
        "# Input layer\n",
        "model.add(Dense(32, input_dim=x_train.shape[1], activation='relu'))  # 'features_count' should be the number of input features\n",
        "\n",
        "# Hidden layers\n",
        "model.add(Dense(64, activation='relu'))\n",
        "model.add(Dropout(0.5))  # Optional dropout layer to prevent overfitting\n",
        "\n",
        "model.add(Dense(32, activation='relu'))\n",
        "model.add(Dropout(0.5))  # Optional dropout layer\n",
        "\n",
        "# Output layer\n",
        "model.add(Dense(1, activation='sigmoid'))  # Binary classification\n",
        "\n",
        "# Compile the model\n",
        "model.compile(loss='binary_crossentropy', optimizer='adam', metrics=['accuracy'])\n",
        "\n",
        "# Optionally, you can print a summary of the model's architecture\n",
        "model.summary()\n"
      ],
      "metadata": {
        "id": "PJzRlvoeK8rO"
      },
      "execution_count": null,
      "outputs": []
    },
    {
      "cell_type": "code",
      "source": [
        "# Plot the model\n",
        "plot_model(model, to_file='model.png', show_shapes=True, show_layer_names=True)"
      ],
      "metadata": {
        "id": "UIAmNOJGK8ul"
      },
      "execution_count": null,
      "outputs": []
    },
    {
      "cell_type": "code",
      "source": [
        "# Create a KerasClassifier with your model-building function\n",
        "estimator = KerasClassifier(build_fn=model, epochs=10, batch_size=60, verbose=0)  # Adjust verbosity as needed\n",
        "# Use StratifiedKFold for cross-validation\n",
        "kfold = StratifiedKFold(n_splits=4, shuffle=True, random_state=42)\n",
        "\n",
        "# Perform cross-validation and calculate accuracy scores\n",
        "results = cross_val_score(estimator, x_train, y_train, cv=kfold, scoring='accuracy')\n",
        "\n",
        "# Print the cross-validation results\n",
        "print(f\"Accuracy: {results.mean()} ({results.std()})\")\n"
      ],
      "metadata": {
        "id": "jlsWxPzKDnAK"
      },
      "execution_count": null,
      "outputs": []
    },
    {
      "cell_type": "code",
      "source": [
        "# Fit the training data into the model\n",
        "model.fit(x_train,y_train,epochs=10,batch_size=60,verbose=1)"
      ],
      "metadata": {
        "id": "F5g15lcwRX5z"
      },
      "execution_count": null,
      "outputs": []
    },
    {
      "cell_type": "code",
      "source": [
        "# Evaluate the model on testing data\n",
        "model.evaluate(x_test,y_test)"
      ],
      "metadata": {
        "id": "7pTQ97QuRid6"
      },
      "execution_count": null,
      "outputs": []
    },
    {
      "cell_type": "code",
      "source": [
        "def fraud_detector(input):\n",
        "  return model.predict(input)"
      ],
      "metadata": {
        "id": "5a97LQP6P32f"
      },
      "execution_count": 42,
      "outputs": []
    },
    {
      "cell_type": "code",
      "source": [
        "# Test the fraud_detector function\n",
        "input= np.random.rand(1, 29)\n",
        "fraud_detector(input)"
      ],
      "metadata": {
        "id": "DO_xLWElRCui"
      },
      "execution_count": null,
      "outputs": []
    },
    {
      "cell_type": "code",
      "source": [
        "model_filename = 'my_model.pkl'\n",
        "\n",
        "# Save the model to a file using pickle\n",
        "with open(model_filename, 'wb') as file:\n",
        "    pickle.dump(model, file)\n",
        "\n",
        "print(f'Model saved to {model_filename}')\n"
      ],
      "metadata": {
        "id": "LQBbcn-JP3zM"
      },
      "execution_count": null,
      "outputs": []
    }
  ]
}
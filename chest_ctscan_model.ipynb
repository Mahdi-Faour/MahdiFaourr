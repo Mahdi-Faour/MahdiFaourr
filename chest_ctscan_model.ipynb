{
  "nbformat": 4,
  "nbformat_minor": 0,
  "metadata": {
    "colab": {
      "provenance": [],
      "authorship_tag": "ABX9TyPtC2Kub0vWnHR+lBJztnvu",
      "include_colab_link": true
    },
    "kernelspec": {
      "name": "python3",
      "display_name": "Python 3"
    },
    "language_info": {
      "name": "python"
    }
  },
  "cells": [
    {
      "cell_type": "markdown",
      "metadata": {
        "id": "view-in-github",
        "colab_type": "text"
      },
      "source": [
        "<a href=\"https://colab.research.google.com/github/MahdiFaourr/MahdiFaourr/blob/main/chest_ctscan_model.ipynb\" target=\"_parent\"><img src=\"https://colab.research.google.com/assets/colab-badge.svg\" alt=\"Open In Colab\"/></a>"
      ]
    },
    {
      "cell_type": "code",
      "execution_count": null,
      "metadata": {
        "id": "PWQG0PjB_O6S"
      },
      "outputs": [],
      "source": [
        "# Install useful libraries\n",
        "!pip install opendatasets\n",
        "!pip install mlflow\n",
        "!pip install tensorflow-model-optimization"
      ]
    },
    {
      "cell_type": "code",
      "source": [
        "# Import necessary libraries and functions\n",
        "from tensorflow.keras.applications import MobileNet\n",
        "from tensorflow.keras.preprocessing.image import ImageDataGenerator\n",
        "from tensorflow.keras.layers import GlobalAveragePooling2D, Dense\n",
        "from tensorflow.keras.models import Sequential\n",
        "import opendatasets as od\n",
        "import mlflow\n",
        "import mlflow.keras\n",
        "from tensorflow.keras.preprocessing.image import ImageDataGenerator\n",
        "from tensorflow.keras.callbacks import EarlyStopping\n",
        "from tensorflow_model_optimization.sparsity import keras as sparsity"
      ],
      "metadata": {
        "id": "MzMK2akdjxRd"
      },
      "execution_count": null,
      "outputs": []
    },
    {
      "cell_type": "code",
      "source": [
        "# Dowload the data to your working directory\n",
        "od.download(\"https://www.kaggle.com/datasets/mohamedhanyyy/chest-ctscan-images\")"
      ],
      "metadata": {
        "id": "0Tt1kHP3_UjB"
      },
      "execution_count": null,
      "outputs": []
    },
    {
      "cell_type": "code",
      "source": [
        "# Create an ImageDataGenerator\n",
        "datagen = ImageDataGenerator(\n",
        "    rescale=1.0/255.0,\n",
        "    rotation_range=20,\n",
        "    width_shift_range=0.1,\n",
        "    height_shift_range=0.1)\n"
      ],
      "metadata": {
        "id": "eQOd_xNC_Uls"
      },
      "execution_count": 4,
      "outputs": []
    },
    {
      "cell_type": "code",
      "source": [
        "# Create train,valid and test generators\n",
        "train_generator=datagen.flow_from_directory(\"/content/chest-ctscan-images/Data/train\",class_mode=\"categorical\",batch_size=36,shuffle=True)\n",
        "valid_generator=datagen.flow_from_directory(\"/content/chest-ctscan-images/Data/valid\",class_mode=\"categorical\",batch_size=36,shuffle=True)\n",
        "test_generator=datagen.flow_from_directory(\"/content/chest-ctscan-images/Data/test\",class_mode=\"categorical\",batch_size=36,shuffle=True)"
      ],
      "metadata": {
        "id": "WsWjGQF7_UpC"
      },
      "execution_count": null,
      "outputs": []
    },
    {
      "cell_type": "code",
      "source": [
        "# Create and set an experiment\n",
        "exp=mlflow.create_experiment(\"first_experiment\")\n",
        "mlflow.set_experiment(\"first_experiment\")"
      ],
      "metadata": {
        "id": "lxsOMiz4ZGhB"
      },
      "execution_count": null,
      "outputs": []
    },
    {
      "cell_type": "code",
      "source": [
        "# Create a model\n",
        "def get_model(params):\n",
        "    # Load MobileNet as a feature extractor\n",
        "    base_model = MobileNet(weights='imagenet', include_top=False, input_shape=(256, 256, 3))\n",
        "\n",
        "    # Create a Sequential model for building custom layers\n",
        "    model = Sequential()\n",
        "\n",
        "    # Add the MobileNet feature extractor to the model\n",
        "    model.add(base_model)\n",
        "\n",
        "    # Add global average pooling and custom dense layers\n",
        "    model.add(GlobalAveragePooling2D())\n",
        "    model.add(Dense(params['neurons'], activation='relu'))\n",
        "    model.add(Dense(4, activation='softmax'))\n",
        "    return model\n"
      ],
      "metadata": {
        "id": "80f44eBJ_Qy1"
      },
      "execution_count": 8,
      "outputs": []
    },
    {
      "cell_type": "code",
      "source": [
        "# Train the created model\n",
        "def train_model(params,text_params,train_generator,valid_generator):\n",
        "  model=get_model(params)\n",
        "  model.compile(optimizer=text_params['optimizer'],loss='categorical_crossentropy',metrics=['accuracy'])\n",
        "  history=model.fit(train_generator,validation_data=valid_generator,epochs=params['epochs'],batch_size=params['batch_size'])\n",
        "  return history, model"
      ],
      "metadata": {
        "id": "iVTmDzhTUEjh"
      },
      "execution_count": 9,
      "outputs": []
    },
    {
      "cell_type": "code",
      "metadata": {
        "id": "SNPwOnVaUKyy"
      },
      "source": [
        "# Create a function to log the parameters\n",
        "def mlflow_log(params, history, text_params, model, run_num):\n",
        "    # Taking the last value for each metric in history\n",
        "    metrics = history.history\n",
        "\n",
        "    for key in metrics.keys():\n",
        "        metrics[key] = metrics[key][-1]\n",
        "\n",
        "    # Begin to log for the set experiment\n",
        "    with mlflow.start_run() as run:\n",
        "\n",
        "        # log params\n",
        "        mlflow.log_params(params)\n",
        "\n",
        "        # log metrics\n",
        "        mlflow.log_metrics(metrics)\n",
        "\n",
        "        # log text params\n",
        "        for text_item in text_params.items():\n",
        "            if isinstance(text_item[1], list):\n",
        "                for metric_name in text_item[1]:\n",
        "                    mlflow.log_text(metric_name, text_item[0] + '.txt')\n",
        "            else:\n",
        "                mlflow.log_text(text_item[1],text_item[0] + '.txt')\n",
        "\n",
        "        # log Keras model\n",
        "        mlflow.keras.log_model(model, artifact_path=f\"model_{run_num}\")"
      ],
      "execution_count": 10,
      "outputs": []
    },
    {
      "cell_type": "code",
      "source": [
        "# 1st run\n",
        "params = {\n",
        "    'neurons':85,\n",
        "    'epochs':8,\n",
        "    'batch_size':32\n",
        "}\n",
        "\n",
        "text_params = {\n",
        "    'optimizer':'adam'\n",
        "}\n",
        "\n",
        "\n",
        "run_num =1\n",
        "\n",
        "history, model = train_model(params, text_params,train_generator, valid_generator)\n",
        "\n",
        "print(\"[INFO] Logging the parameters, textual info & best values for each metric & the model...\")\n",
        "mlflow_log(params, history, text_params, model, run_num)"
      ],
      "metadata": {
        "id": "Sjj4QwfsT06f"
      },
      "execution_count": null,
      "outputs": []
    },
    {
      "cell_type": "code",
      "source": [
        "# 2nd run\n",
        "params = {\n",
        "    'neurons':90,\n",
        "    'epochs':15,\n",
        "    'batch_size':32\n",
        "}\n",
        "\n",
        "text_params = {\n",
        "    'optimizer':'adam'\n",
        "}\n",
        "\n",
        "\n",
        "run_num =2\n",
        "\n",
        "history, model = train_model(params, text_params,train_generator, valid_generator)\n",
        "\n",
        "print(\"[INFO] Logging the parameters, textual info & best values for each metric & the model...\")\n",
        "mlflow_log(params, history, text_params, model, run_num)"
      ],
      "metadata": {
        "id": "Vg586TWyT0_t"
      },
      "execution_count": null,
      "outputs": []
    },
    {
      "cell_type": "code",
      "source": [
        "# 3rd run\n",
        "params = {\n",
        "    'neurons':85,\n",
        "    'epochs':12,\n",
        "    'batch_size':32\n",
        "}\n",
        "\n",
        "text_params = {\n",
        "    'optimizer':'sgd'\n",
        "}\n",
        "\n",
        "\n",
        "run_num =3\n",
        "\n",
        "history, model = train_model(params, text_params,train_generator, valid_generator)\n",
        "\n",
        "print(\"[INFO] Logging the parameters, textual info & best values for each metric & the model...\")\n",
        "mlflow_log(params, history, text_params, model, run_num)"
      ],
      "metadata": {
        "id": "NboSkW_kZcJp"
      },
      "execution_count": null,
      "outputs": []
    },
    {
      "cell_type": "code",
      "source": [
        "# 4th run\n",
        "params = {\n",
        "    'neurons':85,\n",
        "    'epochs':12,\n",
        "    'batch_size':25\n",
        "}\n",
        "\n",
        "text_params = {\n",
        "    'optimizer':'sgd'\n",
        "}\n",
        "\n",
        "\n",
        "run_num =4\n",
        "\n",
        "history, model = train_model(params, text_params,train_generator, valid_generator)\n",
        "\n",
        "print(\"[INFO] Logging the parameters, textual info & best values for each metric & the model...\")\n",
        "mlflow_log(params, history, text_params, model, run_num)"
      ],
      "metadata": {
        "id": "uD6dwvJWZcNK"
      },
      "execution_count": null,
      "outputs": []
    },
    {
      "cell_type": "code",
      "source": [
        "# Search through runs\n",
        "mlflow.search_runs(\"first_experiment\")"
      ],
      "metadata": {
        "id": "Q-ju67EIbglr"
      },
      "execution_count": null,
      "outputs": []
    },
    {
      "cell_type": "code",
      "source": [
        "# Create an EarlyStopping callback\n",
        "early_stopping = EarlyStopping(monitor='val_accuracy', patience=15, restore_best_weights=True)"
      ],
      "metadata": {
        "id": "UCb_eo4pcxuO"
      },
      "execution_count": 19,
      "outputs": []
    },
    {
      "cell_type": "code",
      "source": [
        "# Create and compile the final model\n",
        "def final_model():\n",
        "    base_model = MobileNet(weights='imagenet', include_top=False, input_shape=(256, 256, 3))\n",
        "    model = Sequential()\n",
        "    model.add(base_model)\n",
        "    model.add(GlobalAveragePooling2D())\n",
        "    model.add(Dense(85, activation='relu'))\n",
        "    model.add(Dense(4, activation='softmax'))\n",
        "    model.compile(optimizer=\"sgd\",loss=\"categorical_crossentropy\",metrics=['accuracy'])\n",
        "    return model"
      ],
      "metadata": {
        "id": "8bOhSQajbgpF"
      },
      "execution_count": 20,
      "outputs": []
    },
    {
      "cell_type": "code",
      "source": [
        "# Train your model with callback\n",
        "model=final_model()\n",
        "model.fit(train_generator, validation_data=valid_generator,epochs=12,batch_size=32,callbacks=[early_stopping],verbose=1)"
      ],
      "metadata": {
        "id": "ZXYeFSk2_Q46"
      },
      "execution_count": null,
      "outputs": []
    },
    {
      "cell_type": "code",
      "source": [
        "# Evaluate the model on test_generator\n",
        "model.evaluate(test_generator)"
      ],
      "metadata": {
        "id": "mVpijbMxdItL"
      },
      "execution_count": null,
      "outputs": []
    },
    {
      "cell_type": "code",
      "source": [
        "# Save the model to a file\n",
        "model.save(\"my_model.h5\")"
      ],
      "metadata": {
        "id": "nn2-0fPCWiLO"
      },
      "execution_count": null,
      "outputs": []
    }
  ]
}
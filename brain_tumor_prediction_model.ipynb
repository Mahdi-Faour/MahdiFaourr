{
  "nbformat": 4,
  "nbformat_minor": 0,
  "metadata": {
    "colab": {
      "provenance": [],
      "authorship_tag": "ABX9TyPbbhuuepB73/tlTlzvA02s",
      "include_colab_link": true
    },
    "kernelspec": {
      "name": "python3",
      "display_name": "Python 3"
    },
    "language_info": {
      "name": "python"
    }
  },
  "cells": [
    {
      "cell_type": "markdown",
      "metadata": {
        "id": "view-in-github",
        "colab_type": "text"
      },
      "source": [
        "<a href=\"https://colab.research.google.com/github/MahdiFaourr/MahdiFaourr/blob/main/brain_tumor_prediction_model.ipynb\" target=\"_parent\"><img src=\"https://colab.research.google.com/assets/colab-badge.svg\" alt=\"Open In Colab\"/></a>"
      ]
    },
    {
      "cell_type": "code",
      "source": [
        "# Install important libraries\n",
        "!pip install tensorflow-model-optimization\n",
        "!pip install opendatasets"
      ],
      "metadata": {
        "id": "4aleCgoQNA82"
      },
      "execution_count": null,
      "outputs": []
    },
    {
      "cell_type": "code",
      "source": [
        "# Import necessary libraries and functions\n",
        "import opendatasets as od\n",
        "from tensorflow.keras.preprocessing.image import ImageDataGenerator\n",
        "from tensorflow.keras.callbacks import EarlyStopping\n",
        "from tensorflow.keras.applications import MobileNet\n",
        "from tensorflow.keras.preprocessing.image import ImageDataGenerator\n",
        "from tensorflow.keras.layers import GlobalAveragePooling2D, Dense\n",
        "from tensorflow.keras.models import Sequential\n",
        "import tensorflow_model_optimization\n",
        "from tensorflow_model_optimization.sparsity.keras import prune_low_magnitude,PolynomialDecay,strip_pruning"
      ],
      "metadata": {
        "id": "T4Fea7MJjMPe"
      },
      "execution_count": null,
      "outputs": []
    },
    {
      "cell_type": "code",
      "source": [
        "# load the data into working directory\n",
        "od.download(\"https://www.kaggle.com/datasets/sartajbhuvaji/brain-tumor-classification-mri\")\n"
      ],
      "metadata": {
        "id": "nqn9vYC_K-8D"
      },
      "execution_count": null,
      "outputs": []
    },
    {
      "cell_type": "code",
      "source": [
        "# Set the ImageDataGenerator for data augmentation\n",
        "datagen=ImageDataGenerator(rescale=1.0/255.0,\n",
        "    rotation_range=20,\n",
        "    width_shift_range=0.1,\n",
        "    height_shift_range=0.1)"
      ],
      "metadata": {
        "id": "lgS2hM3bK--k"
      },
      "execution_count": 4,
      "outputs": []
    },
    {
      "cell_type": "code",
      "source": [
        "# Create train and test generators\n",
        "train_generator=datagen.flow_from_directory(\"/content/brain-tumor-classification-mri/Training\",class_mode=\"categorical\",batch_size=64)\n",
        "test_generator=datagen.flow_from_directory(\"/content/brain-tumor-classification-mri/Testing\",class_mode=\"categorical\",batch_size=64)"
      ],
      "metadata": {
        "id": "uTNCuJGvK_BF"
      },
      "execution_count": null,
      "outputs": []
    },
    {
      "cell_type": "code",
      "source": [
        "# Create an EarlyStopping callback\n",
        "early_stopping = EarlyStopping(monitor='val_accuracy', patience=12, restore_best_weights=True)"
      ],
      "metadata": {
        "id": "UCb_eo4pcxuO"
      },
      "execution_count": 13,
      "outputs": []
    },
    {
      "cell_type": "code",
      "source": [
        "# Create a model\n",
        "def create_model():\n",
        "    base_model = MobileNet(weights='imagenet', include_top=False, input_shape=(256, 256, 3))\n",
        "    model = Sequential()\n",
        "    model.add(base_model)\n",
        "    model.add(GlobalAveragePooling2D())\n",
        "    model.add(Dense(90, activation='relu'))\n",
        "    model.add(Dense(4, activation='softmax'))\n",
        "    model.compile(optimizer=\"adam\",loss=\"categorical_crossentropy\",metrics=['accuracy'])\n",
        "    return model"
      ],
      "metadata": {
        "id": "8bOhSQajbgpF"
      },
      "execution_count": 43,
      "outputs": []
    },
    {
      "cell_type": "code",
      "source": [
        "# Check model's summary\n",
        "model=create_model()\n",
        "model.summary()"
      ],
      "metadata": {
        "id": "Lk62skQZjk_Z"
      },
      "execution_count": null,
      "outputs": []
    },
    {
      "cell_type": "code",
      "source": [
        "# Train your model with callbacks\n",
        "model.fit(train_generator, validation_data=test_generator,epochs=15,batch_size=32,callbacks=[early_stopping],verbose=1)"
      ],
      "metadata": {
        "id": "ZXYeFSk2_Q46"
      },
      "execution_count": null,
      "outputs": []
    },
    {
      "cell_type": "code",
      "source": [
        "# Evaluate the model(with best weights) over test_generator\n",
        "model.evaluate(test_generator)"
      ],
      "metadata": {
        "id": "ROAOqBnRCsES"
      },
      "execution_count": null,
      "outputs": []
    },
    {
      "cell_type": "code",
      "source": [
        "# Set the pruning parameters\n",
        "num_epochs = 12\n",
        "begin_epoch = 0\n",
        "end_epoch = num_epochs\n",
        "pruning_params = {\n",
        "    'pruning_schedule': PolynomialDecay(initial_sparsity=0.2, final_sparsity=0.8, begin_step=begin_epoch, end_step=end_epoch, frequency=10)\n",
        "}\n",
        "\n",
        "# Apply pruning to the original model using the specified pruning parameters\n",
        "pruned_model = prune_low_magnitude(model, **pruning_params)\n",
        "\n",
        "# Compile the pruned model with the same settings as the original model\n",
        "pruned_model.compile(optimizer='adam', loss='categorical_crossentropy', metrics=['accuracy'])\n"
      ],
      "metadata": {
        "id": "gwcai27NuJM1"
      },
      "execution_count": 39,
      "outputs": []
    },
    {
      "cell_type": "code",
      "source": [
        "# Evaluate the pruned_model over testing data\n",
        "pruned_model.evaluate(test_generator)"
      ],
      "metadata": {
        "id": "2hNcnrMPaJJF"
      },
      "execution_count": null,
      "outputs": []
    },
    {
      "cell_type": "code",
      "source": [
        "# Check the summary of the pruned model\n",
        "pruned_model.summary()"
      ],
      "metadata": {
        "id": "AXiODqKOXeBs"
      },
      "execution_count": null,
      "outputs": []
    },
    {
      "cell_type": "code",
      "source": [
        "# Save pruned model as a file\n",
        "pruned_model.save(\"my_model.h5\")"
      ],
      "metadata": {
        "id": "B-hjigTYlnFn"
      },
      "execution_count": null,
      "outputs": []
    }
  ]
}
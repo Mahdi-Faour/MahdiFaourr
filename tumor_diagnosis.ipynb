{
  "nbformat": 4,
  "nbformat_minor": 0,
  "metadata": {
    "colab": {
      "provenance": [],
      "authorship_tag": "ABX9TyPm8PrRLWVk2gIjsfBUUn3Q",
      "include_colab_link": true
    },
    "kernelspec": {
      "name": "python3",
      "display_name": "Python 3"
    },
    "language_info": {
      "name": "python"
    }
  },
  "cells": [
    {
      "cell_type": "markdown",
      "metadata": {
        "id": "view-in-github",
        "colab_type": "text"
      },
      "source": [
        "<a href=\"https://colab.research.google.com/github/MahdiFaourr/MahdiFaourr/blob/main/tumor_diagnosis.ipynb\" target=\"_parent\"><img src=\"https://colab.research.google.com/assets/colab-badge.svg\" alt=\"Open In Colab\"/></a>"
      ]
    },
    {
      "cell_type": "code",
      "execution_count": null,
      "metadata": {
        "id": "_upaqwuwNhOI"
      },
      "outputs": [],
      "source": [
        "# Install opendatasets library\n",
        "!pip install opendatasets"
      ]
    },
    {
      "cell_type": "code",
      "source": [
        "# Install gradio library\n",
        "!pip install gradio==3.14.0"
      ],
      "metadata": {
        "id": "IVscOTV2qGVe"
      },
      "execution_count": null,
      "outputs": []
    },
    {
      "cell_type": "code",
      "source": [
        "# Import necessary libraries and functions\n",
        "import opendatasets as od\n",
        "import os\n",
        "import shutil\n",
        "from sklearn.model_selection import train_test_split\n",
        "from tensorflow.keras.preprocessing.image import ImageDataGenerator\n",
        "from tensorflow.keras.layers import Flatten,Dense,Dropout,Conv2D,MaxPooling2D,Input\n",
        "from tensorflow.keras.models import Model\n",
        "from tensorflow.keras.metrics import Precision\n",
        "from keras.callbacks import ModelCheckpoint\n",
        "import numpy as np\n",
        "import gradio as gr\n",
        "from tensorflow.keras.preprocessing import image\n",
        "from PIL import Image"
      ],
      "metadata": {
        "id": "pl1ITeFIn0fW"
      },
      "execution_count": 5,
      "outputs": []
    },
    {
      "cell_type": "code",
      "source": [
        "# Download the dataset from kaggle\n",
        "od.download(\"https://www.kaggle.com/datasets/navoneel/brain-mri-images-for-brain-tumor-detection \")"
      ],
      "metadata": {
        "id": "PXW9yOkCNhti"
      },
      "execution_count": null,
      "outputs": []
    },
    {
      "cell_type": "code",
      "source": [
        "SEED=42 #randomseed=42"
      ],
      "metadata": {
        "id": "7-88DMZGScNU"
      },
      "execution_count": null,
      "outputs": []
    },
    {
      "cell_type": "code",
      "source": [
        "# Define the root directories for images with and without tumors\n",
        "root_dir_1=\"/content/brain-mri-images-for-brain-tumor-detection /no\"\n",
        "root_dir_2=\"/content/brain-mri-images-for-brain-tumor-detection /yes\"\n",
        "# Define the root directory for all images\n",
        "root_dir=\"/content/brain-mri-images-for-brain-tumor-detection\"\n",
        "# Get a list of filenames for images with no tumor from root_dir_1\n",
        "no_tumor_images=[file for file in os.listdir(root_dir_1)]\n",
        "# Get a list of filenames for images with tumors from root_dir_2\n",
        "with_tumor_images=[file for file in os.listdir(root_dir_2)]\n",
        "# Split the list of filenames for images with no tumor into training and validation sets\n",
        "no_tumor_train_images,no_tumor_valid_images=train_test_split(no_tumor_images,test_size=0.2)\n",
        "# Split the list of filenames for images with tumors into training and validation sets\n",
        "with_tumor_train_images,with_tumor_valid_images=train_test_split(with_tumor_images,test_size=0.2)"
      ],
      "metadata": {
        "id": "zQOYbaHQNhv6"
      },
      "execution_count": null,
      "outputs": []
    },
    {
      "cell_type": "code",
      "source": [
        "# Define the classes (categories) for classification\n",
        "classes = ['no', 'yes']\n",
        "\n",
        "# Create directories for training and validation sets for the 'no' class\n",
        "train_dir_no_file = os.path.join(root_dir, \"train\", classes[0])\n",
        "# Create the directory if it doesn't exist already\n",
        "os.makedirs(train_dir_no_file, exist_ok=True)\n",
        "\n",
        "# Create directories for training and validation sets for the 'yes' class\n",
        "train_dir_yes_file = os.path.join(root_dir, \"train\", classes[1])\n",
        "# Create the directory if it doesn't exist already\n",
        "os.makedirs(train_dir_yes_file, exist_ok=True)\n",
        "\n",
        "# Create directories for training and validation sets for the 'no' class\n",
        "valid_dir_no_file = os.path.join(root_dir, \"valid\", classes[0])\n",
        "# Create the directory if it doesn't exist already\n",
        "os.makedirs(valid_dir_no_file, exist_ok=True)\n",
        "\n",
        "# Create directories for training and validation sets for the 'yes' class\n",
        "valid_dir_yes_file = os.path.join(root_dir, \"valid\", classes[1])\n",
        "# Create the directory if it doesn't exist already\n",
        "os.makedirs(valid_dir_yes_file, exist_ok=True)"
      ],
      "metadata": {
        "id": "9dwBRsIpfNuT"
      },
      "execution_count": null,
      "outputs": []
    },
    {
      "cell_type": "code",
      "source": [
        "# Loop through pairs of filenames from the training sets of images with no tumor and images with tumor\n",
        "for img, image in zip(no_tumor_train_images, with_tumor_train_images):\n",
        "    # Define source and destination paths for images with no tumor\n",
        "    source_path_1 = os.path.join(root_dir_1, img)\n",
        "    destination_path_1 = os.path.join(train_dir_no_file, img)\n",
        "    # Move images with no tumor from source to destination\n",
        "    shutil.move(source_path_1, destination_path_1)\n",
        "\n",
        "    # Define source and destination paths for images with tumor\n",
        "    source_path_2 = os.path.join(root_dir_2, image)\n",
        "    destination_path_2 = os.path.join(train_dir_yes_file, image)\n",
        "    # Move images with tumor from source to destination\n",
        "    shutil.move(source_path_2, destination_path_2)\n"
      ],
      "metadata": {
        "id": "9UjRcC7UNh65"
      },
      "execution_count": null,
      "outputs": []
    },
    {
      "cell_type": "code",
      "source": [
        "# Loop through pairs of filenames from the validation sets of images with no tumor and images with tumor\n",
        "for img, image in zip(no_tumor_valid_images, with_tumor_valid_images):\n",
        "    # Define source and destination paths for images with no tumor\n",
        "    source_path_1 = os.path.join(root_dir_1, img)\n",
        "    destination_path_1 = os.path.join(valid_dir_no_file, img)\n",
        "    # Move images with no tumor from source to destination\n",
        "    shutil.move(source_path_1, destination_path_1)\n",
        "\n",
        "    # Define source and destination paths for images with tumor\n",
        "    source_path_2 = os.path.join(root_dir_2, image)\n",
        "    destination_path_2 = os.path.join(valid_dir_yes_file, image)\n",
        "    # Move images with tumor from source to destination\n",
        "    shutil.move(source_path_2, destination_path_2)"
      ],
      "metadata": {
        "id": "csqcIvM5Nh9w"
      },
      "execution_count": null,
      "outputs": []
    },
    {
      "cell_type": "code",
      "source": [
        "# Define the parameters for data augmentation and preprocessing\n",
        "datagen = ImageDataGenerator(\n",
        "    rescale=1./255,  # Rescale pixel values to [0, 1]\n",
        "    rotation_range=15,  # Rotate images randomly by up to 15 degrees\n",
        "    width_shift_range=0.1,  # Shift images horizontally by up to 10% of the width\n",
        "    height_shift_range=0.1,  # Shift images vertically by up to 10% of the height\n",
        "    shear_range=0.1,  # Shear transformations with a maximum shear intensity of 10%\n",
        "    zoom_range=0.1,  # Zoom in randomly by up to 10%\n",
        "    horizontal_flip=True,  # Flip images horizontally\n",
        "    vertical_flip=True,  # Flip images vertically\n",
        "    fill_mode='nearest'  # Fill missing pixels using the nearest value\n",
        ")\n",
        "\n",
        "# Define the directory containing your image data\n",
        "train_dir = \"/content/brain-mri-images-for-brain-tumor-detection/train\"\n",
        "valid_dir= \"/content/brain-mri-images-for-brain-tumor-detection/valid\"\n",
        "\n",
        "# Create an ImageDataGenerator for the training data\n",
        "train_generator =datagen.flow_from_directory(\n",
        "    train_dir,\n",
        "    batch_size=32,\n",
        "    class_mode='binary'\n",
        ")\n",
        "\n",
        "valid_generator=datagen.flow_from_directory(\n",
        "    valid_dir,\n",
        "    batch_size=32,\n",
        "    class_mode='binary'\n",
        ")\n"
      ],
      "metadata": {
        "id": "t03AqNdIorjM"
      },
      "execution_count": null,
      "outputs": []
    },
    {
      "cell_type": "code",
      "source": [
        "# Define input shape\n",
        "input_shape = (256, 256, 3)  #  Input images are 256x256 RGB images\n",
        "\n",
        "# Define input layer\n",
        "inputs = Input(shape=input_shape)\n",
        "\n",
        "# Convolutional layers\n",
        "layer_1= Conv2D(6, kernel_size=(3, 3), activation='relu')(inputs)\n",
        "layer_2 =MaxPooling2D(pool_size=(2, 2))(layer_1)\n",
        "layer_3 = Conv2D(12, kernel_size=(3, 3), activation='relu')(layer_2)\n",
        "layer_4 = MaxPooling2D(pool_size=(2, 2))(layer_3)\n",
        "\n",
        "# Flatten layer\n",
        "layer_5= Flatten()(layer_4)\n",
        "\n",
        "# Dense layers\n",
        "layer_6 = Dense(100, activation='relu')(layer_5)\n",
        "outputs = Dense(1, activation='sigmoid')(layer_6)  # Output layer with sigmoid activation for binary classification\n",
        "\n",
        "# Create the model\n",
        "model = Model(inputs=inputs, outputs=outputs)\n",
        "\n",
        "# Compile the model\n",
        "model.compile(optimizer='adam', loss='binary_crossentropy', metrics=['accuracy',Precision()])\n",
        "\n",
        "# Print model summary\n",
        "model.summary()\n"
      ],
      "metadata": {
        "colab": {
          "base_uri": "https://localhost:8080/"
        },
        "id": "A-z8WEKKq-aI",
        "outputId": "31f85e77-b202-4352-813f-55222326e8e3"
      },
      "execution_count": null,
      "outputs": [
        {
          "output_type": "stream",
          "name": "stdout",
          "text": [
            "Model: \"model_2\"\n",
            "_________________________________________________________________\n",
            " Layer (type)                Output Shape              Param #   \n",
            "=================================================================\n",
            " input_3 (InputLayer)        [(None, 256, 256, 3)]     0         \n",
            "                                                                 \n",
            " conv2d_4 (Conv2D)           (None, 254, 254, 6)       168       \n",
            "                                                                 \n",
            " max_pooling2d (MaxPooling2  (None, 127, 127, 6)       0         \n",
            " D)                                                              \n",
            "                                                                 \n",
            " conv2d_5 (Conv2D)           (None, 125, 125, 12)      660       \n",
            "                                                                 \n",
            " max_pooling2d_1 (MaxPoolin  (None, 62, 62, 12)        0         \n",
            " g2D)                                                            \n",
            "                                                                 \n",
            " flatten_2 (Flatten)         (None, 46128)             0         \n",
            "                                                                 \n",
            " dense_4 (Dense)             (None, 100)               4612900   \n",
            "                                                                 \n",
            " dense_5 (Dense)             (None, 1)                 101       \n",
            "                                                                 \n",
            "=================================================================\n",
            "Total params: 4613829 (17.60 MB)\n",
            "Trainable params: 4613829 (17.60 MB)\n",
            "Non-trainable params: 0 (0.00 Byte)\n",
            "_________________________________________________________________\n"
          ]
        }
      ]
    },
    {
      "cell_type": "code",
      "source": [
        "# Define a checkpoint callback to save the best weights\n",
        "checkpoint = ModelCheckpoint('best_weights.h5', monitor='val_accuracy', save_best_only=True, mode='max', verbose=1)\n",
        "\n",
        "# Train your model with the callback\n",
        "history=model.fit(train_generator,validation_data=(valid_generator),epochs=20,batch_size=len(train_generator),callbacks=[checkpoint])"
      ],
      "metadata": {
        "id": "hZXch7BBq-cv"
      },
      "execution_count": null,
      "outputs": []
    },
    {
      "cell_type": "code",
      "source": [
        "# Load the best weights into your model\n",
        "model.load_weights('best_weights.h5')"
      ],
      "metadata": {
        "id": "k90lN-i-orsd"
      },
      "execution_count": null,
      "outputs": []
    },
    {
      "cell_type": "code",
      "source": [
        "# Evaluate the model over valid_generator\n",
        "model.evaluate(valid_generator)"
      ],
      "metadata": {
        "colab": {
          "base_uri": "https://localhost:8080/"
        },
        "id": "lgbXurH5sliq",
        "outputId": "83c0bfda-dfba-446e-f387-de6cda52cda5"
      },
      "execution_count": null,
      "outputs": [
        {
          "output_type": "stream",
          "name": "stdout",
          "text": [
            "2/2 [==============================] - 1s 100ms/step - loss: 0.4115 - accuracy: 0.8000 - precision_2: 0.8000\n"
          ]
        },
        {
          "output_type": "execute_result",
          "data": {
            "text/plain": [
              "[0.41145434975624084, 0.800000011920929, 0.800000011920929]"
            ]
          },
          "metadata": {},
          "execution_count": 26
        }
      ]
    },
    {
      "cell_type": "code",
      "source": [
        "# `history.history` is a dictionary containing the training and validation metrics\n",
        "import matplotlib.pyplot as plt\n",
        "# Plotting accuracy\n",
        "plt.subplot(2, 1, 1)  # 2 rows, 1 column, plot 1 (top subplot)\n",
        "plt.plot(history.history['accuracy'])\n",
        "plt.plot(history.history['val_accuracy'])\n",
        "plt.title('Model Accuracy')\n",
        "plt.xlabel('Epoch')\n",
        "plt.ylabel('Accuracy')\n",
        "plt.legend(['Train', 'Validation'], loc='upper left')\n",
        "\n",
        "# Plotting precision\n",
        "plt.subplot(2, 1, 2)  # 2 rows, 1 column, plot 2 (bottom subplot)\n",
        "plt.plot(history.history['precision_2'])\n",
        "plt.plot(history.history['val_precision_2'])\n",
        "plt.title('Model Precision')\n",
        "plt.xlabel('Epoch')\n",
        "plt.ylabel('Precision')\n",
        "plt.legend(['Train', 'Validation'], loc='upper left')\n",
        "\n",
        "plt.tight_layout()  # Adjust subplot layout to avoid overlap\n",
        "\n",
        "# Show plot\n",
        "plt.show()"
      ],
      "metadata": {
        "colab": {
          "base_uri": "https://localhost:8080/",
          "height": 486
        },
        "id": "4bvAVlR4yqrk",
        "outputId": "1df1eee7-bc57-4c43-adb7-d362c13ed537"
      },
      "execution_count": null,
      "outputs": [
        {
          "output_type": "display_data",
          "data": {
            "text/plain": [
              "<Figure size 640x480 with 2 Axes>"
            ],
            "image/png": "[encoded data removed]"
          },
          "metadata": {}
        }
      ]
    },
    {
      "cell_type": "code",
      "source": [
        "# Save the model as an HDF5 file\n",
        "model.save('brain_tumor_model.h5')"
      ],
      "metadata": {
        "id": "c6DrgAuazAYJ"
      },
      "execution_count": null,
      "outputs": []
    },
    {
      "cell_type": "code",
      "source": [
        "# Define a function to make predictions\n",
        "def diagnosis(img):\n",
        "    # Convert Gradio Image object to PIL Image object\n",
        "    img = Image.fromarray(img.astype('uint8'), 'RGB')\n",
        "\n",
        "    # Resize the image to match the model's expected input size\n",
        "    img = img.resize((256, 256))\n",
        "\n",
        "    # Convert the image to a numpy array\n",
        "    img_array = image.img_to_array(img)\n",
        "\n",
        "    # Expand the dimensions to match the model's expected input shape\n",
        "    img_array = np.expand_dims(img_array, axis=0)\n",
        "\n",
        "    # Use the model to predict\n",
        "    prediction = model.predict(img_array)[0]\n",
        "\n",
        "    # Check if prediction is positive or negative\n",
        "    if prediction <= 0.5:\n",
        "        return 'Tumor presence: negative.'\n",
        "    else:\n",
        "        return 'Tumor presence: positive.'"
      ],
      "metadata": {
        "id": "J_UUKd8yLFZ1"
      },
      "execution_count": 15,
      "outputs": []
    },
    {
      "cell_type": "code",
      "source": [
        "# Example usage 1\n",
        "image_path_1=\"/content/brain-mri-images-for-brain-tumor-detection/valid/no/37 no.jpg\"\n",
        "diagnosis(image_path_1)"
      ],
      "metadata": {
        "colab": {
          "base_uri": "https://localhost:8080/"
        },
        "id": "Tt0HbGh1zAc5",
        "outputId": "3e654b3d-9cd2-447c-ce40-1db303705915"
      },
      "execution_count": null,
      "outputs": [
        {
          "output_type": "stream",
          "name": "stdout",
          "text": [
            "1/1 [==============================] - 0s 143ms/step\n",
            "Tumor presence: negative.\n"
          ]
        }
      ]
    },
    {
      "cell_type": "code",
      "source": [
        "# Example usage 2\n",
        "image_path_2=\"/content/brain-mri-images-for-brain-tumor-detection/valid/yes/Y156.JPG\"\n",
        "diagnosis(image_path_2)"
      ],
      "metadata": {
        "colab": {
          "base_uri": "https://localhost:8080/"
        },
        "id": "GcHngIZdslk7",
        "outputId": "aa124036-94cb-4e75-a8b7-113c0af56f8e"
      },
      "execution_count": null,
      "outputs": [
        {
          "output_type": "stream",
          "name": "stdout",
          "text": [
            "1/1 [==============================] - 0s 37ms/step\n",
            " Tumor presenece: positive.\n"
          ]
        }
      ]
    },
    {
      "cell_type": "code",
      "source": [
        "# Define the input component for the Gradio interface\n",
        "inputs = gr.inputs.Image(shape=(256, 256))\n",
        "\n",
        "# Define the output component for the Gradio interface\n",
        "outputs = gr.outputs.Label()\n",
        "\n",
        "# Create the Gradio interface\n",
        "gr.Interface(diagnosis, inputs, outputs, capture_session=True,share=True).launch(debug='True')\n"
      ],
      "metadata": {
        "colab": {
          "base_uri": "https://localhost:8080/",
          "height": 879
        },
        "id": "Y-9hDkWuzAaR",
        "outputId": "281c0505-e020-4f65-a895-5141b75d5a38"
      },
      "execution_count": null,
      "outputs": [
        {
          "output_type": "stream",
          "name": "stderr",
          "text": [
            "/usr/local/lib/python3.10/dist-packages/gradio/inputs.py:256: UserWarning: Usage of gradio.inputs is deprecated, and will not be supported in the future, please import your component from gradio.components\n",
            "  warnings.warn(\n",
            "/usr/local/lib/python3.10/dist-packages/gradio/deprecation.py:40: UserWarning: `optional` parameter is deprecated, and it has no effect\n",
            "  warnings.warn(value)\n",
            "/usr/local/lib/python3.10/dist-packages/gradio/outputs.py:196: UserWarning: Usage of gradio.outputs is deprecated, and will not be supported in the future, please import your components from gradio.components\n",
            "  warnings.warn(\n",
            "/usr/local/lib/python3.10/dist-packages/gradio/deprecation.py:40: UserWarning: The 'type' parameter has been deprecated. Use the Number component instead.\n",
            "  warnings.warn(value)\n",
            "/usr/local/lib/python3.10/dist-packages/gradio/deprecation.py:40: UserWarning: `capture_session` parameter is deprecated, and it has no effect\n",
            "  warnings.warn(value)\n",
            "/usr/local/lib/python3.10/dist-packages/gradio/deprecation.py:43: UserWarning: You have unused kwarg parameters in Interface, please remove them: {'share': True}\n",
            "  warnings.warn(\n"
          ]
        },
        {
          "output_type": "stream",
          "name": "stdout",
          "text": [
            "Colab notebook detected. This cell will run indefinitely so that you can see errors and logs. To turn off, set debug=False in launch().\n",
            "Note: opening Chrome Inspector may crash demo inside Colab notebooks.\n",
            "\n",
            "To create a public link, set `share=True` in `launch()`.\n"
          ]
        },
        {
          "output_type": "display_data",
          "data": {
            "text/plain": [
              "<IPython.core.display.Javascript object>"
            ],
            "application/javascript": [
              "(async (port, path, width, height, cache, element) => {\n",
              "                        if (!google.colab.kernel.accessAllowed && !cache) {\n",
              "                            return;\n",
              "                        }\n",
              "                        element.appendChild(document.createTextNode(''));\n",
              "                        const url = await google.colab.kernel.proxyPort(port, {cache});\n",
              "\n",
              "                        const external_link = document.createElement('div');\n",
              "                        external_link.innerHTML = `\n",
              "                            <div style=\"font-family: monospace; margin-bottom: 0.5rem\">\n",
              "                                Running on <a href=${new URL(path, url).toString()} target=\"_blank\">\n",
              "                                    https://localhost:${port}${path}\n",
              "                                </a>\n",
              "                            </div>\n",
              "                        `;\n",
              "                        element.appendChild(external_link);\n",
              "\n",
              "                        const iframe = document.createElement('iframe');\n",
              "                        iframe.src = new URL(path, url).toString();\n",
              "                        iframe.height = height;\n",
              "                        iframe.allow = \"autoplay; camera; microphone; clipboard-read; clipboard-write;\"\n",
              "                        iframe.width = width;\n",
              "                        iframe.style.border = 0;\n",
              "                        element.appendChild(iframe);\n",
              "                    })(7860, \"/\", \"100%\", 500, false, window.element)"
            ]
          },
          "metadata": {}
        },
        {
          "output_type": "stream",
          "name": "stdout",
          "text": [
            "1/1 [==============================] - 0s 42ms/step\n",
            "1/1 [==============================] - 0s 50ms/step\n"
          ]
        }
      ]
    },
    {
      "cell_type": "code",
      "source": [],
      "metadata": {
        "id": "eKMOWRXF74CA"
      },
      "execution_count": null,
      "outputs": []
    },
    {
      "cell_type": "code",
      "source": [],
      "metadata": {
        "id": "jeuse0to74Ev"
      },
      "execution_count": null,
      "outputs": []
    }
  ]
}
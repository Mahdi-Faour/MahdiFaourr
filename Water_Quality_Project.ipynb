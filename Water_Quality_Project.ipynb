{
  "nbformat": 4,
  "nbformat_minor": 0,
  "metadata": {
    "colab": {
      "provenance": [],
      "authorship_tag": "ABX9TyP+OzgA1MarfCaI3oITR6wp",
      "include_colab_link": true
    },
    "kernelspec": {
      "name": "python3",
      "display_name": "Python 3"
    },
    "language_info": {
      "name": "python"
    }
  },
  "cells": [
    {
      "cell_type": "markdown",
      "metadata": {
        "id": "view-in-github",
        "colab_type": "text"
      },
      "source": [
        "<a href=\"https://colab.research.google.com/github/MahdiFaourr/MahdiFaourr/blob/main/Water_Quality_Project.ipynb\" target=\"_parent\"><img src=\"https://colab.research.google.com/assets/colab-badge.svg\" alt=\"Open In Colab\"/></a>"
      ]
    },
    {
      "cell_type": "code",
      "source": [
        "# Download opendatasets library\n",
        "!pip install opendatasets"
      ],
      "metadata": {
        "id": "ZPsBYd4IPIFj"
      },
      "execution_count": null,
      "outputs": []
    },
    {
      "cell_type": "code",
      "source": [
        "# Import necessary libraries and functions\n",
        "import opendatasets as od\n",
        "import pandas as pd\n",
        "import numpy as np\n",
        "import matplotlib.pyplot as plt\n",
        "from imblearn.over_sampling import RandomOverSampler\n",
        "from sklearn.model_selection import train_test_split, cross_validate, GridSearchCV\n",
        "from sklearn.linear_model import LogisticRegression\n",
        "from sklearn.tree import ExtraTreeClassifier\n",
        "from sklearn.ensemble import AdaBoostClassifier\n",
        "from sklearn.svm import SVC\n",
        "from sklearn.ensemble import RandomForestClassifier\n",
        "from sklearn.metrics import accuracy_score, precision_score, recall_score\n",
        "from flask import Flask, render_template, request\n",
        "import pickle\n",
        "import pandas as pd"
      ],
      "metadata": {
        "id": "GsqSpULAx2xz"
      },
      "execution_count": null,
      "outputs": []
    },
    {
      "cell_type": "code",
      "source": [
        "# Load the data from kaggle into your working enviroment\n",
        "od.download(\"https://www.kaggle.com/datasets/devanshibavaria/water-potability-dataset-with-10-parameteres\")"
      ],
      "metadata": {
        "id": "OBI64geQPIHZ"
      },
      "execution_count": null,
      "outputs": []
    },
    {
      "cell_type": "code",
      "source": [
        "# Read and display the data\n",
        "data=pd.read_csv(\"/content/water-potability-dataset-with-10-parameteres/water_potability.csv\")\n",
        "data.head()"
      ],
      "metadata": {
        "id": "4Av4C5XMPIKB"
      },
      "execution_count": null,
      "outputs": []
    },
    {
      "cell_type": "code",
      "source": [
        "# Data shape\n",
        "print(\"This data contains: \"+str(data.shape[0])+\" rows and \"+str(data.shape[1])+\" columns.\")"
      ],
      "metadata": {
        "id": "jSzSBbIifxWf"
      },
      "execution_count": null,
      "outputs": []
    },
    {
      "cell_type": "code",
      "source": [
        "# Data info\n",
        "data.info()"
      ],
      "metadata": {
        "id": "tw8J4lRmgHF-"
      },
      "execution_count": null,
      "outputs": []
    },
    {
      "cell_type": "code",
      "source": [
        "# Search for nulls\n",
        "data.isnull().sum()"
      ],
      "metadata": {
        "id": "4pVj_xGIfxZN"
      },
      "execution_count": null,
      "outputs": []
    },
    {
      "cell_type": "code",
      "source": [
        "# Iterate over columns with null values and fill them with the mean of the column\n",
        "columns_with_nulls=['ph','Sulfate','Trihalomethanes']\n",
        "for column in columns_with_nulls:\n",
        "   data[column]=data[column].fillna(data[column].mean())"
      ],
      "metadata": {
        "id": "igOqZn3ufxbv"
      },
      "execution_count": null,
      "outputs": []
    },
    {
      "cell_type": "code",
      "source": [
        "# Check the value_counts of 'Potability' column\n",
        "data['Potability'].value_counts()"
      ],
      "metadata": {
        "id": "YudQA9pqh-CS"
      },
      "execution_count": null,
      "outputs": []
    },
    {
      "cell_type": "code",
      "source": [
        "# Create two sub datas from your original data\n",
        "data_drinkabel_water=data[data['Potability']==1]\n",
        "data_non_drinkabel_water=data[data['Potability']==0]"
      ],
      "metadata": {
        "id": "SOy60lj5loXg"
      },
      "execution_count": null,
      "outputs": []
    },
    {
      "cell_type": "code",
      "source": [
        "# Create subplots with 2 rows and 5 columns\n",
        "fig, axes = plt.subplots(nrows=3, ncols=3, figsize=(15, 6))\n",
        "\n",
        "# Flatten the 2D array of subplots into a 1D array\n",
        "axes = axes.flatten()\n",
        "df=data.drop('Potability',axis=1)\n",
        "# Loop through each column and plot a histogram in the corresponding subplot\n",
        "for i, column in enumerate(df.columns):\n",
        "     axes[i].hist(data_drinkabel_water[column], bins=10)  # Adjust the bins as needed\n",
        "     axes[i].set_title(column)\n",
        "     axes[i].set_xlabel('Values')\n",
        "     axes[i].set_ylabel('Frequency')\n",
        "\n",
        "# Adjust layout to prevent overlapping\n",
        "plt.tight_layout()\n",
        "\n",
        "# Show the plots\n",
        "plt.show()\n"
      ],
      "metadata": {
        "id": "lTXcsx9vloek"
      },
      "execution_count": null,
      "outputs": []
    },
    {
      "cell_type": "code",
      "source": [
        "# Create subplots with 2 rows and 5 columns\n",
        "fig, axes = plt.subplots(nrows=3, ncols=3, figsize=(15, 6))\n",
        "\n",
        "# Flatten the 2D array of subplots into a 1D array\n",
        "axes = axes.flatten()\n",
        "df=data.drop('Potability',axis=1)\n",
        "# Loop through each column and plot a histogram in the corresponding subplot\n",
        "for i, column in enumerate(df.columns):\n",
        "     axes[i].hist(data_non_drinkabel_water[column], bins=10)  # Adjust the bins as needed\n",
        "     axes[i].set_title(column)\n",
        "     axes[i].set_xlabel('Values')\n",
        "     axes[i].set_ylabel('Frequency')\n",
        "\n",
        "# Adjust layout to prevent overlapping\n",
        "plt.tight_layout()\n",
        "\n",
        "# Show the plots\n",
        "plt.show()\n"
      ],
      "metadata": {
        "id": "AKyAQbfov9Gx"
      },
      "execution_count": null,
      "outputs": []
    },
    {
      "cell_type": "code",
      "source": [
        "# Over sample minority class\n",
        "x=data.drop('Potability',axis=1).values\n",
        "y=data['Potability'].values\n",
        "over=RandomOverSampler(sampling_strategy=0.8)\n",
        "x,y=over.fit_resample(x,y)"
      ],
      "metadata": {
        "id": "CfcU_Z4Xizva"
      },
      "execution_count": null,
      "outputs": []
    },
    {
      "cell_type": "code",
      "source": [
        "# Split the data into training and testing parts\n",
        "x_train,x_test,y_train,y_test=train_test_split(x,y,test_size=0.1,random_state=42)\n",
        "print(x_train.shape,y_train.shape)\n",
        "print(x_test.shape,y_test.shape)"
      ],
      "metadata": {
        "id": "kRyw6r6qizzE"
      },
      "execution_count": null,
      "outputs": []
    },
    {
      "cell_type": "code",
      "source": [
        "# Create 5 models to handle the classification task\n",
        "LR=LogisticRegression()\n",
        "\n",
        "tree=ExtraTreeClassifier()\n",
        "\n",
        "adab=AdaBoostClassifier()\n",
        "\n",
        "svc=SVC()\n",
        "\n",
        "forest=RandomForestClassifier()"
      ],
      "metadata": {
        "id": "PgytE_12iz2x"
      },
      "execution_count": null,
      "outputs": []
    },
    {
      "cell_type": "code",
      "source": [
        "# Check the performance of the created models using the cross_validate technique\n",
        "models = [LR, tree, adab,forest,svc]\n",
        "for model in models:\n",
        "    print(type(model).__name__)  # Print the name of the model class\n",
        "    scores = cross_validate(model, x, y, cv=3, scoring=['accuracy', 'precision', 'recall'])\n",
        "\n",
        "    # Print accuracy scores\n",
        "    print(\"Accuracy %:\", np.mean(scores['test_accuracy'])*100)\n",
        "    print(\"Precision %:\", np.mean(scores['test_accuracy'])*100)\n",
        "    print(\"Recall %:\", np.mean(scores['test_accuracy'])*100)\n",
        "    print(\"----------------\")"
      ],
      "metadata": {
        "id": "eFanfhGmiz9d"
      },
      "execution_count": null,
      "outputs": []
    },
    {
      "cell_type": "code",
      "source": [
        "# Create a dictionary for GridSearchCV-usage\n",
        "param_grid = {\n",
        "    'n_estimators': [50, 100, 200],\n",
        "    'max_depth': [None, 10, 20],\n",
        "    'min_samples_split': [2, 5, 10],\n",
        "    'min_samples_leaf': [1, 2, 4]\n",
        "}\n",
        "# Create the GridSearchCV object and use the model with best performance\n",
        "grid_search = GridSearchCV(estimator=forest, param_grid=param_grid,\n",
        "                           scoring='accuracy', cv=3, n_jobs=-1)\n",
        "\n",
        "# Fit the GridSearchCV object to the data\n",
        "grid_search.fit(x_train, y_train)\n",
        "\n",
        "# Print the best hyperparameters\n",
        "print(\"Best Hyperparameters:\", grid_search.best_params_)"
      ],
      "metadata": {
        "id": "uU50kVIKi0AW"
      },
      "execution_count": null,
      "outputs": []
    },
    {
      "cell_type": "code",
      "source": [
        "# Choose the best hyperparameters and redfine your model\n",
        "tree=RandomForestClassifier(max_depth=None,min_samples_leaf=2,min_samples_split=2,n_estimators=100)\n",
        "tree.fit(x_train,y_train)"
      ],
      "metadata": {
        "id": "UcynotEB4HER"
      },
      "execution_count": null,
      "outputs": []
    },
    {
      "cell_type": "code",
      "source": [
        "# Test the performance of your model\n",
        "y_hat=tree.predict(x_test)\n",
        "print(\"accuracy%:\",accuracy_score(y_hat,y_test)*100)\n",
        "print(\"precision%:\",precision_score(y_hat,y_test)*100)\n",
        "print(\"recall%:\",recall_score(y_hat,y_test)*100)"
      ],
      "metadata": {
        "id": "Q5SdUz-84fYY"
      },
      "execution_count": null,
      "outputs": []
    },
    {
      "cell_type": "code",
      "source": [
        "# Feed the model with testing data\n",
        "tree.fit(x_test,y_test)"
      ],
      "metadata": {
        "id": "8VqdlvuA4a7f"
      },
      "execution_count": null,
      "outputs": []
    },
    {
      "cell_type": "code",
      "source": [
        "# Save the model to a file using pickle\n",
        "with open('tree.pkl', 'wb') as file:\n",
        "    pickle.dump(tree, file)"
      ],
      "metadata": {
        "id": "eIlbp13W6REK"
      },
      "execution_count": null,
      "outputs": []
    },
    {
      "cell_type": "code",
      "source": [
        "# Create a folder and name it template for example, and inside, create the following (index.html):\n",
        "<!DOCTYPE html>\n",
        "<html lang=\"en\">\n",
        "<head>\n",
        "    <meta charset=\"UTF-8\">\n",
        "    <meta name=\"viewport\" content=\"width=device-width, initial-scale=1.0\">\n",
        "    <title>Water Potability Prediction</title>\n",
        "    <style>\n",
        "        body {\n",
        "            display: grid;\n",
        "            place-items: center;\n",
        "            height: 100vh;\n",
        "            margin: 0;\n",
        "        }\n",
        "\n",
        "        form {\n",
        "            display: flex;\n",
        "            flex-direction: row;\n",
        "            gap: 10px;\n",
        "            align-items: center;\n",
        "        }\n",
        "\n",
        "        label {\n",
        "            text-align: right;\n",
        "            padding-right: 10px;\n",
        "        }\n",
        "\n",
        "        input {\n",
        "            width: 100px;  /* Adjust the width as needed */\n",
        "        }\n",
        "    </style>\n",
        "</head>\n",
        "<body>\n",
        "    <h1>Water Potability Prediction</h1>\n",
        "    <form action=\"/predict\" method=\"post\">\n",
        "        {% for column in feature_columns %}\n",
        "        <label for=\"{{ column }}\">{{ column }}:</label>\n",
        "        <input type=\"text\" name=\"{{ column }}\" required>\n",
        "        {% endfor %}\n",
        "        <input type=\"submit\" value=\"Predict\">\n",
        "    </form>\n",
        "</body>\n",
        "</html>"
      ],
      "metadata": {
        "id": "sOEW7_rNyB97"
      },
      "execution_count": null,
      "outputs": []
    },
    {
      "cell_type": "code",
      "source": [
        "# Inside the template folder, create another html file and name it for example (pass.html)\n",
        "<!DOCTYPE html>\n",
        "<html lang=\"en\">\n",
        "<head>\n",
        "    <meta charset=\"UTF-8\">\n",
        "    <meta name=\"viewport\" content=\"width=device-width, initial-scale=1.0\">\n",
        "    <title>Water Potability Prediction Result</title>\n",
        "</head>\n",
        "<body>\n",
        "    <h1>Water Potability Prediction Result</h1>\n",
        "    <p>The predicted potability is: {{ prediction }}</p>\n",
        "</body>\n",
        "</html>"
      ],
      "metadata": {
        "id": "uUkK792jyK2Q"
      },
      "execution_count": null,
      "outputs": []
    },
    {
      "cell_type": "code",
      "source": [
        "# Create your Flask app\n",
        "app = Flask(__name__,template_folder='template')\n",
        "\n",
        "# Load the trained model\n",
        "with open('tree.pkl', 'rb') as file:\n",
        "    model = pickle.load(file)\n",
        "\n",
        "# Column names for the water quality features\n",
        "feature_columns = ['ph', 'Hardness', 'Solids', 'Chloramines', 'Sulfate', 'Conductivity',\n",
        "                   'Organic_carbon', 'Trihalomethanes', 'Turbidity']\n",
        "# Home route\n",
        "@app.route('/')\n",
        "def home():\n",
        "    return render_template('index.html', feature_columns=feature_columns)\n",
        "# Results route\n",
        "@app.route('/predict', methods=['POST'])\n",
        "def predict():\n",
        "        # Get input values from the form\n",
        "        input_data = [float(request.form[column]) for column in feature_columns]\n",
        "\n",
        "        # Make a prediction\n",
        "        prediction = model.predict([input_data])[0]\n",
        "\n",
        "        # Display the prediction\n",
        "        return render_template('pass.html', prediction=prediction)\n",
        "\n",
        "\n",
        "if __name__ == '__main__':\n",
        "    app.run(debug=True)\n"
      ],
      "metadata": {
        "id": "_YgOPWmBxv6R"
      },
      "execution_count": null,
      "outputs": []
    }
  ]
}